{
 "cells": [
  {
   "cell_type": "markdown",
   "metadata": {},
   "source": []
  },
  {
   "cell_type": "markdown",
   "metadata": {},
   "source": [
    "# Introdução\n",
    "\n",
    "## Definição do Problema:\n",
    "Em uma instituição de ensino, são aplicados três formulários aos alunos em diferentes momentos do curso: no início (sentimento inicial), na metade (feedback de andamento) e ao final (feedback geral). O último formulário contém uma questão de grande relevância para a instituição: a indicação do interesse do aluno em estudar outros cursos. Identificar alunos com baixo interesse nessa etapa final é essencial, pois pode sinalizar uma desconexão com o curso ou com a instituição. No entanto, este projeto propõe uma nova abordagem para prever esse comportamento com base nos padrões de respostas dos dois primeiros formulários.\n",
    "\n",
    "## Objetivo:\n",
    "Desenvolver um modelo preditivo capaz de identificar, já na metade do curso, os alunos com maior probabilidade de demonstrar baixo interesse em estudar outros cursos. Essa previsão permitirá ações proativas para aproximar esses alunos, despertar interesse e aumentar a retenção e engajamento com a instituição.\n",
    "\n",
    "---\n",
    "\n",
    "## Descrição do Problema\n",
    "\n",
    "Prever o interesse futuro dos alunos em estudar outros cursos da instituição de ensino apresenta desafios complexos devido à natureza das respostas coletadas e à variabilidade dos padrões de comportamento. Os dados são obtidos através de três formulários aplicados em momentos distintos do curso, compostos principalmente por perguntas de múltipla escolha e duas questões de texto livre. Esses dados devem ser utilizados para identificar padrões de comportamento ao longo do curso que influenciem o interesse declarado ao final.\n",
    "\n",
    "A maioria das respostas está em formatos categóricos, exigindo codificação adequada para que o modelo possa interpretar as informações. Já as respostas em texto livre trazem desafios adicionais, como a necessidade de pré-processamento para extrair significados relevantes, além de lidar com possíveis ruídos ou informações subjetivas. A variabilidade nos níveis de engajamento, contexto pessoal dos alunos e fatores externos que podem não estar capturados nos dados também dificultam a tarefa de previsão.\n",
    "\n",
    "## Outros possíveis problemas incluem:\n",
    "- Dados ausentes ou inconsistentes nos formulários.\n",
    "- Desequilíbrio nas classes de interesse (número de alunos interessados versus desinteressados).\n",
    "- Limitações na quantidade de dados disponíveis, já que a análise depende da aplicação consistente dos formulários ao longo do tempo.\n",
    "- Necessidade de validar se os padrões detectados nos dados históricos se mantêm aplicáveis a novas turmas de alunos.\n",
    "- Influência de variáveis externas não capturadas adequadamente nos formulários, como fatores pessoais dos alunos ou condições externas ao curso que podem impactar seu interesse.\n",
    "\n",
    "---\n",
    "\n",
    "## Tipo de Problema\n",
    "\n",
    "**Descrição:** Este é um problema de classificação supervisionada, onde o objetivo é prever o interesse dos alunos em novos cursos com base nos dados coletados nos dois primeiros formulários (sentimento inicial e feedback de andamento). A saída será binária, indicando se o aluno está \"interessado\" ou \"desinteressado\". Não serão consideradas categorias intermediárias, como \"potencial médio de interesse\".\n",
    "\n",
    "**Considerações:**\n",
    "- A relação entre as respostas dos dois primeiros formulários e o interesse final ainda não está clara e será investigada pelo modelo.\n",
    "- O modelo deverá generalizar bem para novas turmas.\n",
    "- A inclusão do tempo gasto no preenchimento como atributo será testada para verificar sua influência nos resultados.\n",
    "- A inclusão do comentário de texto livre pré-avaliado em processo de linguagem natural já pronta será testada para verificar sua influência nos resultados.\n",
    "\n",
    "---\n",
    "\n",
    "## Premissas e Hipóteses\n",
    "\n",
    "### Premissas:\n",
    "1. As respostas fornecidas nos dois primeiros formulários (sentimento inicial e feedback de andamento) refletem o nível de engajamento dos alunos com o curso.\n",
    "2. Padrões de comportamento identificados nas etapas iniciais e intermediárias do curso podem influenciar o interesse declarado ao final em estudar novos cursos.\n",
    "3. A transformação de dados textuais em valores numéricos simplificados (1, 0, -1) é suficiente para capturar as informações necessárias para o modelo, sem comprometer a qualidade da análise.\n",
    "\n",
    "### Hipóteses:\n",
    "1. Um modelo de machine learning treinado com os dados históricos dos formulários pode identificar padrões que ajudem a prever o interesse futuro dos alunos.\n",
    "2. A qualidade das respostas, como o tempo gasto no preenchimento, pode ser um indicador relevante de engajamento. A classificação do comentário feito pelo aluno também pode ser um indicador relevante de engajamento. Ambos atributos serão testados em conjunto para verificar a influência desses dados.\n",
    "3. Os dados históricos disponíveis são representativos o suficiente para permitir que o modelo generalize para novas turmas com características similares.\n",
    "\n",
    "---\n",
    "\n",
    "## Restrições e Condições\n",
    "\n",
    "### Restrições:\n",
    "1. Todas as respostas foram pré-processadas, transformando respostas de texto longo em valores numéricos: 1 (positivo), 0 (neutro) e -1 (negativo). Isso foi feito para reduzir a complexidade do processamento.\n",
    "2. O modelo não incluirá, neste momento, dados adicionais, como histórico de presença ou desempenho acadêmico.\n",
    "\n",
    "### Condições:\n",
    "1. O modelo será avaliado em dados de turmas anteriores e validado com base em sua eficácia para prever o interesse final dos alunos.\n",
    "2. Embora este projeto seja pontual e parte de uma avaliação de pós-graduação, existe a possibilidade de que o modelo seja atualizado no futuro com novas turmas e informações adicionais.\n",
    "\n",
    "---\n",
    "\n",
    "# Descrição do Dataset\n",
    "\n",
    "Cada entrada no dataset corresponde a um aluno identificado por seu e-mail ou ID único, contendo:\n",
    "- Atributos coletados nos formulários inicial e de andamento, incluindo respostas de múltipla escolha e análise de sentimentos das respostas em texto livre.\n",
    "- Informações adicionais como o tempo gasto no preenchimento de cada formulário.\n",
    "- Atributo alvo, indicando o interesse final do aluno em novos cursos, baseado no formulário de feedback geral (ex.: interessado ou desinteressado).\n",
    "\n",
    "\n",
    "## Seleção de Atributos\n",
    "\n",
    "No formulário de andamento, os seguintes atributos foram excluídos durante o pré-processamento:\n",
    "\n",
    "1. **\"Qual é a sua percepção?1\"**:\n",
    "   - Este atributo foi identificado como um erro de duplicação de outro atributo previamente registrado no formulário.\n",
    "   - Apenas uma instância apresenta resposta nessa coluna, o que demonstra irrelevância para o contexto estudado.\n",
    "\n",
    "2. **\"Liste abaixo o(s) motivo(s):\"**:\n",
    "   - Este atributo é uma resposta justificativa complementar ao atributo **\"Você teve a oportunidade de revisar os conteúdos conforme necessário?\"**, que já contém respostas categóricas suficientes para a análise.\n",
    "   - Em uma análise prévia, observou-se que apenas 28% dos dados possuíam valores preenchidos nesta coluna. Destes, 94% correspondiam à justificativa **\"Falta de tempo\"**, o que reduz a diversidade e a relevância analítica desse atributo.\n",
    "\n",
    "Com base nesses fatores, decidiu-se que ambos os atributos poderiam ser excluídos sem impactar negativamente o desempenho do modelo ou a integridade dos dados analisados.\n",
    "\n",
    "3. **\"e-mail\", \"nome\", \"nome da empresa\", \"existe_algum_aspecto_do_treinamento_que_você_gostaria_de_elogiar,_destacar_ou_sugerir_melhorias?\"**:\n",
    "   - Foram excluídos para manter a confidencialidade dos dados reais utilizados.\n",
    "   - Inclusive o atributo que carregava os comentários, pois havia nomes de professores e cursos.\n",
    "\n",
    "4. **\"Idioma\"**:\n",
    "   - Até o momento, todos os cursos ofertados foram num único idioma, o português. Portanto, essa coluna foi excluída por ter um único valor disponível.\n",
    "\n",
    "5. **Id**:\n",
    "   - Os ids das planilhas indicam as posições que as repostas ocuparam nas planilhas. Não servem de identificadores comuns entre as avaliações. Também foram excluídas.\n",
    "\n",
    "6. **Hora de início** e **Hora de conclusão**\n",
    "   - Se referem o momento inicial do preenchimento do formulário e a conclusão. Depois de criadas as colunas que sintetizam a diferença elas foram excluídas.\n",
    "   - O horário de preenchimento do formulário não será levado em consideração para buscar padrões.\n",
    "\n",
    "Durante a análise dos dados do formulário de feedback final, optou-se por excluir colunas que não seriam utilizadas como saída (output) do modelo. Essas colunas contêm informações que não estariam disponíveis no momento da produção real dos dados, uma vez que o modelo será executado na metade do curso, com parte das informações ainda ocultas.\n",
    "\n",
    "### Entre os atributos analisados, destacam-se:\n",
    "1. **Como você avalia a qualidade geral do curso, incluindo a didática, apresentação do conteúdo e material fornecido?**\n",
    "2. **Você acha que a duração total do curso foi adequada para cobrir os tópicos propostos?**\n",
    "3. **Você conseguiu aplicar ou ver aplicação dos conhecimentos adquiridos durante o curso em seu trabalho ou vida profissional?**\n",
    "4. **Como você avalia seu próprio aprendizado e desenvolvimento ao longo do curso?**\n",
    "5. **Se você tivesse a oportunidade de continuar seu desenvolvimento na ferramenta abordada no curso, quão engajado/animado(a) você ficaria?**\n",
    "6. **Qual é a probabilidade de nos recomendar a um amigo ou colega?**\n",
    "7. **Deixe aqui seu elogio ou crítica sobre o curso.**\n",
    "8. **Caso tenha deixado um depoimento positivo, você nos autoriza a compartilhar em nossas redes sociais?**\n",
    "9. **Se você tivesse a oportunidade de estudar outro curso da ESCOLA, qual seria?**\n",
    "\n",
    "Dessas colunas, decidiu-se prever apenas o atributo **\"Se você tivesse a oportunidade de estudar outro curso da ESCOLA, qual seria?\"** (item 9). \n",
    "\n",
    "**As razões incluem:**\n",
    "- O atributo 1, embora relevante, possui maior peso quando o aluno esteve em contato com todo o conteúdo do curso. Como o modelo será executado na metade do curso, estimar esse valor seria menos confiável, já que metade do conteúdo ainda estaria oculta.\n",
    "- O atributo 6 poderia ser útil para medir a percepção de valor da marca, mas não foi priorizado neste momento.\n",
    "- O atributo 9 oferece uma oportunidade prática de identificar, já na metade do curso, os alunos com menor interesse em outros cursos e possibilitar intervenções estratégicas para promover novos produtos.\n",
    "\n",
    "Essa escolha reflete uma decisão de negócios focada em prever o interesse em outros cursos para guiar ações de engajamento e marketing. Se necessário, ajustes futuros poderão expandir o escopo dos atributos considerados.\n",
    "\n",
    "\n",
    "## Criação de Atributos\n",
    "\n",
    "Durante o pré-processamento, novos atributos foram criados para enriquecer a análise e substituir informações redundantes:\n",
    "\n",
    "1. **Tempo de Resposta**:\n",
    "   - Um novo atributo foi criado para calcular o tempo que cada pessoa levou para submeter as respostas ao formulário, baseado nos campos originais **\"Hora de início\"** e **\"Hora de conclusão\"**.\n",
    "   - Este atributo fornece uma métrica direta do tempo gasto, eliminando a necessidade de manter as duas colunas originais, que foram, portanto, excluídas.\n",
    "\n",
    "2. **Classificação de Texto Livre**:\n",
    "   - Para os campos de texto livre, foi criado um atributo categórico por meio de um modelo de classificação baseado em processamento de linguagem natural, utilizando a biblioteca Hugging Face com a tokenização BERT de base em português. O modelo foi treinado sem grandes esforços, pois não era o foco principal deste projeto.\n",
    "   - O dataset utilizado para o treinamento do modelo foi pessoalmente catalogado, contendo 51 instâncias únicas de dados reais. O processo de validação cruzada (K-Fold) com 5 divisões foi aplicado para garantir uma avaliação robusta e generalizável do modelo. Cada fold do dataset foi treinado e avaliado separadamente, resultando em uma média de desempenho consistente. Com base nos resultados obtidos, o modelo final foi treinado utilizando todos os dados disponíveis, sem avaliação adicional necessária, pois a validação cruzada proporcionou uma avaliação confiável. (O arquivo de treino e classificação dos comentários está disponível em \"./classificacao_texto.ipynb\").\n",
    "   - A nova coluna que foi testada no segundo treinamento passou a se chamar \"avaliacao comentario\"\n",
    "\n",
    "Esses novos atributos foram adicionados com o objetivo de melhorar a qualidade dos dados e reduzir a redundância, tornando o dataset mais eficiente e relevante para o modelo de machine learning."
   ]
  },
  {
   "cell_type": "markdown",
   "metadata": {},
   "source": [
    "---\n",
    "\n",
    "\n",
    "Vou analisar o arquivo atualizado e gerar um novo sumário com base na estrutura. Um momento.\n",
    "\n",
    "### Sumário:\n",
    "\n",
    "- [Introdução](#introdução)\n",
    "  - [Definição do Problema:](#definição-do-problema)\n",
    "  - [Objetivo:](#objetivo)\n",
    "  - [Descrição do Problema](#descrição-do-problema)\n",
    "  - [Outros possíveis problemas incluem:](#outros-possíveis-problemas-incluem)\n",
    "  - [Tipo de Problema](#tipo-de-problema)\n",
    "  - [Premissas e Hipóteses](#premissas-e-hipóteses)\n",
    "    - [Premissas:](#premissas)\n",
    "    - [Hipóteses:](#hipóteses)\n",
    "  - [Restrições e Condições](#restrições-e-condições)\n",
    "    - [Restrições:](#restrições)\n",
    "    - [Condições:](#condições)\n",
    "- [Descrição do Dataset](#descrição-do-dataset)\n",
    "  - [Seleção de Atributos](#seleção-de-atributos)\n",
    "    - [Entre os atributos analisados, destacam-se:](#entre-os-atributos-analisados-destacamse)\n",
    "  - [Criação de Atributos](#criação-de-atributos)\n",
    "- [Sumário](#sumário)\n",
    "- [O projeto](#o-projeto)\n",
    "  - [Gerando novos dados](#gerando-novos-dados)\n",
    "    - [Dados numéricos por perturbação](#dados-numéricos-por-perturbação)\n",
    "    - [Dados categóricos por aleatoriedade](#dados-categóricos-por-aleatoriedade)\n",
    "  - [Cópia do dataset para testes com atributos diferentes](#cópia-do-dataset-para-testes-com-atributos-diferentes)\n",
    "    - [Com atributos parciais](#com-atributos-parciais)\n",
    "      - [KNN](#knn)\n",
    "      - [Árvore de decisão](#árvore-de-decisão)\n",
    "      - [NB](#nb)\n",
    "      - [SVM](#svm)\n",
    "    - [Tabela de Resultados modelos genéricos (Dataset Parcial)](#tabela-de-resultados-modelos-genéricos-dataset-parcial)\n",
    "    - [Análise simplificada](#análise-simplificada)\n",
    "    - [**Resumo de Resultados:**](#resumo-de-resultados)\n",
    "    - [Com atributos totais](#com-atributos-totais)\n",
    "      - [KNN](#knn)\n",
    "      - [Árvore de decisão](#árvore-de-decisão)\n",
    "      - [NB](#nb)\n",
    "      - [SVM](#svm)\n",
    "    - [Tabela de Resultados modelos genéricos (Dataset Total)](#tabela-de-resultados-modelos-genéricos-dataset-total)\n",
    "    - [Análise simplificada](#análise-simplificada)\n",
    "    - [Análise simplificada:](#análise-simplificada)\n",
    "    - [Conclusão:](#conclusão)\n",
    "  - [Comparando os modelos treinados com KNN com dataset parcial e total](#comparando-os-modelos-treinados-com-knn-com-dataset-parcial-e-total)\n",
    "    - [Comparação dos Modelos KNN com Dataset Parcial e Dataset Total:](#comparação-dos-modelos-knn-com-dataset-parcial-e-dataset-total)\n",
    "    - [**Análise:**](#análise)\n",
    "    - [**Conclusão:**](#conclusão)\n",
    "  - [Resumo](#resumo)\n",
    "    - [Testando relações entre atributos e output](#testando-relações-entre-atributos-e-output)\n",
    "    - [Análise Resumida dos Resultados de Remoção dos atributos](#análise-resumida-dos-resultados-de-remoção-dos-atributos)\n",
    "      - [**Dataset Parcial**](#dataset-parcial)\n",
    "      - [**Dataset Total**](#dataset-total)\n",
    "    - [Conclusão](#conclusão)\n",
    "- [Finalizando com teste dos dados reais](#finalizando-com-teste-dos-dados-reais)\n",
    "\n",
    "\n",
    "---"
   ]
  },
  {
   "cell_type": "markdown",
   "metadata": {},
   "source": [
    "# O projeto"
   ]
  },
  {
   "cell_type": "code",
   "execution_count": 57,
   "metadata": {},
   "outputs": [],
   "source": [
    "import pandas as pd\n",
    "import json\n",
    "import matplotlib.pyplot as plt\n",
    "import seaborn as sns\n",
    "import numpy as np\n",
    "from random import choices\n",
    "from sklearn.model_selection import train_test_split\n",
    "from sklearn.metrics import classification_report\n",
    "from sklearn.neighbors import KNeighborsClassifier\n",
    "from sklearn.tree import DecisionTreeClassifier\n",
    "from sklearn.naive_bayes import GaussianNB\n",
    "from sklearn.svm import SVC\n",
    "from sklearn.preprocessing import StandardScaler\n",
    "\n",
    "import warnings"
   ]
  },
  {
   "cell_type": "code",
   "execution_count": 2,
   "metadata": {},
   "outputs": [],
   "source": [
    "dataset = pd.read_csv(\"./datas/dataset_completo.csv\", encoding='utf-8')"
   ]
  },
  {
   "cell_type": "code",
   "execution_count": 3,
   "metadata": {},
   "outputs": [
    {
     "name": "stdout",
     "output_type": "stream",
     "text": [
      "<class 'pandas.core.frame.DataFrame'>\n",
      "RangeIndex: 114 entries, 0 to 113\n",
      "Data columns (total 17 columns):\n",
      " #   Column                                                                                                                                                                 Non-Null Count  Dtype  \n",
      "---  ------                                                                                                                                                                 --------------  -----  \n",
      " 0   antes_de_tudo,_por_favor,_insira_seu_endereço_de_e-mail_abaixo:                                                                                                        114 non-null    object \n",
      " 1   você_acha_que_o_momento_escolhido_para_o_treinamento_é_adequado_para_você?                                                                                             114 non-null    object \n",
      " 2   você_pretende_participar_de_todas_as_aulas?                                                                                                                            114 non-null    object \n",
      " 3   considerando_sua_carga_de_trabalho_atual,_você_acredita_que_a_duração_das_aulas_é_apropriada?                                                                          114 non-null    object \n",
      " 4   considerando_o_início_do_treinamento,_você_sente_que_tem_o_apoio_necessário_de_seus_gestores_e_colegas_para_se_concentrar_no_treinamento_durante_o_horário_das_aulas?  114 non-null    object \n",
      " 5   qual_é_o_seu_nível_de_entusiasmo_em_relação_ao_conteúdo_e_objetivos_deste_treinamento?                                                                                 114 non-null    object \n",
      " 6   como_você_avalia_a_qualidade_da_didática_e_apresentação_do_conteúdo_até_o_momento?                                                                                     114 non-null    object \n",
      " 7   em_relação_ao_tópicos_que_você_acredita_que_podem_ser_melhor_explicados_ou_que_você_sente_dificuldade:                                                                 14 non-null     object \n",
      " 8   você_sente_que_o_tempo_dedicado_a_cada_tópico_é_adequado_para_o_seu_aprendizado?                                                                                       114 non-null    object \n",
      " 9   qual_é_a_sua_percepção?                                                                                                                                                19 non-null     object \n",
      " 10  você_teve_a_oportunidade_de_revisar_os_conteúdos_conforme_necessário?                                                                                                  114 non-null    object \n",
      " 11  como_você_avalia_sua_própria_participação_e_dedicação_durante_o_treinamento_até_agora?                                                                                 114 non-null    object \n",
      " 12  você_está_sendo_solicitado/a_em_outras_tarefas_durante_o_treinamento?_se_sim,_como_isso_está_impactando_sua_experiência_de_aprendizado?                                114 non-null    object \n",
      " 13  se_você_tivesse_a_oportunidade_de_estudar_outro_curso_da_escola,_qual_seria?                                                                                           114 non-null    int64  \n",
      " 14  tempo_form_inicial_seg                                                                                                                                                 114 non-null    float64\n",
      " 15  tempo_form_andamento_seg                                                                                                                                               114 non-null    float64\n",
      " 16  classificacao_comentario                                                                                                                                               56 non-null     object \n",
      "dtypes: float64(2), int64(1), object(14)\n",
      "memory usage: 15.3+ KB\n",
      "None\n"
     ]
    }
   ],
   "source": [
    "print(dataset.info())"
   ]
  },
  {
   "cell_type": "markdown",
   "metadata": {},
   "source": [
    "Com o dataset importado, trocarei os valores de texto por números para facilitar o processamento. Lembrando que as repostas são previstas nas múltiplas escolhas, logo, os valores possíveis são de pequeno alcance bem limitadas."
   ]
  },
  {
   "cell_type": "code",
   "execution_count": 4,
   "metadata": {},
   "outputs": [],
   "source": [
    "with open(\"./valores_mapping.json\", \"r\", encoding=\"utf-8\") as file:\n",
    "    mappings = json.load(file)"
   ]
  },
  {
   "cell_type": "code",
   "execution_count": 5,
   "metadata": {},
   "outputs": [],
   "source": [
    "renomear_colunas = {col: info[\"new_name\"] for col, info in mappings.items()}"
   ]
  },
  {
   "cell_type": "code",
   "execution_count": 6,
   "metadata": {},
   "outputs": [
    {
     "data": {
      "text/plain": [
       "{'você_acha_que_o_momento_escolhido_para_o_treinamento_é_adequado_para_você?': 'avalia_horario_treinamento',\n",
       " 'você_pretende_participar_de_todas_as_aulas?': 'intencao_participacao',\n",
       " 'considerando_sua_carga_de_trabalho_atual,_você_acredita_que_a_duração_das_aulas_é_apropriada?': 'avalia_duracao_aulas',\n",
       " 'considerando_o_início_do_treinamento,_você_sente_que_tem_o_apoio_necessário_de_seus_gestores_e_colegas_para_se_concentrar_no_treinamento_durante_o_horário_das_aulas?': 'tem_suporte_da_equipe',\n",
       " 'qual_é_o_seu_nível_de_entusiasmo_em_relação_ao_conteúdo_e_objetivos_deste_treinamento?': 'possui_entusiasmo',\n",
       " 'como_você_avalia_a_qualidade_da_didática_e_apresentação_do_conteúdo_até_o_momento?': 'avalia_qualidade_didatica',\n",
       " 'em_relação_ao_tópicos_que_você_acredita_que_podem_ser_melhor_explicados_ou_que_você_sente_dificuldade:': 'interage_quando_ha_dificuldade',\n",
       " 'você_sente_que_o_tempo_dedicado_a_cada_tópico_é_adequado_para_o_seu_aprendizado?': 'avalia_tempo_adequado',\n",
       " 'qual_é_a_sua_percepção?': 'poderia_ser_mais_rapido',\n",
       " 'você_teve_a_oportunidade_de_revisar_os_conteúdos_conforme_necessário?': 'revisou_conteudo',\n",
       " 'como_você_avalia_sua_própria_participação_e_dedicação_durante_o_treinamento_até_agora?': 'participacao_propria',\n",
       " 'você_está_sendo_solicitado/a_em_outras_tarefas_durante_o_treinamento?_se_sim,_como_isso_está_impactando_sua_experiência_de_aprendizado?': 'ha_interrupcoes',\n",
       " 'classificacao_comentario': 'classificacao_comentario'}"
      ]
     },
     "execution_count": 6,
     "metadata": {},
     "output_type": "execute_result"
    }
   ],
   "source": [
    "renomear_colunas"
   ]
  },
  {
   "cell_type": "code",
   "execution_count": 7,
   "metadata": {},
   "outputs": [],
   "source": [
    "dataset.rename(columns=renomear_colunas, inplace=True)"
   ]
  },
  {
   "cell_type": "code",
   "execution_count": 8,
   "metadata": {},
   "outputs": [
    {
     "data": {
      "text/plain": [
       "Index(['antes_de_tudo,_por_favor,_insira_seu_endereço_de_e-mail_abaixo:',\n",
       "       'avalia_horario_treinamento', 'intencao_participacao',\n",
       "       'avalia_duracao_aulas', 'tem_suporte_da_equipe', 'possui_entusiasmo',\n",
       "       'avalia_qualidade_didatica', 'interage_quando_ha_dificuldade',\n",
       "       'avalia_tempo_adequado', 'poderia_ser_mais_rapido', 'revisou_conteudo',\n",
       "       'participacao_propria', 'ha_interrupcoes',\n",
       "       'se_você_tivesse_a_oportunidade_de_estudar_outro_curso_da_escola,_qual_seria?',\n",
       "       'tempo_form_inicial_seg', 'tempo_form_andamento_seg',\n",
       "       'classificacao_comentario'],\n",
       "      dtype='object')"
      ]
     },
     "execution_count": 8,
     "metadata": {},
     "output_type": "execute_result"
    }
   ],
   "source": [
    "dataset.columns"
   ]
  },
  {
   "cell_type": "code",
   "execution_count": 9,
   "metadata": {},
   "outputs": [],
   "source": [
    "for old_name, info in mappings.items():\n",
    "    new_name = info[\"new_name\"]\n",
    "    value_map = info[\"values\"]\n",
    "    \n",
    "    if new_name in dataset.columns:\n",
    "        dataset[new_name] = dataset[new_name].map(value_map)"
   ]
  },
  {
   "cell_type": "code",
   "execution_count": 10,
   "metadata": {},
   "outputs": [],
   "source": [
    "interessado_mapping = {\n",
    "    0: -1,\n",
    "    1: 1,\n",
    "    2: 1,\n",
    "    3: 1,\n",
    "    4: 1,\n",
    "    5: 1\n",
    "}"
   ]
  },
  {
   "cell_type": "code",
   "execution_count": 11,
   "metadata": {},
   "outputs": [],
   "source": [
    "dataset[\"se_você_tivesse_a_oportunidade_de_estudar_outro_curso_da_escola,_qual_seria?\"] = dataset[\"se_você_tivesse_a_oportunidade_de_estudar_outro_curso_da_escola,_qual_seria?\"].map(interessado_mapping)"
   ]
  },
  {
   "cell_type": "code",
   "execution_count": 12,
   "metadata": {},
   "outputs": [],
   "source": [
    "dataset.rename(columns={\"se_você_tivesse_a_oportunidade_de_estudar_outro_curso_da_escola,_qual_seria?\": \"interessado\"}, inplace=True)"
   ]
  },
  {
   "cell_type": "code",
   "execution_count": 13,
   "metadata": {},
   "outputs": [
    {
     "data": {
      "text/html": [
       "<div>\n",
       "<style scoped>\n",
       "    .dataframe tbody tr th:only-of-type {\n",
       "        vertical-align: middle;\n",
       "    }\n",
       "\n",
       "    .dataframe tbody tr th {\n",
       "        vertical-align: top;\n",
       "    }\n",
       "\n",
       "    .dataframe thead th {\n",
       "        text-align: right;\n",
       "    }\n",
       "</style>\n",
       "<table border=\"1\" class=\"dataframe\">\n",
       "  <thead>\n",
       "    <tr style=\"text-align: right;\">\n",
       "      <th></th>\n",
       "      <th>antes_de_tudo,_por_favor,_insira_seu_endereço_de_e-mail_abaixo:</th>\n",
       "      <th>avalia_horario_treinamento</th>\n",
       "      <th>intencao_participacao</th>\n",
       "      <th>avalia_duracao_aulas</th>\n",
       "      <th>tem_suporte_da_equipe</th>\n",
       "      <th>possui_entusiasmo</th>\n",
       "      <th>avalia_qualidade_didatica</th>\n",
       "      <th>interage_quando_ha_dificuldade</th>\n",
       "      <th>avalia_tempo_adequado</th>\n",
       "      <th>poderia_ser_mais_rapido</th>\n",
       "      <th>revisou_conteudo</th>\n",
       "      <th>participacao_propria</th>\n",
       "      <th>ha_interrupcoes</th>\n",
       "      <th>interessado</th>\n",
       "      <th>tempo_form_inicial_seg</th>\n",
       "      <th>tempo_form_andamento_seg</th>\n",
       "      <th>classificacao_comentario</th>\n",
       "    </tr>\n",
       "  </thead>\n",
       "  <tbody>\n",
       "    <tr>\n",
       "      <th>0</th>\n",
       "      <td>meuemail104@mail.com</td>\n",
       "      <td>1</td>\n",
       "      <td>1</td>\n",
       "      <td>1</td>\n",
       "      <td>1</td>\n",
       "      <td>1</td>\n",
       "      <td>0</td>\n",
       "      <td>1.0</td>\n",
       "      <td>1</td>\n",
       "      <td>NaN</td>\n",
       "      <td>1</td>\n",
       "      <td>0</td>\n",
       "      <td>0</td>\n",
       "      <td>-1</td>\n",
       "      <td>78.0</td>\n",
       "      <td>296.0</td>\n",
       "      <td>1.0</td>\n",
       "    </tr>\n",
       "    <tr>\n",
       "      <th>1</th>\n",
       "      <td>meuemail52@mail.com</td>\n",
       "      <td>1</td>\n",
       "      <td>1</td>\n",
       "      <td>1</td>\n",
       "      <td>1</td>\n",
       "      <td>1</td>\n",
       "      <td>1</td>\n",
       "      <td>NaN</td>\n",
       "      <td>1</td>\n",
       "      <td>NaN</td>\n",
       "      <td>1</td>\n",
       "      <td>0</td>\n",
       "      <td>0</td>\n",
       "      <td>-1</td>\n",
       "      <td>59.0</td>\n",
       "      <td>1240.0</td>\n",
       "      <td>1.0</td>\n",
       "    </tr>\n",
       "    <tr>\n",
       "      <th>2</th>\n",
       "      <td>meuemail79@mail.com</td>\n",
       "      <td>1</td>\n",
       "      <td>1</td>\n",
       "      <td>0</td>\n",
       "      <td>1</td>\n",
       "      <td>1</td>\n",
       "      <td>1</td>\n",
       "      <td>NaN</td>\n",
       "      <td>1</td>\n",
       "      <td>NaN</td>\n",
       "      <td>1</td>\n",
       "      <td>1</td>\n",
       "      <td>0</td>\n",
       "      <td>-1</td>\n",
       "      <td>44.0</td>\n",
       "      <td>33.0</td>\n",
       "      <td>NaN</td>\n",
       "    </tr>\n",
       "    <tr>\n",
       "      <th>3</th>\n",
       "      <td>meuemail84@mail.com</td>\n",
       "      <td>0</td>\n",
       "      <td>0</td>\n",
       "      <td>-1</td>\n",
       "      <td>1</td>\n",
       "      <td>0</td>\n",
       "      <td>1</td>\n",
       "      <td>NaN</td>\n",
       "      <td>1</td>\n",
       "      <td>NaN</td>\n",
       "      <td>0</td>\n",
       "      <td>1</td>\n",
       "      <td>0</td>\n",
       "      <td>-1</td>\n",
       "      <td>197.0</td>\n",
       "      <td>201.0</td>\n",
       "      <td>NaN</td>\n",
       "    </tr>\n",
       "    <tr>\n",
       "      <th>4</th>\n",
       "      <td>meuemail42@mail.com</td>\n",
       "      <td>1</td>\n",
       "      <td>0</td>\n",
       "      <td>1</td>\n",
       "      <td>1</td>\n",
       "      <td>1</td>\n",
       "      <td>0</td>\n",
       "      <td>1.0</td>\n",
       "      <td>0</td>\n",
       "      <td>-1.0</td>\n",
       "      <td>1</td>\n",
       "      <td>0</td>\n",
       "      <td>0</td>\n",
       "      <td>-1</td>\n",
       "      <td>6018.0</td>\n",
       "      <td>983.0</td>\n",
       "      <td>NaN</td>\n",
       "    </tr>\n",
       "  </tbody>\n",
       "</table>\n",
       "</div>"
      ],
      "text/plain": [
       "  antes_de_tudo,_por_favor,_insira_seu_endereço_de_e-mail_abaixo:  \\\n",
       "0                               meuemail104@mail.com                \n",
       "1                                meuemail52@mail.com                \n",
       "2                                meuemail79@mail.com                \n",
       "3                                meuemail84@mail.com                \n",
       "4                                meuemail42@mail.com                \n",
       "\n",
       "   avalia_horario_treinamento  intencao_participacao  avalia_duracao_aulas  \\\n",
       "0                           1                      1                     1   \n",
       "1                           1                      1                     1   \n",
       "2                           1                      1                     0   \n",
       "3                           0                      0                    -1   \n",
       "4                           1                      0                     1   \n",
       "\n",
       "   tem_suporte_da_equipe  possui_entusiasmo  avalia_qualidade_didatica  \\\n",
       "0                      1                  1                          0   \n",
       "1                      1                  1                          1   \n",
       "2                      1                  1                          1   \n",
       "3                      1                  0                          1   \n",
       "4                      1                  1                          0   \n",
       "\n",
       "   interage_quando_ha_dificuldade  avalia_tempo_adequado  \\\n",
       "0                             1.0                      1   \n",
       "1                             NaN                      1   \n",
       "2                             NaN                      1   \n",
       "3                             NaN                      1   \n",
       "4                             1.0                      0   \n",
       "\n",
       "   poderia_ser_mais_rapido  revisou_conteudo  participacao_propria  \\\n",
       "0                      NaN                 1                     0   \n",
       "1                      NaN                 1                     0   \n",
       "2                      NaN                 1                     1   \n",
       "3                      NaN                 0                     1   \n",
       "4                     -1.0                 1                     0   \n",
       "\n",
       "   ha_interrupcoes  interessado  tempo_form_inicial_seg  \\\n",
       "0                0           -1                    78.0   \n",
       "1                0           -1                    59.0   \n",
       "2                0           -1                    44.0   \n",
       "3                0           -1                   197.0   \n",
       "4                0           -1                  6018.0   \n",
       "\n",
       "   tempo_form_andamento_seg  classificacao_comentario  \n",
       "0                     296.0                       1.0  \n",
       "1                    1240.0                       1.0  \n",
       "2                      33.0                       NaN  \n",
       "3                     201.0                       NaN  \n",
       "4                     983.0                       NaN  "
      ]
     },
     "execution_count": 13,
     "metadata": {},
     "output_type": "execute_result"
    }
   ],
   "source": [
    "dataset.head()"
   ]
  },
  {
   "cell_type": "markdown",
   "metadata": {},
   "source": [
    "Os valores vazios serão preenchidos com 0, neutro."
   ]
  },
  {
   "cell_type": "code",
   "execution_count": 14,
   "metadata": {},
   "outputs": [],
   "source": [
    "dataset.fillna(0, inplace=True)"
   ]
  },
  {
   "cell_type": "code",
   "execution_count": 15,
   "metadata": {},
   "outputs": [],
   "source": [
    "dataset.rename(columns={\"antes_de_tudo,_por_favor,_insira_seu_endereço_de_e-mail_abaixo:\": \"email\"}, inplace=True)"
   ]
  },
  {
   "cell_type": "code",
   "execution_count": 16,
   "metadata": {},
   "outputs": [
    {
     "data": {
      "text/html": [
       "<div>\n",
       "<style scoped>\n",
       "    .dataframe tbody tr th:only-of-type {\n",
       "        vertical-align: middle;\n",
       "    }\n",
       "\n",
       "    .dataframe tbody tr th {\n",
       "        vertical-align: top;\n",
       "    }\n",
       "\n",
       "    .dataframe thead th {\n",
       "        text-align: right;\n",
       "    }\n",
       "</style>\n",
       "<table border=\"1\" class=\"dataframe\">\n",
       "  <thead>\n",
       "    <tr style=\"text-align: right;\">\n",
       "      <th></th>\n",
       "      <th>email</th>\n",
       "      <th>avalia_horario_treinamento</th>\n",
       "      <th>intencao_participacao</th>\n",
       "      <th>avalia_duracao_aulas</th>\n",
       "      <th>tem_suporte_da_equipe</th>\n",
       "      <th>possui_entusiasmo</th>\n",
       "      <th>avalia_qualidade_didatica</th>\n",
       "      <th>interage_quando_ha_dificuldade</th>\n",
       "      <th>avalia_tempo_adequado</th>\n",
       "      <th>poderia_ser_mais_rapido</th>\n",
       "      <th>revisou_conteudo</th>\n",
       "      <th>participacao_propria</th>\n",
       "      <th>ha_interrupcoes</th>\n",
       "      <th>interessado</th>\n",
       "      <th>tempo_form_inicial_seg</th>\n",
       "      <th>tempo_form_andamento_seg</th>\n",
       "      <th>classificacao_comentario</th>\n",
       "    </tr>\n",
       "  </thead>\n",
       "  <tbody>\n",
       "    <tr>\n",
       "      <th>0</th>\n",
       "      <td>meuemail104@mail.com</td>\n",
       "      <td>1</td>\n",
       "      <td>1</td>\n",
       "      <td>1</td>\n",
       "      <td>1</td>\n",
       "      <td>1</td>\n",
       "      <td>0</td>\n",
       "      <td>1.0</td>\n",
       "      <td>1</td>\n",
       "      <td>0.0</td>\n",
       "      <td>1</td>\n",
       "      <td>0</td>\n",
       "      <td>0</td>\n",
       "      <td>-1</td>\n",
       "      <td>78.0</td>\n",
       "      <td>296.0</td>\n",
       "      <td>1.0</td>\n",
       "    </tr>\n",
       "    <tr>\n",
       "      <th>1</th>\n",
       "      <td>meuemail52@mail.com</td>\n",
       "      <td>1</td>\n",
       "      <td>1</td>\n",
       "      <td>1</td>\n",
       "      <td>1</td>\n",
       "      <td>1</td>\n",
       "      <td>1</td>\n",
       "      <td>0.0</td>\n",
       "      <td>1</td>\n",
       "      <td>0.0</td>\n",
       "      <td>1</td>\n",
       "      <td>0</td>\n",
       "      <td>0</td>\n",
       "      <td>-1</td>\n",
       "      <td>59.0</td>\n",
       "      <td>1240.0</td>\n",
       "      <td>1.0</td>\n",
       "    </tr>\n",
       "    <tr>\n",
       "      <th>2</th>\n",
       "      <td>meuemail79@mail.com</td>\n",
       "      <td>1</td>\n",
       "      <td>1</td>\n",
       "      <td>0</td>\n",
       "      <td>1</td>\n",
       "      <td>1</td>\n",
       "      <td>1</td>\n",
       "      <td>0.0</td>\n",
       "      <td>1</td>\n",
       "      <td>0.0</td>\n",
       "      <td>1</td>\n",
       "      <td>1</td>\n",
       "      <td>0</td>\n",
       "      <td>-1</td>\n",
       "      <td>44.0</td>\n",
       "      <td>33.0</td>\n",
       "      <td>0.0</td>\n",
       "    </tr>\n",
       "    <tr>\n",
       "      <th>3</th>\n",
       "      <td>meuemail84@mail.com</td>\n",
       "      <td>0</td>\n",
       "      <td>0</td>\n",
       "      <td>-1</td>\n",
       "      <td>1</td>\n",
       "      <td>0</td>\n",
       "      <td>1</td>\n",
       "      <td>0.0</td>\n",
       "      <td>1</td>\n",
       "      <td>0.0</td>\n",
       "      <td>0</td>\n",
       "      <td>1</td>\n",
       "      <td>0</td>\n",
       "      <td>-1</td>\n",
       "      <td>197.0</td>\n",
       "      <td>201.0</td>\n",
       "      <td>0.0</td>\n",
       "    </tr>\n",
       "    <tr>\n",
       "      <th>4</th>\n",
       "      <td>meuemail42@mail.com</td>\n",
       "      <td>1</td>\n",
       "      <td>0</td>\n",
       "      <td>1</td>\n",
       "      <td>1</td>\n",
       "      <td>1</td>\n",
       "      <td>0</td>\n",
       "      <td>1.0</td>\n",
       "      <td>0</td>\n",
       "      <td>-1.0</td>\n",
       "      <td>1</td>\n",
       "      <td>0</td>\n",
       "      <td>0</td>\n",
       "      <td>-1</td>\n",
       "      <td>6018.0</td>\n",
       "      <td>983.0</td>\n",
       "      <td>0.0</td>\n",
       "    </tr>\n",
       "  </tbody>\n",
       "</table>\n",
       "</div>"
      ],
      "text/plain": [
       "                  email  avalia_horario_treinamento  intencao_participacao  \\\n",
       "0  meuemail104@mail.com                           1                      1   \n",
       "1   meuemail52@mail.com                           1                      1   \n",
       "2   meuemail79@mail.com                           1                      1   \n",
       "3   meuemail84@mail.com                           0                      0   \n",
       "4   meuemail42@mail.com                           1                      0   \n",
       "\n",
       "   avalia_duracao_aulas  tem_suporte_da_equipe  possui_entusiasmo  \\\n",
       "0                     1                      1                  1   \n",
       "1                     1                      1                  1   \n",
       "2                     0                      1                  1   \n",
       "3                    -1                      1                  0   \n",
       "4                     1                      1                  1   \n",
       "\n",
       "   avalia_qualidade_didatica  interage_quando_ha_dificuldade  \\\n",
       "0                          0                             1.0   \n",
       "1                          1                             0.0   \n",
       "2                          1                             0.0   \n",
       "3                          1                             0.0   \n",
       "4                          0                             1.0   \n",
       "\n",
       "   avalia_tempo_adequado  poderia_ser_mais_rapido  revisou_conteudo  \\\n",
       "0                      1                      0.0                 1   \n",
       "1                      1                      0.0                 1   \n",
       "2                      1                      0.0                 1   \n",
       "3                      1                      0.0                 0   \n",
       "4                      0                     -1.0                 1   \n",
       "\n",
       "   participacao_propria  ha_interrupcoes  interessado  tempo_form_inicial_seg  \\\n",
       "0                     0                0           -1                    78.0   \n",
       "1                     0                0           -1                    59.0   \n",
       "2                     1                0           -1                    44.0   \n",
       "3                     1                0           -1                   197.0   \n",
       "4                     0                0           -1                  6018.0   \n",
       "\n",
       "   tempo_form_andamento_seg  classificacao_comentario  \n",
       "0                     296.0                       1.0  \n",
       "1                    1240.0                       1.0  \n",
       "2                      33.0                       0.0  \n",
       "3                     201.0                       0.0  \n",
       "4                     983.0                       0.0  "
      ]
     },
     "execution_count": 16,
     "metadata": {},
     "output_type": "execute_result"
    }
   ],
   "source": [
    "dataset.head()"
   ]
  },
  {
   "cell_type": "code",
   "execution_count": 17,
   "metadata": {},
   "outputs": [],
   "source": [
    "frequencia_colunas = dataset.columns.difference([\"email\", \"tempo_form_inicial_seg\", \"tempo_form_andamento_seg\"])"
   ]
  },
  {
   "cell_type": "markdown",
   "metadata": {},
   "source": [
    "Após a omissão das colunas de e-mail e tempo, será possível ver a frequência de ocorrência dos valores pelas colunas."
   ]
  },
  {
   "cell_type": "code",
   "execution_count": 18,
   "metadata": {},
   "outputs": [],
   "source": [
    "sns.set(style=\"whitegrid\")"
   ]
  },
  {
   "cell_type": "code",
   "execution_count": 19,
   "metadata": {},
   "outputs": [
    {
     "name": "stderr",
     "output_type": "stream",
     "text": [
      "C:\\Users\\iqued\\AppData\\Local\\Temp\\ipykernel_6536\\1752570435.py:11: UserWarning: set_ticklabels() should only be used with a fixed number of ticks, i.e. after set_ticks() or using a FixedLocator.\n",
      "  ax.set_xticklabels([legenda[val] for val in sorted(dataset[col].unique())])\n"
     ]
    },
    {
     "data": {
      "image/png": "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",
      "text/plain": [
       "<Figure size 800x400 with 1 Axes>"
      ]
     },
     "metadata": {},
     "output_type": "display_data"
    },
    {
     "name": "stderr",
     "output_type": "stream",
     "text": [
      "C:\\Users\\iqued\\AppData\\Local\\Temp\\ipykernel_6536\\1752570435.py:11: UserWarning: set_ticklabels() should only be used with a fixed number of ticks, i.e. after set_ticks() or using a FixedLocator.\n",
      "  ax.set_xticklabels([legenda[val] for val in sorted(dataset[col].unique())])\n"
     ]
    },
    {
     "data": {
      "image/png": "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",
      "text/plain": [
       "<Figure size 800x400 with 1 Axes>"
      ]
     },
     "metadata": {},
     "output_type": "display_data"
    },
    {
     "name": "stderr",
     "output_type": "stream",
     "text": [
      "C:\\Users\\iqued\\AppData\\Local\\Temp\\ipykernel_6536\\1752570435.py:11: UserWarning: set_ticklabels() should only be used with a fixed number of ticks, i.e. after set_ticks() or using a FixedLocator.\n",
      "  ax.set_xticklabels([legenda[val] for val in sorted(dataset[col].unique())])\n"
     ]
    },
    {
     "data": {
      "image/png": "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",
      "text/plain": [
       "<Figure size 800x400 with 1 Axes>"
      ]
     },
     "metadata": {},
     "output_type": "display_data"
    },
    {
     "name": "stderr",
     "output_type": "stream",
     "text": [
      "C:\\Users\\iqued\\AppData\\Local\\Temp\\ipykernel_6536\\1752570435.py:11: UserWarning: set_ticklabels() should only be used with a fixed number of ticks, i.e. after set_ticks() or using a FixedLocator.\n",
      "  ax.set_xticklabels([legenda[val] for val in sorted(dataset[col].unique())])\n"
     ]
    },
    {
     "data": {
      "image/png": "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",
      "text/plain": [
       "<Figure size 800x400 with 1 Axes>"
      ]
     },
     "metadata": {},
     "output_type": "display_data"
    },
    {
     "name": "stderr",
     "output_type": "stream",
     "text": [
      "C:\\Users\\iqued\\AppData\\Local\\Temp\\ipykernel_6536\\1752570435.py:11: UserWarning: set_ticklabels() should only be used with a fixed number of ticks, i.e. after set_ticks() or using a FixedLocator.\n",
      "  ax.set_xticklabels([legenda[val] for val in sorted(dataset[col].unique())])\n"
     ]
    },
    {
     "data": {
      "image/png": "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",
      "text/plain": [
       "<Figure size 800x400 with 1 Axes>"
      ]
     },
     "metadata": {},
     "output_type": "display_data"
    },
    {
     "name": "stderr",
     "output_type": "stream",
     "text": [
      "C:\\Users\\iqued\\AppData\\Local\\Temp\\ipykernel_6536\\1752570435.py:11: UserWarning: set_ticklabels() should only be used with a fixed number of ticks, i.e. after set_ticks() or using a FixedLocator.\n",
      "  ax.set_xticklabels([legenda[val] for val in sorted(dataset[col].unique())])\n"
     ]
    },
    {
     "data": {
      "image/png": "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",
      "text/plain": [
       "<Figure size 800x400 with 1 Axes>"
      ]
     },
     "metadata": {},
     "output_type": "display_data"
    },
    {
     "name": "stderr",
     "output_type": "stream",
     "text": [
      "C:\\Users\\iqued\\AppData\\Local\\Temp\\ipykernel_6536\\1752570435.py:11: UserWarning: set_ticklabels() should only be used with a fixed number of ticks, i.e. after set_ticks() or using a FixedLocator.\n",
      "  ax.set_xticklabels([legenda[val] for val in sorted(dataset[col].unique())])\n"
     ]
    },
    {
     "data": {
      "image/png": "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",
      "text/plain": [
       "<Figure size 800x400 with 1 Axes>"
      ]
     },
     "metadata": {},
     "output_type": "display_data"
    },
    {
     "name": "stderr",
     "output_type": "stream",
     "text": [
      "C:\\Users\\iqued\\AppData\\Local\\Temp\\ipykernel_6536\\1752570435.py:11: UserWarning: set_ticklabels() should only be used with a fixed number of ticks, i.e. after set_ticks() or using a FixedLocator.\n",
      "  ax.set_xticklabels([legenda[val] for val in sorted(dataset[col].unique())])\n"
     ]
    },
    {
     "data": {
      "image/png": "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",
      "text/plain": [
       "<Figure size 800x400 with 1 Axes>"
      ]
     },
     "metadata": {},
     "output_type": "display_data"
    },
    {
     "name": "stderr",
     "output_type": "stream",
     "text": [
      "C:\\Users\\iqued\\AppData\\Local\\Temp\\ipykernel_6536\\1752570435.py:11: UserWarning: set_ticklabels() should only be used with a fixed number of ticks, i.e. after set_ticks() or using a FixedLocator.\n",
      "  ax.set_xticklabels([legenda[val] for val in sorted(dataset[col].unique())])\n"
     ]
    },
    {
     "data": {
      "image/png": "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",
      "text/plain": [
       "<Figure size 800x400 with 1 Axes>"
      ]
     },
     "metadata": {},
     "output_type": "display_data"
    },
    {
     "name": "stderr",
     "output_type": "stream",
     "text": [
      "C:\\Users\\iqued\\AppData\\Local\\Temp\\ipykernel_6536\\1752570435.py:11: UserWarning: set_ticklabels() should only be used with a fixed number of ticks, i.e. after set_ticks() or using a FixedLocator.\n",
      "  ax.set_xticklabels([legenda[val] for val in sorted(dataset[col].unique())])\n"
     ]
    },
    {
     "data": {
      "image/png": "iVBORw0KGgoAAAANSUhEUgAAAxAAAAF/CAYAAADZxC9bAAAAOXRFWHRTb2Z0d2FyZQBNYXRwbG90bGliIHZlcnNpb24zLjkuNCwgaHR0cHM6Ly9tYXRwbG90bGliLm9yZy8ekN5oAAAACXBIWXMAAA9hAAAPYQGoP6dpAABM5klEQVR4nO3deVhUdf//8dcgICC4hAulaQiJmrK4IG6plOZdbmSZuaW5477bbeWeZm65r2nmvuCSZnZrpffd1w1Ns1vMUNI0FVHcAgVhfn/4Y25HUA8jOCjPx3V51Zz1fc7MYc5rzud8jslsNpsFAAAAAAY42LsAAAAAAE8OAgQAAAAAwwgQAAAAAAwjQAAAAAAwjAABAAAAwDACBAAAAADDCBAAAAAADCNAAAAAADCMAAE8QXjuI4C78TcBgD0QIIAs0rZtW/n5+Vn+lS1bVkFBQXrzzTe1ZMkS3b5922r60NBQDR061PDyd+zYoSFDhjx0uqFDhyo0NNTm9dxPRESE/Pz8dObMGcPzfPvtt6pWrZrKli2r8uXLq1y5cvroo48euZb7adu2rdq2bZtty89Ke/fulZ+fn/bu3WvvUp5ofn5+mj59ur3LkPS/9zQiIuKxrO/333/Xu+++azUss/sjJ+2/3Cqzf7fOnDnD+wa7c7R3AcDTpHz58ho+fLgkKSUlRVevXtWuXbs0btw4RUZGaurUqXJwuJPbZ8yYIXd3d8PLXrx4saHpwsPD1a5du0zX/jB169bVqlWrVLRoUcPzBAYGavHixUpOTpazs7Py5cun559/PstrA3ICk8lk9d/s9u233+rnn3+2GrZq1Sp5eXkZXkZmp0fWS/vOMOpxf86AjBAggCzk7u6uwMBAq2GhoaEqXbq0xo4dq82bN6tJkyaS7oSN7FCyZMlsWe4zzzyjZ555JlPzeHl5cXKCXKNIkSKSpGLFitmthnv//mT19Mh6vr6+mZq+cOHCcnBwsOvnDKAJE/AYtGnTRsWKFdPKlSstw+5tWpQWLvz9/RUSEqKBAwfqwoULku5c4t63b5/27dtnafaS1lxi5cqVqlevnipVqqSffvopXRMmSUpOTtaYMWNUtWpVValSRUOGDNHly5ct4zO6hH5vE5uMmjDt3LlTLVu2VGBgoGrVqqXhw4fr+vXrlvH79+9Xx44dVbVqVVWoUEGhoaGaPn26UlNTLdNcv35d48aN06uvvqqKFSuqUaNGWrt27UP36V9//aWePXuqcuXKqlmzphYtWpRumpSUFC1btkyNGzeWv7+/6tatq4kTJ+rWrVuWaS5fvqwBAwaoZs2aqlixopo2baoNGzbcd71z5sxRhQoVdPXqVavhixcv1ksvvaRLly4Z3vZ7HTlyRB07dlS1atVUqVIldevWTb///rtl/P3ec0mKjIxUmzZtFBAQoODg4HTvcWpqqqZMmaLQ0FBLPZMmTVJycvJ965k+fbrq16+vH3/8UY0bN1aFChX02muvpds/x44dU8+ePRUSEqKXXnpJtWvX1pgxY3Tz5s37LluSTp48qZ49eyo4OFhVq1ZV165ddeLECcv4zH427tfM7t5jzc/PT8uWLdOwYcMUHBysoKAg9enTR3FxcZZpUlJSNG/ePDVq1Ej+/v4KDAxUy5YttWfPnvuuv1SpUsqbN6/8/Pwk3Tmuhg4dqjlz5qhGjRqqXLmywsPDdfbsWav5tm/frlatWikoKEgVKlRQw4YNtWzZMsv4jN73li1basaMGZbtSWvOcm/TltjYWA0ZMkTVq1dXUFCQ2rRpY3XV4u7p09bzn//8R61bt5a/v78aNGig5cuXW9V7+fJljRw5UvXq1VOFChUUHBysHj16pNvvGzZsUFhYmAICAlS3bl1NmjRJSUlJhrc7rf4PPvhAderUkb+/v9566y3t2LHjvu/B/Rh5L9I+7zNmzFBwcLBq1aqlq1evGvo7MnToULVt21Zr165VvXr1FBQUpPfee0/Hjh2zTBMREaHy5ctrzZo1qlmzpoKDgxUdHZ3u7+/D9m/evHlVsmRJy+cMsAeuQACPgYODg6pXr64tW7bo9u3bcnS0PvQOHDigwYMHKzw8XFWrVtX58+f12WefacCAAVq6dKmGDx+uQYMGSbpzudvX11f//e9/Jd1pCvXhhx/q5s2bCgoK0tdff51u/Vu3blVAQIDGjx+vy5cva+LEiYqOjtbq1auVJ08em7bphx9+UPfu3fXqq6/q888/V3x8vCZMmKC//vpL8+fP17Fjx9S+fXs1bNhQU6ZMkdls1tdff60ZM2aodOnSeuONN3Tz5k21atVKly5dUu/evVW8eHFt375dw4YNU1xcnLp165bhuhMSEtSmTRs5Ojpq9OjRcnBw0LRp03T69GkFBQVZpvv444+1ceNGde7cWVWqVNHRo0c1c+ZMRUVFacGCBTKZTBo0aJAuXbqkkSNHyt3dXRs3btSQIUPk5eWlkJCQdOtu3Lixpk6dqu+++05vv/22ZfiWLVtUq1YteXp6Gtr2e+3Zs0edOnVStWrV9Mknn+jWrVuaO3euWrZsqdWrV8vHx8cy7b3v+f79+9WhQweFhIRo6tSpunr1qj7//HO1a9dOa9eulYuLi+bPn68VK1ZoyJAhev7553X48GFNmTJFTk5O6t27933f54sXL2rUqFHq3r27ihcvroULF2rIkCGqWLGifHx8FBsbq9atWyswMFDjx4+Xs7Ozdu3apUWLFqlo0aLq0qVLhsu9cOGC3nnnHRUrVkwjRoyQm5ubpk+frvfee0+bN2+Wi4uLTZ8No6ZMmaL69etr8uTJ+vPPPzVu3DjlyZNHkydPliRNnDhRK1as0IABA+Tn56cLFy5o5syZ6tOnj3788Ue5urqmW6aDg4N++eUXq2E7duxQoUKF9OGHHyo1NVWTJk1S27ZttWXLFrm6uurHH39Ujx491K5dO/Xq1Us3b97U8uXLNWrUKFWoUEEBAQGWZd39vletWlWzZs3S2rVr79sM6e+//9a7776rlJQUDRo0SMWKFdMXX3yh999/X+vXr9cLL7yQ4b7p16+fmjVrpm7dumnHjh0aOXKkJKlVq1Yym83q2rWrrl69qoEDB6pw4cL67bffNHXqVA0fPlwLFy6UJC1btkyjRo3S22+/rf79++vPP//UhAkTdPXqVY0aNcrQdsfFxemtt95S3rx51a9fPxUqVEgRERHq0aOHJkyYYLmaa9TD3gvpzg8TO3fu1JQpU3TlyhUVKFBAw4YNe+jfEUmKiorSyZMn1b9/fxUoUEDTpk1TmzZt9M0331iafqakpOiLL77Q2LFjFR8fb3VcSzK8f7dt25apbQeyGgECeEwKFy6s5ORkXblyRYULF7Yad+DAAbm4uKhLly5ydnaWJBUsWFBHjhyR2WyWr6+v5X6Je5sctGrVSg0bNnzgugsVKqSFCxfKzc3N8rpHjx7atWuX6tWrZ9P2TJ8+XeXKldP06dMtX6DOzs76/PPPdfnyZR07dkw1atTQZ599Zrnvo2bNmvr++++1d+9evfHGG4qIiNDx48e1cuVKy4l/7dq1dfv2bc2aNUstW7ZUwYIF0617/fr1+uuvv7R582bL5f+AgADVr1/fMk10dLTWrl2rAQMGWE5ia9asqaJFi2rw4MHatWuX6tSpo3379qlHjx569dVXJUnBwcEqWLCg5X24V/HixVW1alVt3rzZEiBOnz6tX375RVOmTJEkQ9t+r0mTJqlUqVKaN2+eJdTVqlVL9evX17Rp0/T5559bpr33PZ80aZK8vb01d+5cy7wBAQF64403tG7dOrVu3Vr79u1ThQoV1Lx5c8t2urq6ysPD4z7v8B2JiYkaO3asqlevLkl64YUXVK9ePe3cuVM+Pj46fvy4ypUrp88//9zyGa1Ro4Z++ukn7d27974BYvHixUpKStKiRYssTX/Kli2rd999V4cPH9bZs2dt+mwYVaZMGY0bN87y+pdfftG3335reR0bG6t+/fpZ/TKcN29e9erVS7/99pvhpj+JiYmKiIiw3PtTunRphYWFacOGDXr33XcVHR2tsLAwDRs2zDJPUFCQqlWrpr1791oFiHvf97TQcL9a1q9fr7Nnz2r9+vUqV66cJKlSpUpq1qyZ9u/ff98AUb9+fUs9tWvXVmxsrGbNmqV3331XsbGxcnV11ZAhQ1SlShVJUrVq1XT69GmtWrVK0p2rXTNnztSrr76qMWPGWO2LLVu2KDk52dB2L1q0SJcvX9a2bdtUvHhxSVKdOnXUvn17TZgwQY0aNbIcX0Y87L2QpNu3b1ttm9G/I9KdK2Zz5syxzOvv769XX31VS5Ys0cCBAy11dOvWTXXr1s2wRiP7F8gJCBDAY5LW3WJGN75VrVpVU6ZMUaNGjfTaa6+pTp06qlWrluWL6UHSTgwepE6dOpbwIN1p0uHo6Kj9+/fbFCBu3rypo0ePqlevXlbb8/rrr+v111+XJDVr1kzNmjXTrVu3FBMTo1OnTikqKkopKSmWZjP79u1T8eLFra4aSFKTJk20du1aHT58OMN9EBkZqZIlS1q1HX722WetTqT27dsnSelO1t944w198MEH2rt3r+rUqaNq1app+vTpOnr0qGrXrq06deo8tLerJk2aaPjw4bp48aKKFCmiLVu2yN3d3dJ0zMi23y0hIUFHjhxRz549ra4I5c+f33Kyfre73/PExEQdPnxYHTt2lNlstvT29fzzz8vHx0c//fSTWrdurWrVqmnSpElq1aqVQkNDVbduXbVp0+aB25nm7v2adtKakJAg6U7IqVWrluWk8NSpUzp+/LguX778wBP8AwcOKDAw0BIe0pb9ww8/SJL69u1r02fDqHtPur28vJSYmGh5PWnSJEl3mpOcPHlSp06dstR2dzOch6lUqZJVxwHly5fX888/r/379+vdd99Vp06dJN25WhATE6PTp0/ryJEjGa7HyLF+twMHDqhEiRJW87m6uj701+uwsDCr1w0aNNCOHTsUExOj0qVLa8mSJTKbzTpz5oxOnTqlkydP6uDBg5Z6Y2JidOnSJatAL0kdO3ZUx44dJcnQdu/bt09BQUGW8JCmSZMm+uCDD3Ty5MlM3T/wsPcizd37y+jfEUkqUaKE5aRfkooWLWq5Qni3B72PxYoVe+j+BXICAgTwmFy4cEEuLi4ZnlQFBQVp3rx5Wrx4sRYtWqR58+apcOHC6tat20O797s7GNzP3Sdp0p2mFoUKFdK1a9cytQ1prl69KrPZLE9Pz/tOc/PmTY0ePVobN27U7du3VaJECQUFBcnR0dESpq5evZquNkmWKzT3q+/q1asqVKhQuuFFihSxtGNPu0fh3uU7OjqqUKFClns1pkyZojlz5mjr1q3atm2bHBwcVKNGDY0aNSrdiUuahg0bavTo0dq6davatWunLVu26LXXXpOLi4vhbb/b9evXZTab012ZStsXd99XIlm/59euXVNqaqrmz5+v+fPnp5s/b968ku6csOXLl0/r1q3TxIkT9dlnn+nFF1/Uhx9+mGFTrbvd3Vwn7RfftO1ITU3V5MmTtWzZMiUkJOjZZ5+Vv7+/Zb33c+XKFZUoUeK+4239bBh1bxMkBwcHq/fmyJEjGjlypI4cOSJXV1f5+vrqueeek5S5Zy9kdKOrp6en5fN5+fJlDR8+XNu3b5fJZFKpUqUsJ6H3rsfIsX63K1euPPAYNVpz2jLSat60aZMmT56sc+fOqWDBgipXrpzls5+23rvny4iR7b569WqGvbbZ+hl42HuRJl++fJb/N/p35EHLT2tumuZh7+PD9i+QExAggMfg9u3b2rt3rypVqnTfew5q166t2rVrKzExUXv27NGSJUs0ZswYBQQEyN/f/5HWn/aFniYlJUXx8fFWX/ApKSlW06T9wpwRd3d3mUwmq5t0pTu/hu/fv18BAQGaOHGitm3bpqlTp6pGjRqWL820pjCSVKBAAZ06dSrd8i9evChJGYaEtOEZzXf3dhYoUMCyrLuDQHJysuLj4y3L9vDw0KBBgzRo0CCdPHlSO3bs0KxZszRy5EjNmzcvw/V7eHgoNDRUW7duVUhIiH7//Xer51uMHTv2odt+7/JMJpPVTbx374sH/ZKfL18+mUwmtW/fPsOmUWknyg4ODmrdurVat26tS5cuaefOnZozZ4569eqln3766b5Nth4mLfiOHDlSDRo0sDSJeuuttx44n4eHR7rPjyTt3r1bJUqUsOmzkXY17N4b1f/++29jG/P/3bhxQ506dZKfn5+2bNmi0qVLy8HBQTt37sx02/P4+Ph0w+Li4iy9pQ0cOFAnT57U4sWLFRQUJGdnZyUmJmr16tWZWk9GPDw8Mnxuy8GDB1WgQIF07e/vrvnu3tzSOgbw9PRUZGSkhgwZorZt26pjx46Wk+YJEybowIEDku5cOZOU7v2Nj4/X0aNHFRQUZGi7CxQoYHm/7/awvw/387D3IiNG/448aPmZCXFG9i+QE9ALE/AYrFq1ShcvXkz30Kc0n376qZo3by6z2SxXV1fVq1fP0ozmr7/+kqRMtfW9108//WT1ILtt27bp9u3bqlatmqQ7geD8+fNW8zzoyypfvnwqV66cpUlHml27dqlz586Ki4vTgQMHVK1aNb366quWE+hff/1Vly9ftpzgVa1aVWfPnk3Xl/2mTZvk5OR03+AUEhKiM2fOWJo8SHdOVg4dOmR5HRwcLOnOzc1327Jli1JSUlS5cmWdPXtWderUsbR9L126tDp37qwaNWpY9vv9NG3aVIcOHdKKFSv03HPPWdYnydC2383NzU0VKlTQ1q1brYLc9evX9eOPP6py5cr3rcPd3V3ly5fXyZMnVbFiRcu/F198UdOnT7f0otWyZUtLe3RPT0+9+eabat26ta5du6YbN248cFsf5MCBA/L19VXz5s0t4eHChQs6fvz4A3ucqlKlig4fPmx1knnp0iV16tRJO3futOmzkXYPxt2f5RMnTqQL0A9z8uRJXblyRe3atZOvr6/l2Nu1a5ek9AHlQQ4cOGB1Yvnrr7/qzJkzljB54MABNWjQQNWqVbOEOKPredjfhCpVqujPP/+06snr1q1b6tWr1wN7s9q+fbvV62+//VbFixdXyZIl9fPPPys1NVW9evWynNympKTo//7v/yw1ly5dWoUKFUr392Hjxo3q0qWLkpOTDW131apV9fPPP6frtWrTpk0qUqSISpUq9cDtv9fD3ouMGPk7kuaPP/6w6kXswoUL+vnnnx+4/HsZ2b9ATsAVCCAL3bhxw3ISm5qaqvj4eP3nP//RqlWr1KRJEzVo0CDD+UJCQrRo0SINHTpUTZo0UXJyshYsWKCCBQtampfkz59fP//8s3bv3p3pZ0hcvHhRvXr1Utu2bfXHH39o8uTJqlmzpuWLrV69evr+++81btw4hYaGKjIy8oFdmUpS79691b17d/Xv31/NmjVTXFycJk+erAYNGsjHx0f+/v7aunWrVqxYIR8fHx07dkyzZ8+WyWSytDV/8803tXz5cvXo0UO9e/dWiRIl9P3332vdunXq2bOn5ZfMezVt2lRLlixRz5491a9fP7m7u2v27NlWX66+vr4KCwvTtGnTlJiYqKpVqyoqKkozZsxQtWrVVLt2bTk4OMjLy0tjxozRjRs3VLJkSf3666/auXOnunbt+sDtr127tgoWLKhVq1apU6dOVveCGNn2ew0YMEAdO3ZUly5d1KpVKyUnJ2vevHlKSkpSjx49HlhL//791aVLFw0YMEBNmjSx9PRy+PBhhYeHS7pzMvbFF1+ocOHCCgoK0oULF7Ro0SIFBwdn+vked/P399esWbM0b948BQYG6tSpU5o7d66SkpLuu62S1L59e23YsEGdOnVS165d5eTkpNmzZ8vLy0uNGzeWs7Nzpj8b1apVk4uLi8aPH68+ffro77//1rRp0zJ9s7W3t7fc3d01Z84cOTo6ytHRUdu2bbOcdD9ou+6VmJioTp06qXv37vr77781ZcoUlSlTRo0aNbLsv6+//lovvfSSvLy8dPDgQc2bN++Bn5U0aftg8+bNCggISNfc580339RXX32l7t27q3fv3ipUqJCWLFmi5ORktWrV6r7LXbRokfLmzavAwEB99913+uGHHyz3hKQFt1GjRql58+a6evWqli1bZumuNCEhQe7u7urVq5dGjRolT09PhYaGKiYmRtOmTVPr1q1VoEABQ9vdoUMHbdq0Se3bt1fPnj1VsGBBbdiwQXv27NEnn3yS6R9VHvZeZMTI35E0ZrNZ3bp1U79+/ZQnTx7NmDFDBQoUyNRTpo3uX8DeCBBAFjp69KjeeecdSXeaU+TLl09lypTRiBEjrLr8vFedOnU0ceJEffHFF+rZs6dMJpMqV66sJUuWWE5+WrdurV9//VWdO3fWuHHjMvVE6FatWun69evq0aOHnJ2d1bhxYw0aNMhy0tu8eXOdPn1a69ev18qVK1W1alVNmzbtvldMpDuhY86cORo/fry2bNmiYsWKqXHjxurVq5ekO/2iJycna+rUqUpKSlKJEiXUvXt3RUdH6/vvv1dKSopcXV311VdfadKkSfr8889148YNy0P3HtQExtnZWV9++aU++eQTjR07ViaTSS1atNDzzz9vaW4h3WlKVKpUKa1bt07z589X0aJF1a5dO4WHh1s9EXzy5MmWrmifffZZ9ezZ8769B6VxdHTUG2+8oa+++ipdd5JGtv1e1atX16JFizRt2jT1799fzs7OqlKlij799FO9+OKLD6ylVq1aWrhwoWbMmKHevXvLyclJL730khYtWmS5WbhPnz5ydnbWunXrNHPmTEszrAEDBjxw2Q/TtWtXxcfHa8mSJZo5c6aeffZZNW3aVCaTSXPnztW1a9cyPNl/9tlntXz5cn322WcaOnSonJ2dVa1aNU2ZMsXSbCSzn438+fNr+vTpmjRpknr06KHixYurZ8+eDw3D9/Lw8NCsWbM0YcIE9enTx3LFbenSpercubMiIyPTPWvlfqpUqaKQkBBLb0OhoaEaPHiw5Vf38ePHa/To0Ro9erSkO71cjRw5Ups2bVJkZOQDl92gQQNt3LhRQ4cO1VtvvaURI0ZYjXd3d9fSpUs1YcIEjR49WqmpqQoMDNSSJUse+ET4f/7zn1q/fr3mzp2r0qVLa9q0aXrttdck3QlpH3/8sRYtWqRvv/1WhQsXVrVq1TRjxgz16NFDBw4cUJ06ddS6dWu5ublp4cKFlm5mO3furM6dOxve7iJFimjFihWaNGmSxowZo+TkZJUtW1azZs3SK6+8Ymj/3+1h78X9GPk7IknPPfec3n//fX3yySdKTExUjRo1NHv27EwFWKP7F7A3kzkzd4MBwD127typwYMHq3fv3mrdurW9ywFyjLRfnr/66is7V2LM3r171a5dOy1ZssTSvPFpkd3vxdChQ7Vv3z59//332bJ8IKfhHggANrtx44by58+vVq1aadSoUenaKgNAdknrtvhh//idFMh6NGECYLMjR46oa9eucnV1VceOHe/b7SkAZLX169frgw8+eOh0S5YseQzVALkLTZgAAMATJz4+PsNuau+VdlM8gKxDgAAAAABgGPdAAAAAADAs190D8fPPP8tsNsvJycnepQAAAAA5QnJyskwmk4KCgh46ba4LEGazmR4ZAAAAgLtk5vw41wWItCsPFStWtHMlAAAAQM5w5MgRw9NyDwQAAAAAw+weIG7fvq3PP/9c9erVU1BQkFq3bq1Dhw5ZxkdFRalNmzYKDAxUaGgo/TkDAAAAdmT3ADF79mytWbNGo0eP1oYNG+Tt7a1OnTopNjZW8fHx6tChg0qWLKl169apR48emjhxotatW2fvsgEAAIBcye73QGzfvl2NGjVSrVq1JElDhw7VmjVrdOjQIcXExMjJyUmjRo2So6OjfHx8dOrUKc2bN0/Nmze3c+UAAABA7mP3KxCenp764YcfdObMGaWkpGjVqlVydnZW2bJlFRkZqeDgYDk6/i/nhISE6I8//lBcXJwdqwYAAAByJ7tfgRg2bJj69OmjV155RXny5JGDg4OmT5+ukiVL6vz58ypTpozV9EWLFpUknTt3ToULF7ZpnWazWQkJCY9cOwAAAPA0MJvNMplMhqa1e4CIjo6Wh4eHZs6cqWLFimnNmjUaOHCgli5dqps3b8rZ2dlq+rx580qSbt26ZfM6k5OTFRUV9Uh1AwAAAE+Te8+778euAeLcuXMaMGCAFi9erCpVqki683yG6OhoTZ8+XS4uLkpKSrKaJy04uLm52bxeJycn+fr62l44AAAA8BSJjo42PK1dA8Thw4eVnJyc7qFuAQEB2rVrl5577jnFxsZajUt7XaxYMZvXazKZHimAAAAAAE8To82XJDvfRO3l5SVJ+u2336yGHz9+XC+88IKqVq2qAwcOKCUlxTJuz5498vb2lqen52OtFQAAAICdA4S/v78qV66sIUOGaM+ePfrjjz80depU7d69W126dFHz5s1148YNDRs2TNHR0YqIiNDixYvVtWtXe5YNAAAA5Foms9lstmcBV69e1dSpU/Xjjz/q6tWrKlOmjPr376/g4GBJ0i+//KKxY8fq6NGjKlKkiN5//321adPG5vUdOXJEktI1mwIAAAByq8ycI9s9QDxuBAgAAADAWmbOke3+IDkAAIDMSjWn2rsE4LHLKZ97uz8HAgAAILMcTA768tclOp9wwd6lAI+Fl1sxvVehnb3LkESAAAAAT6jzCRd05voZe5cB5Do0YQIAAABgGAECAAAAgGEECAAAAACGESAAAAAAGEaAAAAAAGAYAQIAAACAYQQIAAAAAIYRIAAAAAAYRoAAAAAAYBgBAgAAAIBhBAgAAAAAhhEgAAAAABhGgAAAAABgGAECAAAAgGEECAAAAACGESAAAAAAGEaAAAAAAGAYAQIAAACAYQQIAAAAAIYRIAAAAAAYRoAAAAAAYBgBAgAAAIBhBAgAAAAAhhEgAAAAABjmaM+V7927V+3atctwXIkSJbRjxw6dOXNGo0eP1v79++Xm5qa33npLvXr1Up48eR5ztQAAAADsGiCCgoL0n//8x2rYoUOH1KtXL4WHhys5OVkdO3bUCy+8oJUrV+r06dMaNmyYHBwc1Lt3bztVDQAAAORedg0Qzs7OKlKkiOV1QkKCxo0bp7CwMDVv3lybN2/WX3/9pdWrV6tAgQIqU6aMLl26pAkTJqhbt25ydna2Y/UAAABA7mPXAHGvOXPmKDExUUOGDJEkRUZG6qWXXlKBAgUs04SEhOjGjRuKiopSQECATesxm81KSEjIkpoBAMDjZTKZ5Orqau8yALtITEyU2WzO8uWazWaZTCZD0+aYAHH58mUtXrxYAwYMUMGCBSVJ58+fl5eXl9V0RYsWlSSdO3fO5gCRnJysqKioR6oXAADYh6urq8qXL2/vMgC7iImJUWJiYrYs22jrnhwTIJYvXy4PDw+98847lmE3b95U/vz5rabLmzevJOnWrVs2r8vJyUm+vr42zw8AAOzH6K+kwNPI29s7W65AREdHG542xwSIDRs2qFmzZnJxcbEMc3FxUVJSktV0acHBzc3N5nWZTKZHmh8AAACwh+xqvpeZYJ4jngNx7Ngx/fnnn2rcuLHVcC8vL8XGxloNS3tdrFixx1YfAAAAgDtyRICIjIyUp6enypYtazW8atWqOnr0qG7cuGEZtmfPHuXLly/dtAAAAACyX44IEEePHpWfn1+64a+++qqKFCmivn376tixY9q+fbsmT56s999/ny5cAQAAADvIEQHi4sWLlp6X7pY3b14tWLBAqampatGihUaOHKlWrVopPDz88RcJAAAAIGfcRD1//vz7jitVqpS++OKLx1gNAAAAgPvJEVcgAAAAADwZCBAAAAAADCNAAAAAADCMAAEAAADAMAIEAAAAAMMIEAAAAAAMI0AAAAAAMIwAAQAAAMAwAgQAAAAAwwgQAAAAAAwjQAAAAAAwjAABAAAAwDACBAAAAADDCBAAAAAADCNAAAAAADCMAAEAAADAMAIEAAAAAMMIEAAAAAAMI0AAAAAAMIwAAQAAAMAwAgQAAAAAwwgQAAAAAAwjQAAAAAAwjAABAAAAwDACBAAAAADDCBAAAAAADCNAAAAAADAsRwSIDRs26PXXX1fFihX1xhtvaOvWrZZxZ86cUdeuXVWpUiXVqlVLU6dOVUpKih2rBQAAAHIvuweIjRs3atiwYWrdurW2bNmiRo0aqX///vr555+VnJysjh07SpJWrlypESNGaMWKFZo5c6adqwYAAAByJ0d7rtxsNuvzzz9Xu3bt1Lp1a0lS9+7dFRkZqX379uns2bP666+/tHr1ahUoUEBlypTRpUuXNGHCBHXr1k3Ozs72LB8AAADIdewaIGJiYnT27Fk1btzYavjChQslSSNGjNBLL72kAgUKWMaFhIToxo0bioqKUkBAgE3rNZvNSkhIsL1wAABgNyaTSa6urvYuA7CLxMREmc3mLF+u2WyWyWQyNK3dA4QkJSQkqGPHjjp69KhKlCih7t27KzQ0VOfPn5eXl5fVPEWLFpUknTt3zuYAkZycrKioqEcrHgAA2IWrq6vKly9v7zIAu4iJiVFiYmK2LNto6x67BogbN25IkoYMGaKePXtq4MCB2rZtm8LDw7Vo0SLdvHlT+fPnt5onb968kqRbt27ZvF4nJyf5+vraXjgAALAbo7+SAk8jb2/vbLkCER0dbXhauwYIJycnSVLHjh0VFhYmSSpXrpyOHj2qRYsWycXFRUlJSVbzpAUHNzc3m9drMpkeaX4AAADAHrKr+V5mgrlde2EqVqyYJKlMmTJWw319fXXmzBl5eXkpNjbWalza67R5AQAAADw+dg0QL730kvLly6fDhw9bDT9+/LhKliypqlWr6ujRo5amTpK0Z88e5cuXT2XLln3c5QIAAAC5nl0DhIuLizp16qSZM2dq8+bNOn36tGbPnq2ffvpJHTp00KuvvqoiRYqob9++OnbsmLZv367Jkyfr/fffpwtXAAAAwA7seg+EJIWHh8vV1VVTpkzRhQsX5OPjo+nTp6tatWqSpAULFmjkyJFq0aKFChQooFatWik8PNzOVQMAAAC5k90DhCR16NBBHTp0yHBcqVKl9MUXXzzmigAAAABkxK5NmAAAAAA8WQgQAAAAAAwjQAAAAAAwjAABAAAAwDACBAAAAADDCBAAAAAADCNAAAAAADCMAAEAAADAMAIEAAAAAMMIEAAAAAAMI0AAAAAAMIwAAQAAAMAwAgQAAAAAwwgQAAAAAAwjQAAAAAAwjAABAAAAwDACBAAAAADDCBAAAAAADCNAAAAAADCMAAEAAADAMAIEAAAAAMMIEAAAAAAMI0AAAAAAMIwAAQAAAMAwAgQAAAAAwwgQAAAAAAyze4C4cOGC/Pz80v2LiIiQJEVFRalNmzYKDAxUaGiolixZYueKAQAAgNzL0d4FHDt2THnz5tX27dtlMpkswz08PBQfH68OHTooNDRUI0eO1KFDhzRy5Ejly5dPzZs3t2PVAAAAQO5kc4C4deuWfvvtNyUlJclsNkuSUlNTlZiYqMjISA0cONDQco4fP64XXnhBRYsWTTfuyy+/lJOTk0aNGiVHR0f5+Pjo1KlTmjdvHgECAAAAsAObAsTevXvVp08fXb16NcPx+fLlMxwgfvvtN/n4+GQ4LjIyUsHBwXJ0/F+ZISEhmjt3ruLi4lS4cOHMFw8AAADAZjYFiClTpqhQoUIaPXq0Nm3aJAcHB7355pvatWuXVqxYofnz5xte1vHjx1WoUCG1bt1aMTExKlWqlLp3766XX35Z58+fV5kyZaymT7tSce7cOZsDhNlsVkJCgk3zAgAA+zKZTHJ1dbV3GYBdJCYmWlr/ZCWz2Wx1O8GD2BQgfvvtN40ZM0b169fX9evXtXLlStWpU0d16tRRcnKyZs+erXnz5j10Obdv39bJkyfl6+uroUOHyt3dXVu2bFGXLl20aNEi3bx5U87Ozlbz5M2bV9KdJlS2Sk5OVlRUlM3zAwAA+3F1dVX58uXtXQZgFzExMUpMTMyWZd973n0/NgWI1NRUFStWTJJUqlQp/f7775Zxr732moYMGWJs5Y6O2rt3r/LkySMXFxdJUoUKFfT7779r4cKFcnFxUVJSktU8acHBzc3NltIlSU5OTvL19bV5fgAAYD9GfyUFnkbe3t7ZcgUiOjra8LQ2BYiSJUvqt99+U5UqVeTt7a3ExESdPHlSpUuX1u3bt/X3338bXla+fPnSDXvxxRf1n//8R15eXoqNjbUal/Y6LcDYwmQyPVIAAQAAAOwhu5rvZSaY2/QciMaNG2vixIlaunSpnnnmGVWoUEGjR4/W999/r5kzZxr+df/3339XpUqVtHfvXqvhv/76q3x9fVW1alUdOHBAKSkplnF79uyRt7e3PD09bSkdAAAAwCOwKUB06tRJLVu21OHDhyVJw4cPV1RUlMLDw3Xy5EkNHjzY0HJ8fHxUunRpjRo1SpGRkTpx4oTGjRunQ4cOqXv37mrevLlu3LihYcOGKTo6WhEREVq8eLG6du1qS9kAAAAAHpHJnEWNqG7cuGFpxuTu7m54vri4OE2aNEn//ve/de3aNZUvX14DBw5UlSpVJEm//PKLxo4dq6NHj6pIkSJ6//331aZNG5vrPHLkiCSpYsWKNi8DAADY36f7PtOZ62fsXQbwWJTwKKEhwYOybfmZOUfOsidRu7u7y9/fP9PzFS5cWOPGjbvveH9/f61atepRSgMAAACQRQwHiHLlymnVqlXy9/dX2bJlH3ijhclk0tGjR7OkQAAAAAA5h+EA0aNHD0vPRz169KALNQAAACAXMhwgevbsafn/Xr16SZJSUlKUJ08eSXeeinf79m15eHhkcYkAAAAAcgqbemG6ffu2hg8frhYtWliG/fzzz6pevbo+/fRTpaamZlmBAAAAAHIOmwLEtGnTtGnTJjVq1MgyLK33pNWrV2vBggVZViAAAACAnMOmXpi+/vprDRkyRC1btrQMK1iwoNq3by9HR0ctWbJEXbp0ybIiAQAAAOQMNl2BiI+P1/PPP5/huNKlS+v8+fOPVBQAAACAnMmmAFG6dGlt27Ytw3Hff/+9SpUq9UhFAQAAAMiZbGrC1K5dOw0dOlRXrlzRq6++Kk9PT12+fFk//PCDtm7d+sAHwwEAAAB4ctkUIJo1a6a///5bs2bN0nfffWcZXqhQIX300Udq1qxZVtUHAAAAIAexKUBIUuvWrdWqVSvFxMToypUryp8/v0qXLi0HB5taRQEAAAB4AtgcICTJZDKpdOnSWVULAAAAgBzOpgBx+fJljR07Vj/++KMSExNlNputxptMJh09ejRLCgQAAACQc9gUIEaNGqUffvhBb7zxhry8vGi2BAAAAOQSNgWIXbt26Z///KfeeeedrK4HAAAAQA5m06UDJyen+z5IDgAAAMDTy6YAUb9+fW3evDmrawEAAACQw9nUhKl8+fKaOnWq/vzzTwUEBMjFxcVqvMlkUo8ePbKkQAAAAAA5h803UUvS/v37tX///nTjCRAAAADA08mmAHHs2LGsrgMAAADAE+CR+1+9fv26Tpw4oaSkJKWkpGRFTQAAAAByKJsDxN69e/X2228rODhYjRs31u+//64BAwZo/PjxWVkfAAAAgBwkUwHi4MGDOnfunHbv3q2OHTvKxcVFAwcOtDyJumzZslqyZIkWLVqULcUCAAAAsC/DAWLjxo1q3769EhMTNXXqVIWGhuqrr77Se++9ZwkQ3bp1U6dOnbRmzZpsKxgAAACA/RgOECNGjNDkyZNVunRpRUVF6a233pJ0p8elu9WsWVNnz57N2ioBAAAA5AiGA4Srq6tWrFihGzduyMPDQxcvXsxwunPnzsnDwyPLCgQAAACQcxgOEGvXrlV8fLzOnz+vV155RVOmTNGRI0cs400mk86fP685c+aobt262VErAAAAADszHCCee+45LV++XF5eXhowYIA8PT3VokULS1jo37+/GjZsKJPJpP79+9tUTExMjIKCghQREWEZFhUVpTZt2igwMFChoaFasmSJTcsGAAAA8Ogy9SA5FxcXy/+vWbNGGzZs0J49e3TlyhV5eHiobdu2evPNN+Xq6prpQpKTkzVw4EAlJCRYhsXHx6tDhw4KDQ3VyJEjdejQIY0cOVL58uVT8+bNM70OAAAAAI/GpidRS5Kzs7NatGihFi1aZEkh06dPl7u7u9Ww1atXy8nJSaNGjZKjo6N8fHx06tQpzZs3jwABAAAA2IFNAWLDhg0PnaZZs2aGl7d//36tWrVKGzZssLp/IjIyUsHBwXJ0/F+ZISEhmjt3ruLi4lS4cOFMVP0/ZrPZ6koHAAB4cphMJptaOwBPg8TERMsjFLKS2WxO17vq/dgUIIYOHZrhcJPJpDx58ihPnjyGA8S1a9c0ePBgffjhh3r22Wetxp0/f15lypSxGla0aFFJd3p7sjVAJCcnKyoqyqZ5AQCAfbm6uqp8+fL2LgOwi5iYGCUmJmbLsp2dnQ1NZ1OA2LFjR7phCQkJioyM1Pz58zVz5kzDyxoxYoSCgoLUuHHjdONu3ryZbkPy5s0rSbp161Ymq/4fJycn+fr62jw/AACwH6O/kgJPI29v72y5AhEdHW14WpsCRPHixTMc/uKLLyo5OVmjR4/W8uXLH7qcDRs2KDIyUl9//XWG411cXJSUlGQ1LC04uLm5ZbLq/zGZTI80PwAAAGAP2dV8LzPB3OabqO/Hz89PkyZNMjTtunXrdOnSpXTPjRg+fLi++eYbeXl5KTY21mpc2utixYplSb0AAAAAjMvSAJGUlKS1a9fK09PT0PQTJ07UzZs3rYY1aNBAvXv3VpMmTbRx40atXLlSKSkpypMnjyRpz5498vb2NrwOAAAAAFnHpgARGhqa7jJHamqq4uPjdevWLQ0ZMsTQcu53FcHT01PFihVT8+bNtWDBAg0bNkydOnXSL7/8osWLF2vkyJG2lA0AAADgEdkUIIKDgzNsJ+Xu7q569eqpRo0aj1yYdCdILFiwQGPHjlVYWJiKFCmiwYMHKywsLEuWDwAAACBzbAoQ48ePz+o6LH777Ter1/7+/lq1alW2rQ8AAACAcTYFiL/++itT0z/33HO2rAYAAABADpNl90A8CA9tAwAAAJ4ONgWIqVOnavjw4XrppZfUpEkTFStWTPHx8fr++++1detWde/e/b7PigAAAADw5LIpQGzcuFH16tVLdy/E66+/Lk9PTx08eFA9e/bMkgIBAAAA5BwOtsy0e/duNWrUKMNxL7/8sg4cOPBIRQEAAADImWwKEIUKFdLhw4czHLd7926eEg0AAAA8pWxqwvTWW29p9uzZSkxMVGhoqJ555hnFxcXp22+/1YoVK/TRRx9ldZ0AAAAAcgCbAkR4eLiuX7+uxYsXa+HChZIks9ksV1dX9evXTy1btszSIgEAAADkDDYFCJPJpKFDhyo8PFyHDh3S1atXVahQIQUGBsrd3T2rawQAAACQQ9gUINK4u7uraNGikqTAwEDdvn07S4oCAAAAkDPZHCA2btyoSZMm6eLFizKZTFqzZo2mT58uJycnTZo0Sc7OzllZJwAAAIAcwKZemL755hsNGTJEISEhmjx5slJTUyVJ9evX186dOzVr1qwsLRIAAABAzmDTFYg5c+aoZcuWGjFihFJSUizDmzdvrsuXL2v16tXq27dvVtUIANkqJTVVeRxs+j0FeKLx2QdgC5sCRExMjIYMGZLhuICAAE2fPv2RigKAxymPg4P+uWGdTsbF2bsU4LEpXbiwPmnW3N5lAHgC2RQgPD09deLECdWsWTPduBMnTsjT0/ORCwOAx+lkXJyOnT9n7zIAAMjxbLpu+frrr2vatGn69ttvlZSUJOlO166//vqrZs2apYYNG2ZpkQAAAAByBpuuQPTt21fHjx9X37595fD/2062bdtWCQkJqlKlivr06ZOlRQIAAADIGWwKEM7OzlqwYIF++ukn7dmzR1euXJGHh4eCg4NVp04dmUymrK4TAAAAQA5gU4Do2LGjOnXqpJo1a2Z4HwQAAACAp5NN90AcPHiQqwwAAABALmRTgKhdu7Y2bdqk5OTkrK4HAAAAQA5mUxOmvHnzatOmTdq6dat8fHzk5uZmNd5kMunLL7/MkgIBAAAA5Bw2BYjz588rKCjI8tpsNluNv/c1AAAAgKeD4QDx3XffKSQkRPnz59dXX32VnTUBAAAAyKEM3wPRp08f/fHHH1bD5s+fr0uXLmV1TQAAAAByKMMB4t5mSSkpKZo8ebLOnz+f5UUBAAAAyJls6oUpTVbc63Dp0iUNGjRIISEhCgoKUpcuXXTixAnL+KioKLVp00aBgYEKDQ3VkiVLHnmdAAAAAGzzSAEiK/To0UOnTp3SvHnztHbtWrm4uKh9+/ZKTExUfHy8OnTooJIlS2rdunXq0aOHJk6cqHXr1tm7bAAAACBXsqkXpqxy9epVFS9eXF27dlWZMmUkSeHh4WratKl+//137d69W05OTho1apQcHR3l4+NjCRvNmze3Z+kAAABArvTIVyAe5YnUBQoU0KRJkyzh4fLly1q8eLG8vLzk6+uryMhIBQcHy9HxfzknJCREf/zxh+Li4h61dAAAAACZlKkrED169JCzs7PVsG7dusnJyclqmMlk0vbt2zNVyEcffaTVq1fL2dlZs2fPlpubm86fP28JF2mKFi0qSTp37pwKFy6cqXWkMZvNSkhIsGleAE8Xk8kkV1dXe5cB2E1iYuIT9/wmjlvkZtl1zJrNZsMXBgwHiLCwMJsLMuK9997TO++8o2XLlqlHjx5avny5bt68mS6w5M2bV5J069Ytm9eVnJysqKioR6oXwNPB1dVV5cuXt3cZgN3ExMQoMTHR3mVkCsctcrPsPGbvPe++H8MBYty4cTYXY4Svr68kaezYsTp8+LCWLl0qFxcXJSUlWU2XFhzc3NxsXpeTk5NlfQByt0dphgk8Dby9vZ/IKxBAbpVdx2x0dLThae16E/Xly5e1e/duvfbaa5b7HBwcHOTr66vY2Fh5eXkpNjbWap6018WKFbN5vSaT6ZECCAAATwuaAgFPluw6ZjMTzO3ajWtcXJz69++v3bt3W4YlJyfr6NGj8vHxUdWqVXXgwAGlpKRYxu/Zs0fe3t7y9PS0R8kAAABArmbXAFGmTBm9/PLLGjNmjPbv36/jx49r6NChunbtmtq3b6/mzZvrxo0bGjZsmKKjoxUREaHFixera9eu9iwbAAAAyLXs/iC5yZMnq3r16urXr5/efvttXblyRcuWLdNzzz0nT09PLViwQDExMQoLC9OMGTM0ePDgbL+hGwAAAEDG7HoPhCR5eHhoxIgRGjFiRIbj/f39tWrVqsdbFAAAAIAM2f0KBAAAAIAnBwECAAAAgGEECAAAAACGESAAAAAAGEaAAAAAAGAYAQIAAACAYQQIAAAAAIYRIAAAAAAYRoAAAAAAYBgBAgAAAIBhBAgAAAAAhhEgAAAAABhGgAAAAABgGAECAAAAgGEECAAAAACGESAAAAAAGEaAAAAAAGAYAQIAAACAYQQIAAAAAIYRIAAAAAAYRoAAAAAAYBgBAgAAAIBhBAgAAAAAhhEgAAAAABhGgAAAAABgGAECAAAAgGEECAAAAACG2T1AXLlyRR9//LFefvllVapUSe+++64iIyMt43fv3q0333xTAQEBatiwobZs2WLHagEAAIDcze4Bon///vr55581efJkrVu3TuXKlVPHjh118uRJnThxQl27dlXt2rUVERGht99+W4MHD9bu3bvtXTYAAACQKznac+WnTp3STz/9pOXLl6ty5cqSpI8++kj//ve/9fXXX+vSpUvy8/NTv379JEk+Pj46evSoFixYoOrVq9uzdAAAACBXsusViEKFCmnevHmqWLGiZZjJZJLJZNK1a9cUGRmZLiiEhITowIEDMpvNj7tcAAAAINez6xWI/Pnzq06dOlbDtm3bplOnTumf//yn1q9fLy8vL6vxRYsWVWJiouLj4/XMM8/YtF6z2ayEhASb6wbw9DCZTHJ1dbV3GYDdJCYmPnE/ynHcIjfLrmPWbDbLZDIZmtauAeJeBw8e1AcffKAGDRqobt26unnzppydna2mSXudlJRk83qSk5MVFRX1SLUCeDq4urqqfPny9i4DsJuYmBglJibau4xM4bhFbpadx+y95933k2MCxPbt2zVw4EBVqlRJEydOlCTlzZs3XVBIe/0ovzw4OTnJ19fX9mIBPDWM/toCPK28vb2fyCsQQG6VXcdsdHS04WlzRIBYunSpxo4dq4YNG+rTTz+1pJ9nn31WsbGxVtPGxsbKzc1NHh4eNq/PZDLJzc3tkWoGAOBpQFMg4MmSXcdsZoK53btxXb58uUaPHq3WrVtr8uTJVpdOqlSpon379llNv2fPHlWqVEkODnYvHQAAAMh17HoFIiYmRp988onq16+vrl27Ki4uzjLOxcVFbdu2VVhYmCZOnKiwsDDt3LlT3377rRYsWGDHqgEAAIDcy64BYtu2bUpOTta//vUv/etf/7IaFxYWpvHjx2vWrFn67LPP9OWXX6pEiRL67LPPeAYEAAAAYCd2DRDdunVTt27dHjjNyy+/rJdffvkxVQQAAADgQbiRAAAAAIBhBAgAAAAAhhEgAAAAABhGgAAAAABgGAECAAAAgGEECAAAAACGESAAAAAAGEaAAAAAAGAYAQIAAACAYQQIAAAAAIYRIAAAAAAYRoAAAAAAYBgBAgAAAIBhBAgAAAAAhhEgAAAAABhGgAAAAABgGAECAAAAgGEECAAAAACGESAAAAAAGEaAAAAAAGAYAQIAAACAYQQIAAAAAIYRIAAAAAAYRoAAAAAAYBgBAgAAAIBhBAgAAAAAhhEgAAAAABiWowLE3Llz1bZtW6thUVFRatOmjQIDAxUaGqolS5bYqToAAAAAOSZALFu2TFOnTrUaFh8frw4dOqhkyZJat26devTooYkTJ2rdunX2KRIAAADI5RztXcCFCxc0fPhw7d27Vy+88ILVuNWrV8vJyUmjRo2So6OjfHx8dOrUKc2bN0/Nmze3T8EAAABALmb3APHf//5XTk5O2rRpk2bOnKmzZ89axkVGRio4OFiOjv8rMyQkRHPnzlVcXJwKFy5s0zrNZrMSEhIeuXYATz6TySRXV1d7lwHYTWJiosxms73LyBSOW+Rm2XXMms1mmUwmQ9PaPUCEhoYqNDQ0w3Hnz59XmTJlrIYVLVpUknTu3DmbA0RycrKioqJsmhfA08XV1VXly5e3dxmA3cTExCgxMdHeZWQKxy1ys+w8Zp2dnQ1NZ/cA8SA3b95MtyF58+aVJN26dcvm5To5OcnX1/eRagPwdDD6awvwtPL29n4ir0AAuVV2HbPR0dGGp83RAcLFxUVJSUlWw9KCg5ubm83LNZlMjzQ/AABPC5oCAU+W7DpmMxPMc0wvTBnx8vJSbGys1bC018WKFbNHSQAAAECulqMDRNWqVXXgwAGlpKRYhu3Zs0fe3t7y9PS0Y2UAAABA7pSjA0Tz5s1148YNDRs2TNHR0YqIiNDixYvVtWtXe5cGAAAA5Eo5OkB4enpqwYIFiomJUVhYmGbMmKHBgwcrLCzM3qUBAAAAuVKOuol6/Pjx6Yb5+/tr1apVdqgGAAAAwL1y9BUIAAAAADkLAQIAAACAYQQIAAAAAIYRIAAAAAAYRoAAAAAAYBgBAgAAAIBhBAgAAAAAhhEgAAAAABhGgAAAAABgGAECAAAAgGEECAAAAACGESAAAAAAGEaAAAAAAGAYAQIAAACAYQQIAAAAAIYRIAAAAAAYRoAAAAAAYBgBAgAAAIBhBAgAAAAAhhEgAAAAABhGgAAAAABgGAECAAAAgGEECAAAAACGESAAAAAAGEaAAAAAAGAYAQIAAACAYU9EgEhNTdW0adNUu3ZtBQYGqnPnzvrzzz/tXRYAAACQ6zwRAWLWrFlavny5Ro8erZUrVyo1NVWdOnVSUlKSvUvLUEpqqr1LAB47PvcAAOQOjvYu4GGSkpL0xRdfaODAgapbt64kacqUKapdu7a+++47NWrUyL4FZiCPg4PGT4/Q6bNx9i4FeCxKFi+sob3etHcZAADgMcjxAeLYsWP6+++/Vb16dcuw/Pnzq3z58tq/f3+ODBCSdPpsnKJjztu7DAAAACBL5fgAcf78nZPwZ5991mp40aJFLeMyIzk5WWazWb/88kuW1JcRk8mkdxv76/btCtm2DiAncXR00JEjR2Q2m+1dik1MJpPCKwYouXxFe5cCPDZOeZ784/blPLV0u0CKvUsBHgtHU55sPWaTk5NlMpmM1ZItFWShxMRESZKzs7PV8Lx58+rq1auZXl7ajjG6g2xVMH++bF0+kBNl93GVnQq5ccwid3qSj1t3Z3d7lwA8dtl1zJpMpqcnQLi4uEi6cy9E2v9L0q1bt+Tq6prp5QUFBWVZbQAAAEBuk+N7YUpruhQbG2s1PDY2VsWKFbNHSQAAAECuleMDRNmyZeXu7q69e/dahl27dk1Hjx5V1apV7VgZAAAAkPvk+CZMzs7OatOmjSZOnKhnnnlGxYsX12effSYvLy81aNDA3uUBAAAAuUqODxCS1Lt3b92+fVsffvihbt68qapVq2rhwoVycnKyd2kAAABArmIyP6n9twEAAAB47HL8PRAAAAAAcg4CBAAAAADDCBAAAAAADCNAAAAAADCMAAEAAADAMAIEAAAAAMMIEAAAAAAMI0DAriIiIuTn55fly42NjVWVKlWUnJxs0/yXL19W48aNFRYWpmPHjumTTz7R4sWLs7ZIABkym81av369Ll26ZO9SgBzJz89PERER9i5D0qN934aGhmr69OnZUBWy2xPxJGo8vV5//XXVrl07y5e7c+dOVa9e3eanlW/ZskV+fn5q2LChunfvroSEBK1bty6LqwSQkf3792vo0KHasWOHvUsB8BCP8n27du1a5c2bNxuqQnYjQMCuXFxc5OLikuXL3bVrl15++WWb5w8LC1NYWJjc3d1Vt25dpaamytnZOQsrBHA/ZrPZ3iUAMOhRvm+feeaZLK4GjwtNmJBl/Pz8NG3aNNWrV0+1atXSH3/8keHlybuH3duEyc/PT6tWrVKrVq1UsWJF/eMf/9DBgwe1atUq1a1bV5UqVVLfvn118+bN+9aRnJys3bt33/cP2tChQzV06FB9+umnql69ugICAtS1a1dduHDBMs2xY8cUHh6uSpUqKTAwUE2bNtXGjRutlrNhwwY1adJE/v7+Cg0N1axZs5SSkpLp/QY8Sfz8/LR27Vq1b99e/v7+qlWrlmbMmGE1zQ8//KA333xT/v7+ql+/vqZOnaqkpCSrZdzb/CJt2N69e9WuXTtJ0iuvvKKIiAhFRESofv36GjNmjCpXrqzw8HBJ0okTJ9StWzdVq1ZNlStXVu/evXX27Nls3gNAznDy5Em1bNlSFSpU0D/+8Q9t3brVavyPP/6oFi1aKCgoSLVq1dK4ceOsvjsfx/ftpUuX1Lt3b1WrVk3+/v5q2bKl9u3bZxl/9/nA9OnT1b59e82YMUM1atRQUFCQPv74Y507d05du3ZVQECA6tevrx9//PER9hqyCgECWWr58uWaNm2aZsyYoRdeeMGmZUyZMkWdOnXSxo0b5eHhoW7dumnbtm2aN2+exo0bp+3bt2vNmjX3nf/AgQN67rnnVKxYsftOs3nzZl25ckVLly7V/Pnz9d///ldTp06VJF24cEEdO3ZUxYoVtX79em3YsEH+/v4aNmyY4uLiJEmLFy/WRx99pHfeeUebNm1Snz59tHDhQo0fP96mbQaeJJ9++qnCwsK0ZcsWtWnTRtOnT9f+/fsl3fk1sm/fvmrRooU2b96s4cOHa+vWrRo0aJChZQcFBVlOKNasWaPXX39dknT69GnFxsZqw4YN6tevn86ePat33nlHzs7O+vLLL/XFF1/o4sWLatOmjW7cuJE9Gw7kIF9++aWaNWumr7/+Wq+99pr69eunX3/9VZL0r3/9S927d1fdunUVERGhkSNH6ptvvlH//v2tlpHd37cjRozQrVu3tHTpUn399dfy9vZWeHi4EhISMpw+MjJSMTExWrZsmT788EOtWrVKb731lv7xj38oIiJCPj4+Gjp0KFcpcwACBLJU06ZNVbFiRQUGBtq8jObNmys0NFSlS5dW06ZNdfXqVX388ccqU6aMXnvtNZUrV06///77fefftWuX6tSp88B1eHh4aNSoUfLx8VFwcLBef/11HTx4UJJ069Yt9erVSwMHDlSpUqXk6+urLl26KDk5WX/88YfMZrPmz5+vNm3aqHXr1nrhhRfUtGlT9e7dWytWrND169dt3nbgSdCsWTM1bdpUzz//vLp166b8+fNbjp85c+aoRYsWatmypUqWLKlatWpp5MiR+vbbb3XmzJmHLtvZ2VkFChSQdKd5w91NHMPDw/X888/rxRdf1PLly+Xm5qaJEyeqbNmyCggI0LRp03Tp0qV0VwuBp1GrVq3UsmVLeXt7q2/fvgoMDLR09jFv3jzVr19f4eHh8vb21iuvvKLhw4drx44dio6Otiwju79vT58+rfz58+v5559XqVKlNGzYME2bNk158uTJcPrU1FSNHDlS3t7eat68uQoVKqSQkBA1a9ZMPj4+evfddxUfH6+LFy/attOQZbgHAlmqVKlSWboMV1dXSVLJkiUtw1xcXKyaQ9xr165dGj58+APXUbJkSasbvjw8PCw9SJQsWVJvvvmmlixZouPHj+v06dM6duyYJCklJUWXL19WXFycKleubLXM4OBgJScn6+TJkwoICDC4tcCTx8fHx+r13cfP0aNH9csvv2jt2rWW8Wm/Fp44cUIlSpSweb13X9U8fvy4KlSoYHVvUpEiReTt7a3jx4/bvA7gSXHvd1BAQID27Nkj6c7x8cYbb1iNDw4Otozz9fWVlP3ftz179tSgQYO0bds2Va5cWbVq1VKjRo3ue+O0p6en3N3dLa/d3NzS1SPpgTXh8SBAIEsZuSH69u3bDxzv6Jj+Y+ngYOxi2V9//aULFy4oKCjogdM96Ibo6OhotWrVSi+99JJq1KihBg0aqFChQnr77bcl3f8Gz9TU1PvWDzxNMjp+0o6L1NRUderUSWFhYemmKVKkSIbLe9jfhDR3/3150HFoa+9rwJPk3u/FlJQUy7GZ0fGR0XdUdn/f1q9fX//+97/173//W//3f/+nRYsWacaMGVq9erVefPHFdNNndOwarQePF+8KspWTk5NVe+QbN25ka9/uad3JPcpJ/MqVK+Xp6alFixapc+fOqlOnjuXeB7PZrMKFC6tw4cI6cOCA1XyRkZFycnKy+rUEyG1efPFFxcTEqFSpUpZ/58+f14QJE/T3339LSv934dSpU1bLMJlMD12Pn5+fjhw5YvVLZFxcnE6dOpXuCgnwNPrvf/9r9frgwYOWk3I/Pz9Ls8I0kZGRktJfQbTVw75vk5KSNG7cOP355596/fXXNWbMGG3fvl0ODg7cCP0UIEAgWwUGBuqbb77RwYMHFR0drX/+85/3bfuYFXbu3PnQ+x8exsvLS+fPn9fOnTt19uxZfffddxoxYoSk/1027dixo5YuXarly5fr1KlT+vrrrzVjxgy988478vDweNTNAJ5YnTt31rZt2zRjxgzFxMRo9+7d+uCDD3T9+nXLFYjAwECtWbNGUVFROnr0qEaMGGF1VcPNzU3Snd7Q0kLHvd599139/fffGjRokI4dO6ZffvlFffr0UaFChdI13QCeRosXL9b69et18uRJffLJJzp+/Lg6d+4sSerUqZO+++47zZo1SzExMfrhhx80evRo1atXL0sDxIO+b52dnXXkyBF99NFHOnTokM6cOaOIiAglJCQ8tJUAcj7aWiBb9e/fX1euXFGHDh3k4eGh999/X9euXcuWdSUlJWnv3r0aNWrUIy2nXbt2OnnypAYPHqykpCS98MIL6t+/v6ZNm6YjR47o5Zdf1vvvv2/p/eWTTz6Rl5eXOnfurI4dO2bR1gBPpoYNG2rKlCmaO3eu5syZo4IFCyo0NFQDBw60TDNixAiNGDFCLVq0UNGiRdWnTx+dP3/eMr5MmTKqU6eO+vbtq/79+6tgwYLp1lOiRAktXbpUn332maU3ppo1a+qzzz5T/vz5H8emAnYVHh6ur776Sh999JF8fX01b948eXt7S5Jee+01TZ48WbNnz9asWbP0zDPPqFGjRurdu3eWrNvo9+2UKVM0btw4de/eXdevX1fp0qU1ceJEValSJUvqgP2YzPSFBQAAAMAgmjABAAAAMIwAAQAAAMAwAgQAAAAAwwgQAAAAAAwjQAAAAAAwjAABAAAAwDACBAAAAADDCBAAAAAADCNAAAAAADCMAAEAAADAMAIEAAAAAMP+H4LKeybyp+frAAAAAElFTkSuQmCC",
      "text/plain": [
       "<Figure size 800x400 with 1 Axes>"
      ]
     },
     "metadata": {},
     "output_type": "display_data"
    },
    {
     "name": "stderr",
     "output_type": "stream",
     "text": [
      "C:\\Users\\iqued\\AppData\\Local\\Temp\\ipykernel_6536\\1752570435.py:11: UserWarning: set_ticklabels() should only be used with a fixed number of ticks, i.e. after set_ticks() or using a FixedLocator.\n",
      "  ax.set_xticklabels([legenda[val] for val in sorted(dataset[col].unique())])\n"
     ]
    },
    {
     "data": {
      "image/png": "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",
      "text/plain": [
       "<Figure size 800x400 with 1 Axes>"
      ]
     },
     "metadata": {},
     "output_type": "display_data"
    },
    {
     "name": "stderr",
     "output_type": "stream",
     "text": [
      "C:\\Users\\iqued\\AppData\\Local\\Temp\\ipykernel_6536\\1752570435.py:11: UserWarning: set_ticklabels() should only be used with a fixed number of ticks, i.e. after set_ticks() or using a FixedLocator.\n",
      "  ax.set_xticklabels([legenda[val] for val in sorted(dataset[col].unique())])\n"
     ]
    },
    {
     "data": {
      "image/png": "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",
      "text/plain": [
       "<Figure size 800x400 with 1 Axes>"
      ]
     },
     "metadata": {},
     "output_type": "display_data"
    },
    {
     "name": "stderr",
     "output_type": "stream",
     "text": [
      "C:\\Users\\iqued\\AppData\\Local\\Temp\\ipykernel_6536\\1752570435.py:11: UserWarning: set_ticklabels() should only be used with a fixed number of ticks, i.e. after set_ticks() or using a FixedLocator.\n",
      "  ax.set_xticklabels([legenda[val] for val in sorted(dataset[col].unique())])\n"
     ]
    },
    {
     "data": {
      "image/png": "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",
      "text/plain": [
       "<Figure size 800x400 with 1 Axes>"
      ]
     },
     "metadata": {},
     "output_type": "display_data"
    },
    {
     "name": "stderr",
     "output_type": "stream",
     "text": [
      "C:\\Users\\iqued\\AppData\\Local\\Temp\\ipykernel_6536\\1752570435.py:11: UserWarning: set_ticklabels() should only be used with a fixed number of ticks, i.e. after set_ticks() or using a FixedLocator.\n",
      "  ax.set_xticklabels([legenda[val] for val in sorted(dataset[col].unique())])\n"
     ]
    },
    {
     "data": {
      "image/png": "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",
      "text/plain": [
       "<Figure size 800x400 with 1 Axes>"
      ]
     },
     "metadata": {},
     "output_type": "display_data"
    }
   ],
   "source": [
    "warnings.simplefilter(action=\"ignore\", category=FutureWarning)\n",
    "\n",
    "for col in frequencia_colunas:\n",
    "    plt.figure(figsize=(8, 4))\n",
    "\n",
    "    # Criar mapeamento para exibição no gráfico\n",
    "    legenda = {-1: \"ruim / não\", 0: \"neutro\", 1: \"bom / sim\"}\n",
    "\n",
    "    # Plotar o gráfico\n",
    "    ax = sns.countplot(data=dataset, x=col, palette=\"viridis\", hue=None)\n",
    "    ax.set_xticklabels([legenda[val] for val in sorted(dataset[col].unique())])\n",
    "\n",
    "    plt.title(f\"Distribuição dos valores na coluna '{col}'\")\n",
    "    plt.xlabel(\"\")\n",
    "    plt.ylabel(\"Frequência\")\n",
    "    plt.tight_layout()\n",
    "    plt.show()"
   ]
  },
  {
   "cell_type": "markdown",
   "metadata": {},
   "source": [
    "## Gerando novos dados\n",
    "\n",
    "Os dados reais que atendiam aos requisitos se mostraram em poucas instâncias. Sendo assim, para efeitos de estudo e pesquisa multiplicarei os dados com alguns algoritmos para que essa criação não fuja completamente do universo de dados reais."
   ]
  },
  {
   "cell_type": "markdown",
   "metadata": {},
   "source": [
    "### Dados numéricos por perturbação"
   ]
  },
  {
   "cell_type": "markdown",
   "metadata": {},
   "source": [
    "Nos dados numéricos, foi feita a escolha de 5% de ruído sobre o desvio padrão e 80% de probabilidade de perturbação busca um equilíbrio entre manter a fidelidade aos dados reais e introduzir variações suficientes para enriquecer o dataset sem criar instâncias artificialmente irreais.\n",
    "\n",
    "Ao limitar o ruído a 5% do desvio padrão, asseguramos que as variações introduzidas não ultrapassem os limites observados nos dados originais, evitando a criação de valores extremamente fora do padrão.\n",
    "\n",
    "Com 80% de chance de alteração, garantimos que o dataset seja amplamente ampliado em termos de variabilidade, ao mesmo tempo em que preservamos 20% das instâncias intactas."
   ]
  },
  {
   "cell_type": "code",
   "execution_count": 20,
   "metadata": {},
   "outputs": [],
   "source": [
    "def perturbar_numerico(valor, std, probabilidade_perturbacao=0.8):\n",
    "    if np.random.rand() < probabilidade_perturbacao:\n",
    "        ruido = np.random.normal(0, std * 0.05) \n",
    "        return valor + ruido\n",
    "    return valor"
   ]
  },
  {
   "cell_type": "markdown",
   "metadata": {},
   "source": [
    "### Dados categóricos por aleatoriedade"
   ]
  },
  {
   "cell_type": "markdown",
   "metadata": {},
   "source": [
    "Com os dados categóricos foi criada a função perturbar_categoria. Projetada para criar variações em dados categóricos de forma controlada, simulando situações plausíveis de mudanças nos valores originais.\n",
    "\n",
    "Com 80% das instâncias mantendo os valores originais, garantimos que o dataset continue refletindo os padrões reais observados.\n",
    "\n",
    "Os 20% de alterações introduzem variações moderadas, enriquecendo o dataset sem comprometer a consistência com os dados originais.\n",
    "\n",
    "O mapping é usado para definir quais categorias são válidas como substitutas para cada valor original.\n",
    "\n",
    "Isso evita alterações aleatórias e garante que os novos valores estejam dentro do escopo lógico do problema.\n"
   ]
  },
  {
   "cell_type": "code",
   "execution_count": 21,
   "metadata": {},
   "outputs": [],
   "source": [
    "def perturbar_categoria(valor, mapping, probabilidade_troca=0.2):\n",
    "    if np.random.rand() < probabilidade_troca:\n",
    "        return choices(mapping[valor])[0]\n",
    "    return valor"
   ]
  },
  {
   "cell_type": "markdown",
   "metadata": {},
   "source": [
    "Serão criadas novas 550 linhas."
   ]
  },
  {
   "cell_type": "code",
   "execution_count": 22,
   "metadata": {},
   "outputs": [],
   "source": [
    "qtde_novas_instancias = 550"
   ]
  },
  {
   "cell_type": "code",
   "execution_count": 23,
   "metadata": {},
   "outputs": [],
   "source": [
    "novas_instancias = dataset.sample(n=qtde_novas_instancias, replace=True, random_state=42).copy()"
   ]
  },
  {
   "cell_type": "code",
   "execution_count": 24,
   "metadata": {},
   "outputs": [],
   "source": [
    "colunas_numericas = [\"tempo_form_inicial_seg\", \"tempo_form_andamento_seg\"]\n",
    "\n",
    "for col in colunas_numericas:\n",
    "    std = dataset[col].std()\n",
    "    novas_instancias[col] = novas_instancias[col].apply(perturbar_numerico, std=std)\n"
   ]
  },
  {
   "cell_type": "code",
   "execution_count": 25,
   "metadata": {},
   "outputs": [],
   "source": [
    "colunas_categoricas = [\n",
    "    \"avalia_horario_treinamento\",\n",
    "    \"intencao_participacao\",\n",
    "    \"avalia_duracao_aulas\",\n",
    "    \"tem_suporte_da_equipe\",\n",
    "    \"possui_entusiasmo\",\n",
    "    \"avalia_qualidade_didatica\",\n",
    "    \"interage_quando_ha_dificuldade\",\n",
    "    \"avalia_tempo_adequado\",\n",
    "    \"poderia_ser_mais_rapido\",\n",
    "    \"revisou_conteudo\",\n",
    "    \"participacao_propria\",\n",
    "    \"ha_interrupcoes\",\n",
    "    \"classificacao_comentario\",\n",
    "    \"interessado\"\n",
    "]\n",
    "categorical_mapping = {\n",
    "    -1: [-1, 0],\n",
    "    0: [-1, 0, 1],\n",
    "    1: [0, 1]\n",
    "}\n",
    "for col in colunas_categoricas:\n",
    "    novas_instancias[col] = novas_instancias[col].apply(perturbar_categoria, mapping=categorical_mapping)\n"
   ]
  },
  {
   "cell_type": "code",
   "execution_count": 26,
   "metadata": {},
   "outputs": [],
   "source": [
    "dataset_gerado = pd.concat([dataset, novas_instancias], ignore_index=True)"
   ]
  },
  {
   "cell_type": "code",
   "execution_count": 27,
   "metadata": {},
   "outputs": [],
   "source": [
    "dataset_gerado = dataset_gerado.drop(columns=[\"email\"])"
   ]
  },
  {
   "cell_type": "code",
   "execution_count": 28,
   "metadata": {},
   "outputs": [
    {
     "data": {
      "text/html": [
       "<div>\n",
       "<style scoped>\n",
       "    .dataframe tbody tr th:only-of-type {\n",
       "        vertical-align: middle;\n",
       "    }\n",
       "\n",
       "    .dataframe tbody tr th {\n",
       "        vertical-align: top;\n",
       "    }\n",
       "\n",
       "    .dataframe thead th {\n",
       "        text-align: right;\n",
       "    }\n",
       "</style>\n",
       "<table border=\"1\" class=\"dataframe\">\n",
       "  <thead>\n",
       "    <tr style=\"text-align: right;\">\n",
       "      <th></th>\n",
       "      <th>avalia_horario_treinamento</th>\n",
       "      <th>intencao_participacao</th>\n",
       "      <th>avalia_duracao_aulas</th>\n",
       "      <th>tem_suporte_da_equipe</th>\n",
       "      <th>possui_entusiasmo</th>\n",
       "      <th>avalia_qualidade_didatica</th>\n",
       "      <th>interage_quando_ha_dificuldade</th>\n",
       "      <th>avalia_tempo_adequado</th>\n",
       "      <th>poderia_ser_mais_rapido</th>\n",
       "      <th>revisou_conteudo</th>\n",
       "      <th>participacao_propria</th>\n",
       "      <th>ha_interrupcoes</th>\n",
       "      <th>interessado</th>\n",
       "      <th>tempo_form_inicial_seg</th>\n",
       "      <th>tempo_form_andamento_seg</th>\n",
       "      <th>classificacao_comentario</th>\n",
       "    </tr>\n",
       "  </thead>\n",
       "  <tbody>\n",
       "    <tr>\n",
       "      <th>0</th>\n",
       "      <td>1</td>\n",
       "      <td>1</td>\n",
       "      <td>1</td>\n",
       "      <td>1</td>\n",
       "      <td>1</td>\n",
       "      <td>0</td>\n",
       "      <td>1.0</td>\n",
       "      <td>1</td>\n",
       "      <td>0.0</td>\n",
       "      <td>1</td>\n",
       "      <td>0</td>\n",
       "      <td>0</td>\n",
       "      <td>-1</td>\n",
       "      <td>78.0</td>\n",
       "      <td>296.0</td>\n",
       "      <td>1.0</td>\n",
       "    </tr>\n",
       "    <tr>\n",
       "      <th>1</th>\n",
       "      <td>1</td>\n",
       "      <td>1</td>\n",
       "      <td>1</td>\n",
       "      <td>1</td>\n",
       "      <td>1</td>\n",
       "      <td>1</td>\n",
       "      <td>0.0</td>\n",
       "      <td>1</td>\n",
       "      <td>0.0</td>\n",
       "      <td>1</td>\n",
       "      <td>0</td>\n",
       "      <td>0</td>\n",
       "      <td>-1</td>\n",
       "      <td>59.0</td>\n",
       "      <td>1240.0</td>\n",
       "      <td>1.0</td>\n",
       "    </tr>\n",
       "    <tr>\n",
       "      <th>2</th>\n",
       "      <td>1</td>\n",
       "      <td>1</td>\n",
       "      <td>0</td>\n",
       "      <td>1</td>\n",
       "      <td>1</td>\n",
       "      <td>1</td>\n",
       "      <td>0.0</td>\n",
       "      <td>1</td>\n",
       "      <td>0.0</td>\n",
       "      <td>1</td>\n",
       "      <td>1</td>\n",
       "      <td>0</td>\n",
       "      <td>-1</td>\n",
       "      <td>44.0</td>\n",
       "      <td>33.0</td>\n",
       "      <td>0.0</td>\n",
       "    </tr>\n",
       "    <tr>\n",
       "      <th>3</th>\n",
       "      <td>0</td>\n",
       "      <td>0</td>\n",
       "      <td>-1</td>\n",
       "      <td>1</td>\n",
       "      <td>0</td>\n",
       "      <td>1</td>\n",
       "      <td>0.0</td>\n",
       "      <td>1</td>\n",
       "      <td>0.0</td>\n",
       "      <td>0</td>\n",
       "      <td>1</td>\n",
       "      <td>0</td>\n",
       "      <td>-1</td>\n",
       "      <td>197.0</td>\n",
       "      <td>201.0</td>\n",
       "      <td>0.0</td>\n",
       "    </tr>\n",
       "    <tr>\n",
       "      <th>4</th>\n",
       "      <td>1</td>\n",
       "      <td>0</td>\n",
       "      <td>1</td>\n",
       "      <td>1</td>\n",
       "      <td>1</td>\n",
       "      <td>0</td>\n",
       "      <td>1.0</td>\n",
       "      <td>0</td>\n",
       "      <td>-1.0</td>\n",
       "      <td>1</td>\n",
       "      <td>0</td>\n",
       "      <td>0</td>\n",
       "      <td>-1</td>\n",
       "      <td>6018.0</td>\n",
       "      <td>983.0</td>\n",
       "      <td>0.0</td>\n",
       "    </tr>\n",
       "  </tbody>\n",
       "</table>\n",
       "</div>"
      ],
      "text/plain": [
       "   avalia_horario_treinamento  intencao_participacao  avalia_duracao_aulas  \\\n",
       "0                           1                      1                     1   \n",
       "1                           1                      1                     1   \n",
       "2                           1                      1                     0   \n",
       "3                           0                      0                    -1   \n",
       "4                           1                      0                     1   \n",
       "\n",
       "   tem_suporte_da_equipe  possui_entusiasmo  avalia_qualidade_didatica  \\\n",
       "0                      1                  1                          0   \n",
       "1                      1                  1                          1   \n",
       "2                      1                  1                          1   \n",
       "3                      1                  0                          1   \n",
       "4                      1                  1                          0   \n",
       "\n",
       "   interage_quando_ha_dificuldade  avalia_tempo_adequado  \\\n",
       "0                             1.0                      1   \n",
       "1                             0.0                      1   \n",
       "2                             0.0                      1   \n",
       "3                             0.0                      1   \n",
       "4                             1.0                      0   \n",
       "\n",
       "   poderia_ser_mais_rapido  revisou_conteudo  participacao_propria  \\\n",
       "0                      0.0                 1                     0   \n",
       "1                      0.0                 1                     0   \n",
       "2                      0.0                 1                     1   \n",
       "3                      0.0                 0                     1   \n",
       "4                     -1.0                 1                     0   \n",
       "\n",
       "   ha_interrupcoes  interessado  tempo_form_inicial_seg  \\\n",
       "0                0           -1                    78.0   \n",
       "1                0           -1                    59.0   \n",
       "2                0           -1                    44.0   \n",
       "3                0           -1                   197.0   \n",
       "4                0           -1                  6018.0   \n",
       "\n",
       "   tempo_form_andamento_seg  classificacao_comentario  \n",
       "0                     296.0                       1.0  \n",
       "1                    1240.0                       1.0  \n",
       "2                      33.0                       0.0  \n",
       "3                     201.0                       0.0  \n",
       "4                     983.0                       0.0  "
      ]
     },
     "execution_count": 28,
     "metadata": {},
     "output_type": "execute_result"
    }
   ],
   "source": [
    "dataset_gerado.head()"
   ]
  },
  {
   "cell_type": "code",
   "execution_count": 29,
   "metadata": {},
   "outputs": [
    {
     "name": "stdout",
     "output_type": "stream",
     "text": [
      "Número total de instâncias no dataset ampliado: 664\n"
     ]
    }
   ],
   "source": [
    "print(f\"Número total de instâncias no dataset ampliado: {len(dataset_gerado)}\")"
   ]
  },
  {
   "cell_type": "markdown",
   "metadata": {},
   "source": [
    "## Cópia do dataset para testes com atributos diferentes"
   ]
  },
  {
   "cell_type": "markdown",
   "metadata": {},
   "source": [
    "Para validar os eforços de tratamento de algumas colunas serão testados modelos com e sem os atributos criados. Lembrando que os atributos criados foram de classificação de texto com machine learning também treinado neste projeto. E cálculo de tempo gasto ao preencher os formulários.\n",
    "\n",
    "O dataset total vem com todos os atributos trabalhados até o momento.\n",
    "\n",
    "E o dataset parcial terão os atributos citados como omissos."
   ]
  },
  {
   "cell_type": "code",
   "execution_count": 30,
   "metadata": {},
   "outputs": [],
   "source": [
    "colunas_remover = [\"tempo_form_inicial_seg\", \"tempo_form_andamento_seg\", \"classificacao_comentario\"]\n",
    "\n",
    "dataset_parcial = dataset_gerado.copy()\n",
    "dataset_parcial = dataset_parcial.drop(columns=colunas_remover)\n",
    "\n",
    "\n",
    "dataset_total = dataset_gerado.copy()"
   ]
  },
  {
   "cell_type": "markdown",
   "metadata": {},
   "source": [
    "Serão testados algoritmos populares de machine learning em classificação. Inicialmente no formato mais genérico e posteriormente mais especificado.\n",
    "\n",
    "### Com atributos parciais\n",
    "\n"
   ]
  },
  {
   "cell_type": "markdown",
   "metadata": {},
   "source": [
    "---\n",
    "\n",
    "**ATENÇÃO**\n",
    "\n",
    "Algumas saídas de células podem ter os valores diferentes das tabelas criadas em markdown para análise rápida. Mas foi notado que os valores se mantém bem aproximados. Ou seja, os modelos rodados múltiplas vezes não indicavam caminhos divergentes.\n",
    "\n",
    "---"
   ]
  },
  {
   "cell_type": "code",
   "execution_count": 31,
   "metadata": {},
   "outputs": [],
   "source": [
    "train_dataset_parcial, test_dataset_parcial = train_test_split(dataset_parcial, test_size=0.3, random_state=42)"
   ]
  },
  {
   "cell_type": "code",
   "execution_count": 32,
   "metadata": {},
   "outputs": [],
   "source": [
    "X_train_parcial = train_dataset_parcial.drop(columns=[\"interessado\"])\n",
    "y_train_parcial = train_dataset_parcial[\"interessado\"]\n",
    "X_test_parcial = test_dataset_parcial.drop(columns=[\"interessado\"])\n",
    "y_test_parcial = test_dataset_parcial[\"interessado\"]"
   ]
  },
  {
   "cell_type": "code",
   "execution_count": 33,
   "metadata": {},
   "outputs": [],
   "source": [
    "def train_and_evaluate(X_train, y_train, X_test, y_test, model, model_name):\n",
    "    print(f\"Treinando e avaliando: {model_name}\")\n",
    "    model.fit(X_train, y_train)\n",
    "    predictions = model.predict(X_test)\n",
    "    print(classification_report(y_test, predictions))"
   ]
  },
  {
   "cell_type": "markdown",
   "metadata": {},
   "source": [
    "#### KNN"
   ]
  },
  {
   "cell_type": "code",
   "execution_count": 34,
   "metadata": {},
   "outputs": [],
   "source": [
    "knn = KNeighborsClassifier(n_neighbors=3)"
   ]
  },
  {
   "cell_type": "code",
   "execution_count": 35,
   "metadata": {},
   "outputs": [
    {
     "name": "stdout",
     "output_type": "stream",
     "text": [
      "Treinando e avaliando: KNN\n",
      "              precision    recall  f1-score   support\n",
      "\n",
      "          -1       0.75      0.90      0.82       137\n",
      "           0       0.00      0.00      0.00        13\n",
      "           1       0.53      0.36      0.43        50\n",
      "\n",
      "    accuracy                           0.70       200\n",
      "   macro avg       0.43      0.42      0.42       200\n",
      "weighted avg       0.65      0.70      0.67       200\n",
      "\n"
     ]
    }
   ],
   "source": [
    "\n",
    "train_and_evaluate(X_train_parcial, y_train_parcial, X_test_parcial, y_test_parcial, knn, \"KNN\")"
   ]
  },
  {
   "cell_type": "markdown",
   "metadata": {},
   "source": [
    "#### Árvore de decisão"
   ]
  },
  {
   "cell_type": "code",
   "execution_count": 36,
   "metadata": {},
   "outputs": [],
   "source": [
    "decision_tree = DecisionTreeClassifier(random_state=42)"
   ]
  },
  {
   "cell_type": "code",
   "execution_count": 37,
   "metadata": {},
   "outputs": [
    {
     "name": "stdout",
     "output_type": "stream",
     "text": [
      "Treinando e avaliando: Árvore de Decisão\n",
      "              precision    recall  f1-score   support\n",
      "\n",
      "          -1       0.72      0.79      0.75       137\n",
      "           0       0.00      0.00      0.00        13\n",
      "           1       0.43      0.30      0.35        50\n",
      "\n",
      "    accuracy                           0.61       200\n",
      "   macro avg       0.38      0.36      0.37       200\n",
      "weighted avg       0.60      0.61      0.60       200\n",
      "\n"
     ]
    }
   ],
   "source": [
    "train_and_evaluate(X_train_parcial, y_train_parcial, X_test_parcial, y_test_parcial, decision_tree, \"Árvore de Decisão\")"
   ]
  },
  {
   "cell_type": "markdown",
   "metadata": {},
   "source": [
    "#### NB"
   ]
  },
  {
   "cell_type": "code",
   "execution_count": 38,
   "metadata": {},
   "outputs": [],
   "source": [
    "naive_bayes = GaussianNB()"
   ]
  },
  {
   "cell_type": "code",
   "execution_count": 39,
   "metadata": {},
   "outputs": [
    {
     "name": "stdout",
     "output_type": "stream",
     "text": [
      "Treinando e avaliando: Naive Bayes\n",
      "              precision    recall  f1-score   support\n",
      "\n",
      "          -1       0.71      0.88      0.79       137\n",
      "           0       0.00      0.00      0.00        13\n",
      "           1       0.48      0.28      0.35        50\n",
      "\n",
      "    accuracy                           0.67       200\n",
      "   macro avg       0.40      0.39      0.38       200\n",
      "weighted avg       0.61      0.67      0.63       200\n",
      "\n"
     ]
    }
   ],
   "source": [
    "\n",
    "train_and_evaluate(X_train_parcial, y_train_parcial, X_test_parcial, y_test_parcial, naive_bayes, \"Naive Bayes\")"
   ]
  },
  {
   "cell_type": "markdown",
   "metadata": {},
   "source": [
    "#### SVM"
   ]
  },
  {
   "cell_type": "code",
   "execution_count": 40,
   "metadata": {},
   "outputs": [],
   "source": [
    "svm = SVC(kernel=\"linear\", random_state=42)"
   ]
  },
  {
   "cell_type": "code",
   "execution_count": 41,
   "metadata": {},
   "outputs": [
    {
     "name": "stdout",
     "output_type": "stream",
     "text": [
      "Treinando e avaliando: SVM\n",
      "              precision    recall  f1-score   support\n",
      "\n",
      "          -1       0.69      1.00      0.81       137\n",
      "           0       0.00      0.00      0.00        13\n",
      "           1       0.00      0.00      0.00        50\n",
      "\n",
      "    accuracy                           0.69       200\n",
      "   macro avg       0.23      0.33      0.27       200\n",
      "weighted avg       0.47      0.69      0.56       200\n",
      "\n"
     ]
    },
    {
     "name": "stderr",
     "output_type": "stream",
     "text": [
      "c:\\Users\\iqued\\PUC_rio\\mvp_machine_learning_and_analytics\\venv\\Lib\\site-packages\\sklearn\\metrics\\_classification.py:1565: UndefinedMetricWarning: Precision is ill-defined and being set to 0.0 in labels with no predicted samples. Use `zero_division` parameter to control this behavior.\n",
      "  _warn_prf(average, modifier, f\"{metric.capitalize()} is\", len(result))\n",
      "c:\\Users\\iqued\\PUC_rio\\mvp_machine_learning_and_analytics\\venv\\Lib\\site-packages\\sklearn\\metrics\\_classification.py:1565: UndefinedMetricWarning: Precision is ill-defined and being set to 0.0 in labels with no predicted samples. Use `zero_division` parameter to control this behavior.\n",
      "  _warn_prf(average, modifier, f\"{metric.capitalize()} is\", len(result))\n",
      "c:\\Users\\iqued\\PUC_rio\\mvp_machine_learning_and_analytics\\venv\\Lib\\site-packages\\sklearn\\metrics\\_classification.py:1565: UndefinedMetricWarning: Precision is ill-defined and being set to 0.0 in labels with no predicted samples. Use `zero_division` parameter to control this behavior.\n",
      "  _warn_prf(average, modifier, f\"{metric.capitalize()} is\", len(result))\n"
     ]
    }
   ],
   "source": [
    "\n",
    "train_and_evaluate(X_train_parcial, y_train_parcial, X_test_parcial, y_test_parcial, svm, \"SVM\")"
   ]
  },
  {
   "cell_type": "markdown",
   "metadata": {},
   "source": [
    "### Tabela de Resultados modelos genéricos (Dataset Parcial)\n",
    "\n",
    "| Modelo              | Precision (-1) | Precision (0) | Precision (1) | Recall (-1) | Recall (0) | Recall (1) | F1 (-1) | F1 (0) | F1 (1) | Acurácia |\n",
    "|---------------------|----------------|----------------|---------------|-------------|------------|------------|---------|--------|--------|----------|\n",
    "| **KNN**            | 0.75           | 0.00           | 0.53          | 0.90        | 0.00       | 0.33       | 0.81    | 0.00   | 0.41   | 0.69     |\n",
    "| **Árvore de Decisão** | 0.72           | 0.09           | 0.38          | 0.75        | 0.08       | 0.35       | 0.73    | 0.08   | 0.37   | 0.60     |\n",
    "| **Naive Bayes**    | 0.71           | 0.00           | 0.48          | 0.86        | 0.00       | 0.29       | 0.78    | 0.00   | 0.37   | 0.66     |\n",
    "| **SVM (genérico)** | 0.69           | 0.00           | 0.00          | 1.00        | 0.00       | 0.00       | 0.81    | 0.00   | 0.00   | 0.68     |\n",
    "\n",
    "---\n",
    "\n",
    "### Análise simplificada\n",
    "\n",
    "- **KNN**: Manteve o melhor equilíbrio entre classes, com maior precisão para o grupo de interesse (-1 e 1). É o modelo mais robusto nesse contexto.\n",
    "- **Árvore de Decisão**: F1-score intermediário para o grupo 1, mas com baixa precisão e recall para as classes neutras (0).\n",
    "- **Naive Bayes**: Conseguiu precisão razoável para o grupo -1, mas falhou ao classificar corretamente o grupo 1.\n",
    "- **SVM (genérico)**: Embora tenha boa performance no recall da classe -1, falhou completamente na classe 1. O kernel linear simples não capturou adequadamente as relações entre os dados.\n",
    "\n",
    "---\n",
    "\n",
    "\n",
    "Como o objetivo do projeto é avaliar os alunos não interessados (-1), KNN será o algoritmo escolhido para mais um teste de especificação\n"
   ]
  },
  {
   "cell_type": "code",
   "execution_count": 42,
   "metadata": {},
   "outputs": [],
   "source": [
    "def train_knn_esp(params, X_train, y_train, X_test, y_test):\n",
    "    knn = KNeighborsClassifier(**params)\n",
    "    knn.fit(X_train, y_train)\n",
    "    y_pred = knn.predict(X_test)\n",
    "    print(f\"Treinando e avaliando: KNN com {params}\")\n",
    "    print(classification_report(y_test, y_pred))\n",
    "    return knn\n"
   ]
  },
  {
   "cell_type": "code",
   "execution_count": 43,
   "metadata": {},
   "outputs": [],
   "source": [
    "params_knn = [\n",
    "    {\"n_neighbors\": 5, \"weights\": \"uniform\", \"metric\": \"euclidean\"},\n",
    "    {\"n_neighbors\": 7, \"weights\": \"distance\", \"metric\": \"euclidean\"},\n",
    "    {\"n_neighbors\": 5, \"weights\": \"distance\", \"metric\": \"manhattan\"},\n",
    "    {\"n_neighbors\": 3, \"weights\": \"uniform\", \"metric\": \"manhattan\"},\n",
    "]"
   ]
  },
  {
   "cell_type": "code",
   "execution_count": 44,
   "metadata": {},
   "outputs": [
    {
     "name": "stdout",
     "output_type": "stream",
     "text": [
      "Parâmetros 1\n",
      "Treinando e avaliando: KNN com {'n_neighbors': 5, 'weights': 'uniform', 'metric': 'euclidean'}\n",
      "              precision    recall  f1-score   support\n",
      "\n",
      "          -1       0.74      0.96      0.83       137\n",
      "           0       0.00      0.00      0.00        13\n",
      "           1       0.64      0.28      0.39        50\n",
      "\n",
      "    accuracy                           0.72       200\n",
      "   macro avg       0.46      0.41      0.41       200\n",
      "weighted avg       0.66      0.72      0.67       200\n",
      "\n",
      "Parâmetros 2\n",
      "Treinando e avaliando: KNN com {'n_neighbors': 7, 'weights': 'distance', 'metric': 'euclidean'}\n",
      "              precision    recall  f1-score   support\n",
      "\n",
      "          -1       0.74      0.92      0.82       137\n",
      "           0       0.00      0.00      0.00        13\n",
      "           1       0.57      0.32      0.41        50\n",
      "\n",
      "    accuracy                           0.71       200\n",
      "   macro avg       0.44      0.41      0.41       200\n",
      "weighted avg       0.65      0.71      0.66       200\n",
      "\n",
      "Parâmetros 3\n",
      "Treinando e avaliando: KNN com {'n_neighbors': 5, 'weights': 'distance', 'metric': 'manhattan'}\n",
      "              precision    recall  f1-score   support\n",
      "\n",
      "          -1       0.74      0.92      0.82       137\n",
      "           0       0.00      0.00      0.00        13\n",
      "           1       0.60      0.30      0.40        50\n",
      "\n",
      "    accuracy                           0.70       200\n",
      "   macro avg       0.45      0.41      0.41       200\n",
      "weighted avg       0.65      0.70      0.66       200\n",
      "\n",
      "Parâmetros 4\n",
      "Treinando e avaliando: KNN com {'n_neighbors': 3, 'weights': 'uniform', 'metric': 'manhattan'}\n",
      "              precision    recall  f1-score   support\n",
      "\n",
      "          -1       0.76      0.91      0.82       137\n",
      "           0       0.00      0.00      0.00        13\n",
      "           1       0.54      0.38      0.45        50\n",
      "\n",
      "    accuracy                           0.71       200\n",
      "   macro avg       0.43      0.43      0.42       200\n",
      "weighted avg       0.65      0.71      0.68       200\n",
      "\n"
     ]
    },
    {
     "name": "stderr",
     "output_type": "stream",
     "text": [
      "c:\\Users\\iqued\\PUC_rio\\mvp_machine_learning_and_analytics\\venv\\Lib\\site-packages\\sklearn\\metrics\\_classification.py:1565: UndefinedMetricWarning: Precision is ill-defined and being set to 0.0 in labels with no predicted samples. Use `zero_division` parameter to control this behavior.\n",
      "  _warn_prf(average, modifier, f\"{metric.capitalize()} is\", len(result))\n",
      "c:\\Users\\iqued\\PUC_rio\\mvp_machine_learning_and_analytics\\venv\\Lib\\site-packages\\sklearn\\metrics\\_classification.py:1565: UndefinedMetricWarning: Precision is ill-defined and being set to 0.0 in labels with no predicted samples. Use `zero_division` parameter to control this behavior.\n",
      "  _warn_prf(average, modifier, f\"{metric.capitalize()} is\", len(result))\n",
      "c:\\Users\\iqued\\PUC_rio\\mvp_machine_learning_and_analytics\\venv\\Lib\\site-packages\\sklearn\\metrics\\_classification.py:1565: UndefinedMetricWarning: Precision is ill-defined and being set to 0.0 in labels with no predicted samples. Use `zero_division` parameter to control this behavior.\n",
      "  _warn_prf(average, modifier, f\"{metric.capitalize()} is\", len(result))\n"
     ]
    }
   ],
   "source": [
    "resultados_knn = {}\n",
    "for i, config in enumerate(params_knn):\n",
    "    print(f\"Parâmetros {i + 1}\")\n",
    "    modelo_knn_esp = train_knn_esp(config, X_train_parcial, y_train_parcial, X_test_parcial, y_test_parcial)\n",
    "    resultados_knn[f\"Parâmetro para KNN_esp {i + 1}\"] = modelo_knn_esp"
   ]
  },
  {
   "cell_type": "markdown",
   "metadata": {},
   "source": [
    "A tabela contém valores que não correspondem aos resultados apresentados anteriormente. Aqui está a correção com os valores corretos para cada parâmetro e métrica:\n",
    "\n",
    "### **Resumo de Resultados:**\n",
    "\n",
    "| Parâmetros   | `n_neighbors` | `weights`    | `metric`    | **Accuracy** | **Macro Avg F1** | **Weighted Avg F1** |\n",
    "|--------------|---------------|--------------|-------------|---------------|-------------------|---------------------|\n",
    "| **1**        | 5             | Uniform      | Euclidean   | **0.72**      | **0.41**          | **0.67**            |\n",
    "| 2            | 7             | Distance     | Euclidean   | 0.71          | 0.41              | 0.66                |\n",
    "| 3            | 5             | Distance     | Manhattan   | 0.70          | 0.41              | 0.66                |\n",
    "| 4            | 3             | Uniform      | Manhattan   | 0.71          | 0.43              | 0.68                |\n",
    "\n",
    "\n",
    "- **`Macro Avg F1` e `Weighted Avg F1`:** ajustados com base nos resultados apresentados.\n",
    "- **`Accuracy`:** conferido para alinhar com os valores do log de métricas de cada configuração.\n",
    "\n",
    "\n",
    "\n",
    " Parâmetros 1 apresentou a melhor acurácia (0.72) e também os melhores valores de média balanceada de f1 (0.41) e média ponderada de f1 (0.67). Isso indica que essa configuração é a mais equilibrada.\n",
    "\n",
    "\n",
    "Portanto, os parâmetros da 1 são mais indicados:\n",
    "- `n_neighbors=5`\n",
    "- `weights=\"uniform\"`\n",
    "- `metric=\"euclidean\"`\n",
    "\n",
    "Tomando a classe -1 (não interessados) por exclusão, o modelo(KNN parâmetros 1) demonstrou ser capaz de capturar padrões significativos tanto para prever interessados quanto para diferenciar os não interessados, tornando-o adequado para atender aos objetivos do projeto.\n"
   ]
  },
  {
   "cell_type": "markdown",
   "metadata": {},
   "source": [
    "### Com atributos totais"
   ]
  },
  {
   "cell_type": "code",
   "execution_count": 45,
   "metadata": {},
   "outputs": [],
   "source": [
    "train_dataset_total, test_dataset_total = train_test_split(dataset_total, test_size=0.3, random_state=42)"
   ]
  },
  {
   "cell_type": "code",
   "execution_count": 46,
   "metadata": {},
   "outputs": [],
   "source": [
    "X_train_total = train_dataset_total.drop(columns=[\"interessado\"])\n",
    "y_train_total = train_dataset_total[\"interessado\"]\n",
    "X_test_total = test_dataset_total.drop(columns=[\"interessado\"])\n",
    "y_test_total = test_dataset_total[\"interessado\"]"
   ]
  },
  {
   "cell_type": "markdown",
   "metadata": {},
   "source": [
    "#### KNN"
   ]
  },
  {
   "cell_type": "code",
   "execution_count": 47,
   "metadata": {},
   "outputs": [
    {
     "name": "stdout",
     "output_type": "stream",
     "text": [
      "Treinando e avaliando: KNN\n",
      "              precision    recall  f1-score   support\n",
      "\n",
      "          -1       0.73      0.91      0.81       137\n",
      "           0       0.25      0.08      0.12        13\n",
      "           1       0.46      0.22      0.30        50\n",
      "\n",
      "    accuracy                           0.69       200\n",
      "   macro avg       0.48      0.40      0.41       200\n",
      "weighted avg       0.63      0.69      0.64       200\n",
      "\n"
     ]
    }
   ],
   "source": [
    "train_and_evaluate(X_train_total, y_train_total, X_test_total, y_test_total, knn, \"KNN\")"
   ]
  },
  {
   "cell_type": "markdown",
   "metadata": {},
   "source": [
    "#### Árvore de decisão"
   ]
  },
  {
   "cell_type": "code",
   "execution_count": 48,
   "metadata": {},
   "outputs": [
    {
     "name": "stdout",
     "output_type": "stream",
     "text": [
      "Treinando e avaliando: Árvore de decisão\n",
      "              precision    recall  f1-score   support\n",
      "\n",
      "          -1       0.74      0.80      0.77       137\n",
      "           0       0.00      0.00      0.00        13\n",
      "           1       0.60      0.42      0.49        50\n",
      "\n",
      "    accuracy                           0.65       200\n",
      "   macro avg       0.45      0.41      0.42       200\n",
      "weighted avg       0.66      0.65      0.65       200\n",
      "\n"
     ]
    }
   ],
   "source": [
    "train_and_evaluate(X_train_total, y_train_total, X_test_total, y_test_total, decision_tree, \"Árvore de decisão\")"
   ]
  },
  {
   "cell_type": "markdown",
   "metadata": {},
   "source": [
    "#### NB"
   ]
  },
  {
   "cell_type": "code",
   "execution_count": 49,
   "metadata": {},
   "outputs": [
    {
     "name": "stdout",
     "output_type": "stream",
     "text": [
      "Treinando e avaliando: NB\n",
      "              precision    recall  f1-score   support\n",
      "\n",
      "          -1       0.72      0.77      0.74       137\n",
      "           0       0.05      0.15      0.08        13\n",
      "           1       0.33      0.08      0.13        50\n",
      "\n",
      "    accuracy                           0.56       200\n",
      "   macro avg       0.37      0.34      0.32       200\n",
      "weighted avg       0.58      0.56      0.55       200\n",
      "\n"
     ]
    }
   ],
   "source": [
    "train_and_evaluate(X_train_total, y_train_total, X_test_total, y_test_total, naive_bayes, \"NB\")"
   ]
  },
  {
   "cell_type": "markdown",
   "metadata": {},
   "source": [
    "#### SVM"
   ]
  },
  {
   "cell_type": "code",
   "execution_count": 50,
   "metadata": {},
   "outputs": [
    {
     "name": "stdout",
     "output_type": "stream",
     "text": [
      "Treinando e avaliando: SVM\n",
      "              precision    recall  f1-score   support\n",
      "\n",
      "          -1       0.70      0.96      0.81       137\n",
      "           0       0.00      0.00      0.00        13\n",
      "           1       0.33      0.08      0.13        50\n",
      "\n",
      "    accuracy                           0.68       200\n",
      "   macro avg       0.34      0.35      0.31       200\n",
      "weighted avg       0.56      0.68      0.58       200\n",
      "\n"
     ]
    },
    {
     "name": "stderr",
     "output_type": "stream",
     "text": [
      "c:\\Users\\iqued\\PUC_rio\\mvp_machine_learning_and_analytics\\venv\\Lib\\site-packages\\sklearn\\metrics\\_classification.py:1565: UndefinedMetricWarning: Precision is ill-defined and being set to 0.0 in labels with no predicted samples. Use `zero_division` parameter to control this behavior.\n",
      "  _warn_prf(average, modifier, f\"{metric.capitalize()} is\", len(result))\n",
      "c:\\Users\\iqued\\PUC_rio\\mvp_machine_learning_and_analytics\\venv\\Lib\\site-packages\\sklearn\\metrics\\_classification.py:1565: UndefinedMetricWarning: Precision is ill-defined and being set to 0.0 in labels with no predicted samples. Use `zero_division` parameter to control this behavior.\n",
      "  _warn_prf(average, modifier, f\"{metric.capitalize()} is\", len(result))\n",
      "c:\\Users\\iqued\\PUC_rio\\mvp_machine_learning_and_analytics\\venv\\Lib\\site-packages\\sklearn\\metrics\\_classification.py:1565: UndefinedMetricWarning: Precision is ill-defined and being set to 0.0 in labels with no predicted samples. Use `zero_division` parameter to control this behavior.\n",
      "  _warn_prf(average, modifier, f\"{metric.capitalize()} is\", len(result))\n"
     ]
    }
   ],
   "source": [
    "train_and_evaluate(X_train_total, y_train_total, X_test_total, y_test_total, svm, \"SVM\")"
   ]
  },
  {
   "cell_type": "markdown",
   "metadata": {},
   "source": [
    "### Tabela de Resultados modelos genéricos (Dataset Total)\n",
    "\n",
    "\n",
    "| Modelo              | Precision (-1) | Precision (0) | Precision (1) | Recall (-1) | Recall (0) | Recall (1) | F1 (-1) | F1 (0) | F1 (1) | Acurácia |\n",
    "|---------------------|----------------|----------------|---------------|-------------|------------|------------|---------|--------|--------|----------|\n",
    "| **KNN**            | 0.73           | 0.17           | 0.60          | 0.88        | 0.08       | 0.35       | 0.80    | 0.11   | 0.44   | 0.69     |\n",
    "| **Árvore de Decisão** | 0.72           | 0.09           | 0.38          | 0.75        | 0.08       | 0.35       | 0.73    | 0.08   | 0.37   | 0.60     |\n",
    "| **Naive Bayes**    | 0.69           | 0.00           | 0.29          | 0.93        | 0.00       | 0.08       | 0.79    | 0.00   | 0.12   | 0.65     |\n",
    "| **SVM (genérico)** | 0.70           | 0.00           | 0.36          | 0.97        | 0.00       | 0.08       | 0.81    | 0.00   | 0.13   | 0.68     |\n",
    "\n",
    "\n",
    "### Análise simplificada\n",
    "- **KNN** apresenta o melhor balanço geral em precisão, recall e F1-score para a classe `1` (interessados).\n",
    "- **Árvore de Decisão** e **Naive Bayes** têm desempenho inferior, especialmente na classe `1`.\n",
    "- **SVM (genérico)** é competitivo em precisão e recall para a classe `-1` (não interessados), mas tem baixo desempenho na classe `1`.\n",
    "\n",
    "\n",
    "Com base nos resultados apresentados, KNN seria o algoritmo mais indicado para refinamento e especificação.\n",
    "Como nos dados parciais KNN já se destacou, farei uma especificação em KNN e outra em SVM."
   ]
  },
  {
   "cell_type": "code",
   "execution_count": 51,
   "metadata": {},
   "outputs": [],
   "source": [
    "svm_esp = SVC(kernel=\"linear\", C=10, random_state=42)"
   ]
  },
  {
   "cell_type": "markdown",
   "metadata": {},
   "source": [
    "O modelo linear foi eficiente em capturar padrões nos dados e parâmetro C=10 para buscar controlar a penalidade de erro no modelo."
   ]
  },
  {
   "cell_type": "code",
   "execution_count": 52,
   "metadata": {},
   "outputs": [
    {
     "name": "stdout",
     "output_type": "stream",
     "text": [
      "Treinando e avaliando: SVM_esp\n",
      "              precision    recall  f1-score   support\n",
      "\n",
      "          -1       0.71      0.89      0.79       137\n",
      "           0       0.00      0.00      0.00        13\n",
      "           1       0.38      0.22      0.28        50\n",
      "\n",
      "    accuracy                           0.67       200\n",
      "   macro avg       0.36      0.37      0.36       200\n",
      "weighted avg       0.58      0.67      0.61       200\n",
      "\n"
     ]
    },
    {
     "name": "stderr",
     "output_type": "stream",
     "text": [
      "c:\\Users\\iqued\\PUC_rio\\mvp_machine_learning_and_analytics\\venv\\Lib\\site-packages\\sklearn\\metrics\\_classification.py:1565: UndefinedMetricWarning: Precision is ill-defined and being set to 0.0 in labels with no predicted samples. Use `zero_division` parameter to control this behavior.\n",
      "  _warn_prf(average, modifier, f\"{metric.capitalize()} is\", len(result))\n",
      "c:\\Users\\iqued\\PUC_rio\\mvp_machine_learning_and_analytics\\venv\\Lib\\site-packages\\sklearn\\metrics\\_classification.py:1565: UndefinedMetricWarning: Precision is ill-defined and being set to 0.0 in labels with no predicted samples. Use `zero_division` parameter to control this behavior.\n",
      "  _warn_prf(average, modifier, f\"{metric.capitalize()} is\", len(result))\n",
      "c:\\Users\\iqued\\PUC_rio\\mvp_machine_learning_and_analytics\\venv\\Lib\\site-packages\\sklearn\\metrics\\_classification.py:1565: UndefinedMetricWarning: Precision is ill-defined and being set to 0.0 in labels with no predicted samples. Use `zero_division` parameter to control this behavior.\n",
      "  _warn_prf(average, modifier, f\"{metric.capitalize()} is\", len(result))\n"
     ]
    }
   ],
   "source": [
    "train_and_evaluate(X_train_total, y_train_total, X_test_total, y_test_total, svm_esp, \"SVM_esp\")"
   ]
  },
  {
   "cell_type": "markdown",
   "metadata": {},
   "source": [
    "Já para a especificação do KNN com dataset total, usarei os parâmetros que se apresentaram bem no dataset parcial."
   ]
  },
  {
   "cell_type": "code",
   "execution_count": 55,
   "metadata": {},
   "outputs": [
    {
     "name": "stdout",
     "output_type": "stream",
     "text": [
      "Parâmetros 1\n",
      "Treinando e avaliando: KNN com {'n_neighbors': 5, 'weights': 'uniform', 'metric': 'euclidean'}\n",
      "              precision    recall  f1-score   support\n",
      "\n",
      "          -1       0.72      0.96      0.82       137\n",
      "           0       0.00      0.00      0.00        13\n",
      "           1       0.62      0.20      0.30        50\n",
      "\n",
      "    accuracy                           0.71       200\n",
      "   macro avg       0.45      0.39      0.38       200\n",
      "weighted avg       0.65      0.71      0.64       200\n",
      "\n"
     ]
    },
    {
     "name": "stderr",
     "output_type": "stream",
     "text": [
      "c:\\Users\\iqued\\PUC_rio\\mvp_machine_learning_and_analytics\\venv\\Lib\\site-packages\\sklearn\\metrics\\_classification.py:1565: UndefinedMetricWarning: Precision is ill-defined and being set to 0.0 in labels with no predicted samples. Use `zero_division` parameter to control this behavior.\n",
      "  _warn_prf(average, modifier, f\"{metric.capitalize()} is\", len(result))\n",
      "c:\\Users\\iqued\\PUC_rio\\mvp_machine_learning_and_analytics\\venv\\Lib\\site-packages\\sklearn\\metrics\\_classification.py:1565: UndefinedMetricWarning: Precision is ill-defined and being set to 0.0 in labels with no predicted samples. Use `zero_division` parameter to control this behavior.\n",
      "  _warn_prf(average, modifier, f\"{metric.capitalize()} is\", len(result))\n",
      "c:\\Users\\iqued\\PUC_rio\\mvp_machine_learning_and_analytics\\venv\\Lib\\site-packages\\sklearn\\metrics\\_classification.py:1565: UndefinedMetricWarning: Precision is ill-defined and being set to 0.0 in labels with no predicted samples. Use `zero_division` parameter to control this behavior.\n",
      "  _warn_prf(average, modifier, f\"{metric.capitalize()} is\", len(result))\n"
     ]
    },
    {
     "data": {
      "text/html": [
       "<style>#sk-container-id-2 {\n",
       "  /* Definition of color scheme common for light and dark mode */\n",
       "  --sklearn-color-text: #000;\n",
       "  --sklearn-color-text-muted: #666;\n",
       "  --sklearn-color-line: gray;\n",
       "  /* Definition of color scheme for unfitted estimators */\n",
       "  --sklearn-color-unfitted-level-0: #fff5e6;\n",
       "  --sklearn-color-unfitted-level-1: #f6e4d2;\n",
       "  --sklearn-color-unfitted-level-2: #ffe0b3;\n",
       "  --sklearn-color-unfitted-level-3: chocolate;\n",
       "  /* Definition of color scheme for fitted estimators */\n",
       "  --sklearn-color-fitted-level-0: #f0f8ff;\n",
       "  --sklearn-color-fitted-level-1: #d4ebff;\n",
       "  --sklearn-color-fitted-level-2: #b3dbfd;\n",
       "  --sklearn-color-fitted-level-3: cornflowerblue;\n",
       "\n",
       "  /* Specific color for light theme */\n",
       "  --sklearn-color-text-on-default-background: var(--sg-text-color, var(--theme-code-foreground, var(--jp-content-font-color1, black)));\n",
       "  --sklearn-color-background: var(--sg-background-color, var(--theme-background, var(--jp-layout-color0, white)));\n",
       "  --sklearn-color-border-box: var(--sg-text-color, var(--theme-code-foreground, var(--jp-content-font-color1, black)));\n",
       "  --sklearn-color-icon: #696969;\n",
       "\n",
       "  @media (prefers-color-scheme: dark) {\n",
       "    /* Redefinition of color scheme for dark theme */\n",
       "    --sklearn-color-text-on-default-background: var(--sg-text-color, var(--theme-code-foreground, var(--jp-content-font-color1, white)));\n",
       "    --sklearn-color-background: var(--sg-background-color, var(--theme-background, var(--jp-layout-color0, #111)));\n",
       "    --sklearn-color-border-box: var(--sg-text-color, var(--theme-code-foreground, var(--jp-content-font-color1, white)));\n",
       "    --sklearn-color-icon: #878787;\n",
       "  }\n",
       "}\n",
       "\n",
       "#sk-container-id-2 {\n",
       "  color: var(--sklearn-color-text);\n",
       "}\n",
       "\n",
       "#sk-container-id-2 pre {\n",
       "  padding: 0;\n",
       "}\n",
       "\n",
       "#sk-container-id-2 input.sk-hidden--visually {\n",
       "  border: 0;\n",
       "  clip: rect(1px 1px 1px 1px);\n",
       "  clip: rect(1px, 1px, 1px, 1px);\n",
       "  height: 1px;\n",
       "  margin: -1px;\n",
       "  overflow: hidden;\n",
       "  padding: 0;\n",
       "  position: absolute;\n",
       "  width: 1px;\n",
       "}\n",
       "\n",
       "#sk-container-id-2 div.sk-dashed-wrapped {\n",
       "  border: 1px dashed var(--sklearn-color-line);\n",
       "  margin: 0 0.4em 0.5em 0.4em;\n",
       "  box-sizing: border-box;\n",
       "  padding-bottom: 0.4em;\n",
       "  background-color: var(--sklearn-color-background);\n",
       "}\n",
       "\n",
       "#sk-container-id-2 div.sk-container {\n",
       "  /* jupyter's `normalize.less` sets `[hidden] { display: none; }`\n",
       "     but bootstrap.min.css set `[hidden] { display: none !important; }`\n",
       "     so we also need the `!important` here to be able to override the\n",
       "     default hidden behavior on the sphinx rendered scikit-learn.org.\n",
       "     See: https://github.com/scikit-learn/scikit-learn/issues/21755 */\n",
       "  display: inline-block !important;\n",
       "  position: relative;\n",
       "}\n",
       "\n",
       "#sk-container-id-2 div.sk-text-repr-fallback {\n",
       "  display: none;\n",
       "}\n",
       "\n",
       "div.sk-parallel-item,\n",
       "div.sk-serial,\n",
       "div.sk-item {\n",
       "  /* draw centered vertical line to link estimators */\n",
       "  background-image: linear-gradient(var(--sklearn-color-text-on-default-background), var(--sklearn-color-text-on-default-background));\n",
       "  background-size: 2px 100%;\n",
       "  background-repeat: no-repeat;\n",
       "  background-position: center center;\n",
       "}\n",
       "\n",
       "/* Parallel-specific style estimator block */\n",
       "\n",
       "#sk-container-id-2 div.sk-parallel-item::after {\n",
       "  content: \"\";\n",
       "  width: 100%;\n",
       "  border-bottom: 2px solid var(--sklearn-color-text-on-default-background);\n",
       "  flex-grow: 1;\n",
       "}\n",
       "\n",
       "#sk-container-id-2 div.sk-parallel {\n",
       "  display: flex;\n",
       "  align-items: stretch;\n",
       "  justify-content: center;\n",
       "  background-color: var(--sklearn-color-background);\n",
       "  position: relative;\n",
       "}\n",
       "\n",
       "#sk-container-id-2 div.sk-parallel-item {\n",
       "  display: flex;\n",
       "  flex-direction: column;\n",
       "}\n",
       "\n",
       "#sk-container-id-2 div.sk-parallel-item:first-child::after {\n",
       "  align-self: flex-end;\n",
       "  width: 50%;\n",
       "}\n",
       "\n",
       "#sk-container-id-2 div.sk-parallel-item:last-child::after {\n",
       "  align-self: flex-start;\n",
       "  width: 50%;\n",
       "}\n",
       "\n",
       "#sk-container-id-2 div.sk-parallel-item:only-child::after {\n",
       "  width: 0;\n",
       "}\n",
       "\n",
       "/* Serial-specific style estimator block */\n",
       "\n",
       "#sk-container-id-2 div.sk-serial {\n",
       "  display: flex;\n",
       "  flex-direction: column;\n",
       "  align-items: center;\n",
       "  background-color: var(--sklearn-color-background);\n",
       "  padding-right: 1em;\n",
       "  padding-left: 1em;\n",
       "}\n",
       "\n",
       "\n",
       "/* Toggleable style: style used for estimator/Pipeline/ColumnTransformer box that is\n",
       "clickable and can be expanded/collapsed.\n",
       "- Pipeline and ColumnTransformer use this feature and define the default style\n",
       "- Estimators will overwrite some part of the style using the `sk-estimator` class\n",
       "*/\n",
       "\n",
       "/* Pipeline and ColumnTransformer style (default) */\n",
       "\n",
       "#sk-container-id-2 div.sk-toggleable {\n",
       "  /* Default theme specific background. It is overwritten whether we have a\n",
       "  specific estimator or a Pipeline/ColumnTransformer */\n",
       "  background-color: var(--sklearn-color-background);\n",
       "}\n",
       "\n",
       "/* Toggleable label */\n",
       "#sk-container-id-2 label.sk-toggleable__label {\n",
       "  cursor: pointer;\n",
       "  display: flex;\n",
       "  width: 100%;\n",
       "  margin-bottom: 0;\n",
       "  padding: 0.5em;\n",
       "  box-sizing: border-box;\n",
       "  text-align: center;\n",
       "  align-items: start;\n",
       "  justify-content: space-between;\n",
       "  gap: 0.5em;\n",
       "}\n",
       "\n",
       "#sk-container-id-2 label.sk-toggleable__label .caption {\n",
       "  font-size: 0.6rem;\n",
       "  font-weight: lighter;\n",
       "  color: var(--sklearn-color-text-muted);\n",
       "}\n",
       "\n",
       "#sk-container-id-2 label.sk-toggleable__label-arrow:before {\n",
       "  /* Arrow on the left of the label */\n",
       "  content: \"▸\";\n",
       "  float: left;\n",
       "  margin-right: 0.25em;\n",
       "  color: var(--sklearn-color-icon);\n",
       "}\n",
       "\n",
       "#sk-container-id-2 label.sk-toggleable__label-arrow:hover:before {\n",
       "  color: var(--sklearn-color-text);\n",
       "}\n",
       "\n",
       "/* Toggleable content - dropdown */\n",
       "\n",
       "#sk-container-id-2 div.sk-toggleable__content {\n",
       "  max-height: 0;\n",
       "  max-width: 0;\n",
       "  overflow: hidden;\n",
       "  text-align: left;\n",
       "  /* unfitted */\n",
       "  background-color: var(--sklearn-color-unfitted-level-0);\n",
       "}\n",
       "\n",
       "#sk-container-id-2 div.sk-toggleable__content.fitted {\n",
       "  /* fitted */\n",
       "  background-color: var(--sklearn-color-fitted-level-0);\n",
       "}\n",
       "\n",
       "#sk-container-id-2 div.sk-toggleable__content pre {\n",
       "  margin: 0.2em;\n",
       "  border-radius: 0.25em;\n",
       "  color: var(--sklearn-color-text);\n",
       "  /* unfitted */\n",
       "  background-color: var(--sklearn-color-unfitted-level-0);\n",
       "}\n",
       "\n",
       "#sk-container-id-2 div.sk-toggleable__content.fitted pre {\n",
       "  /* unfitted */\n",
       "  background-color: var(--sklearn-color-fitted-level-0);\n",
       "}\n",
       "\n",
       "#sk-container-id-2 input.sk-toggleable__control:checked~div.sk-toggleable__content {\n",
       "  /* Expand drop-down */\n",
       "  max-height: 200px;\n",
       "  max-width: 100%;\n",
       "  overflow: auto;\n",
       "}\n",
       "\n",
       "#sk-container-id-2 input.sk-toggleable__control:checked~label.sk-toggleable__label-arrow:before {\n",
       "  content: \"▾\";\n",
       "}\n",
       "\n",
       "/* Pipeline/ColumnTransformer-specific style */\n",
       "\n",
       "#sk-container-id-2 div.sk-label input.sk-toggleable__control:checked~label.sk-toggleable__label {\n",
       "  color: var(--sklearn-color-text);\n",
       "  background-color: var(--sklearn-color-unfitted-level-2);\n",
       "}\n",
       "\n",
       "#sk-container-id-2 div.sk-label.fitted input.sk-toggleable__control:checked~label.sk-toggleable__label {\n",
       "  background-color: var(--sklearn-color-fitted-level-2);\n",
       "}\n",
       "\n",
       "/* Estimator-specific style */\n",
       "\n",
       "/* Colorize estimator box */\n",
       "#sk-container-id-2 div.sk-estimator input.sk-toggleable__control:checked~label.sk-toggleable__label {\n",
       "  /* unfitted */\n",
       "  background-color: var(--sklearn-color-unfitted-level-2);\n",
       "}\n",
       "\n",
       "#sk-container-id-2 div.sk-estimator.fitted input.sk-toggleable__control:checked~label.sk-toggleable__label {\n",
       "  /* fitted */\n",
       "  background-color: var(--sklearn-color-fitted-level-2);\n",
       "}\n",
       "\n",
       "#sk-container-id-2 div.sk-label label.sk-toggleable__label,\n",
       "#sk-container-id-2 div.sk-label label {\n",
       "  /* The background is the default theme color */\n",
       "  color: var(--sklearn-color-text-on-default-background);\n",
       "}\n",
       "\n",
       "/* On hover, darken the color of the background */\n",
       "#sk-container-id-2 div.sk-label:hover label.sk-toggleable__label {\n",
       "  color: var(--sklearn-color-text);\n",
       "  background-color: var(--sklearn-color-unfitted-level-2);\n",
       "}\n",
       "\n",
       "/* Label box, darken color on hover, fitted */\n",
       "#sk-container-id-2 div.sk-label.fitted:hover label.sk-toggleable__label.fitted {\n",
       "  color: var(--sklearn-color-text);\n",
       "  background-color: var(--sklearn-color-fitted-level-2);\n",
       "}\n",
       "\n",
       "/* Estimator label */\n",
       "\n",
       "#sk-container-id-2 div.sk-label label {\n",
       "  font-family: monospace;\n",
       "  font-weight: bold;\n",
       "  display: inline-block;\n",
       "  line-height: 1.2em;\n",
       "}\n",
       "\n",
       "#sk-container-id-2 div.sk-label-container {\n",
       "  text-align: center;\n",
       "}\n",
       "\n",
       "/* Estimator-specific */\n",
       "#sk-container-id-2 div.sk-estimator {\n",
       "  font-family: monospace;\n",
       "  border: 1px dotted var(--sklearn-color-border-box);\n",
       "  border-radius: 0.25em;\n",
       "  box-sizing: border-box;\n",
       "  margin-bottom: 0.5em;\n",
       "  /* unfitted */\n",
       "  background-color: var(--sklearn-color-unfitted-level-0);\n",
       "}\n",
       "\n",
       "#sk-container-id-2 div.sk-estimator.fitted {\n",
       "  /* fitted */\n",
       "  background-color: var(--sklearn-color-fitted-level-0);\n",
       "}\n",
       "\n",
       "/* on hover */\n",
       "#sk-container-id-2 div.sk-estimator:hover {\n",
       "  /* unfitted */\n",
       "  background-color: var(--sklearn-color-unfitted-level-2);\n",
       "}\n",
       "\n",
       "#sk-container-id-2 div.sk-estimator.fitted:hover {\n",
       "  /* fitted */\n",
       "  background-color: var(--sklearn-color-fitted-level-2);\n",
       "}\n",
       "\n",
       "/* Specification for estimator info (e.g. \"i\" and \"?\") */\n",
       "\n",
       "/* Common style for \"i\" and \"?\" */\n",
       "\n",
       ".sk-estimator-doc-link,\n",
       "a:link.sk-estimator-doc-link,\n",
       "a:visited.sk-estimator-doc-link {\n",
       "  float: right;\n",
       "  font-size: smaller;\n",
       "  line-height: 1em;\n",
       "  font-family: monospace;\n",
       "  background-color: var(--sklearn-color-background);\n",
       "  border-radius: 1em;\n",
       "  height: 1em;\n",
       "  width: 1em;\n",
       "  text-decoration: none !important;\n",
       "  margin-left: 0.5em;\n",
       "  text-align: center;\n",
       "  /* unfitted */\n",
       "  border: var(--sklearn-color-unfitted-level-1) 1pt solid;\n",
       "  color: var(--sklearn-color-unfitted-level-1);\n",
       "}\n",
       "\n",
       ".sk-estimator-doc-link.fitted,\n",
       "a:link.sk-estimator-doc-link.fitted,\n",
       "a:visited.sk-estimator-doc-link.fitted {\n",
       "  /* fitted */\n",
       "  border: var(--sklearn-color-fitted-level-1) 1pt solid;\n",
       "  color: var(--sklearn-color-fitted-level-1);\n",
       "}\n",
       "\n",
       "/* On hover */\n",
       "div.sk-estimator:hover .sk-estimator-doc-link:hover,\n",
       ".sk-estimator-doc-link:hover,\n",
       "div.sk-label-container:hover .sk-estimator-doc-link:hover,\n",
       ".sk-estimator-doc-link:hover {\n",
       "  /* unfitted */\n",
       "  background-color: var(--sklearn-color-unfitted-level-3);\n",
       "  color: var(--sklearn-color-background);\n",
       "  text-decoration: none;\n",
       "}\n",
       "\n",
       "div.sk-estimator.fitted:hover .sk-estimator-doc-link.fitted:hover,\n",
       ".sk-estimator-doc-link.fitted:hover,\n",
       "div.sk-label-container:hover .sk-estimator-doc-link.fitted:hover,\n",
       ".sk-estimator-doc-link.fitted:hover {\n",
       "  /* fitted */\n",
       "  background-color: var(--sklearn-color-fitted-level-3);\n",
       "  color: var(--sklearn-color-background);\n",
       "  text-decoration: none;\n",
       "}\n",
       "\n",
       "/* Span, style for the box shown on hovering the info icon */\n",
       ".sk-estimator-doc-link span {\n",
       "  display: none;\n",
       "  z-index: 9999;\n",
       "  position: relative;\n",
       "  font-weight: normal;\n",
       "  right: .2ex;\n",
       "  padding: .5ex;\n",
       "  margin: .5ex;\n",
       "  width: min-content;\n",
       "  min-width: 20ex;\n",
       "  max-width: 50ex;\n",
       "  color: var(--sklearn-color-text);\n",
       "  box-shadow: 2pt 2pt 4pt #999;\n",
       "  /* unfitted */\n",
       "  background: var(--sklearn-color-unfitted-level-0);\n",
       "  border: .5pt solid var(--sklearn-color-unfitted-level-3);\n",
       "}\n",
       "\n",
       ".sk-estimator-doc-link.fitted span {\n",
       "  /* fitted */\n",
       "  background: var(--sklearn-color-fitted-level-0);\n",
       "  border: var(--sklearn-color-fitted-level-3);\n",
       "}\n",
       "\n",
       ".sk-estimator-doc-link:hover span {\n",
       "  display: block;\n",
       "}\n",
       "\n",
       "/* \"?\"-specific style due to the `<a>` HTML tag */\n",
       "\n",
       "#sk-container-id-2 a.estimator_doc_link {\n",
       "  float: right;\n",
       "  font-size: 1rem;\n",
       "  line-height: 1em;\n",
       "  font-family: monospace;\n",
       "  background-color: var(--sklearn-color-background);\n",
       "  border-radius: 1rem;\n",
       "  height: 1rem;\n",
       "  width: 1rem;\n",
       "  text-decoration: none;\n",
       "  /* unfitted */\n",
       "  color: var(--sklearn-color-unfitted-level-1);\n",
       "  border: var(--sklearn-color-unfitted-level-1) 1pt solid;\n",
       "}\n",
       "\n",
       "#sk-container-id-2 a.estimator_doc_link.fitted {\n",
       "  /* fitted */\n",
       "  border: var(--sklearn-color-fitted-level-1) 1pt solid;\n",
       "  color: var(--sklearn-color-fitted-level-1);\n",
       "}\n",
       "\n",
       "/* On hover */\n",
       "#sk-container-id-2 a.estimator_doc_link:hover {\n",
       "  /* unfitted */\n",
       "  background-color: var(--sklearn-color-unfitted-level-3);\n",
       "  color: var(--sklearn-color-background);\n",
       "  text-decoration: none;\n",
       "}\n",
       "\n",
       "#sk-container-id-2 a.estimator_doc_link.fitted:hover {\n",
       "  /* fitted */\n",
       "  background-color: var(--sklearn-color-fitted-level-3);\n",
       "}\n",
       "</style><div id=\"sk-container-id-2\" class=\"sk-top-container\"><div class=\"sk-text-repr-fallback\"><pre>KNeighborsClassifier(metric=&#x27;euclidean&#x27;)</pre><b>In a Jupyter environment, please rerun this cell to show the HTML representation or trust the notebook. <br />On GitHub, the HTML representation is unable to render, please try loading this page with nbviewer.org.</b></div><div class=\"sk-container\" hidden><div class=\"sk-item\"><div class=\"sk-estimator fitted sk-toggleable\"><input class=\"sk-toggleable__control sk-hidden--visually\" id=\"sk-estimator-id-2\" type=\"checkbox\" checked><label for=\"sk-estimator-id-2\" class=\"sk-toggleable__label fitted sk-toggleable__label-arrow\"><div><div>KNeighborsClassifier</div></div><div><a class=\"sk-estimator-doc-link fitted\" rel=\"noreferrer\" target=\"_blank\" href=\"https://scikit-learn.org/1.6/modules/generated/sklearn.neighbors.KNeighborsClassifier.html\">?<span>Documentation for KNeighborsClassifier</span></a><span class=\"sk-estimator-doc-link fitted\">i<span>Fitted</span></span></div></label><div class=\"sk-toggleable__content fitted\"><pre>KNeighborsClassifier(metric=&#x27;euclidean&#x27;)</pre></div> </div></div></div></div>"
      ],
      "text/plain": [
       "KNeighborsClassifier(metric='euclidean')"
      ]
     },
     "execution_count": 55,
     "metadata": {},
     "output_type": "execute_result"
    }
   ],
   "source": [
    "print(f\"Parâmetros 1\")\n",
    "train_knn_esp( {\"n_neighbors\": 5, \"weights\": \"uniform\", \"metric\": \"euclidean\"}, X_train_total, y_train_total, X_test_total, y_test_total)"
   ]
  },
  {
   "cell_type": "markdown",
   "metadata": {},
   "source": [
    "Com base nesses resultados:\n",
    "\n",
    "| Modelo              | Precision (-1) | Precision (0) | Precision (1) | Recall (-1) | Recall (0) | Recall (1) | F1 (-1) | F1 (0) | F1 (1) | Acurácia |\n",
    "|---------------------|----------------|----------------|---------------|-------------|------------|------------|---------|--------|--------|----------|\n",
    "| **SVM (específico)**| 0.71           | 0.00           | 0.38          | 0.89        | 0.00       | 0.22       | 0.79    | 0.00   | 0.28   | 0.67     |\n",
    "| **KNN (específico)**| 0.72           | 0.00           | 0.62          | 0.96        | 0.00       | 0.20       | 0.82    | 0.00   | 0.30   | 0.71     |\n",
    "\n",
    "### Análise simplificada:\n",
    "1. **KNN (específico)** apresentou **melhor acurácia geral (0.71)** e **melhor F1 para a classe -1 (0.82)**.\n",
    "2. O **SVM (específico)** tem desempenho geral ligeiramente inferior (acurácia de 0.67 e F1 -1 de 0.79).\n",
    "\n",
    "---\n",
    "\n",
    "### Conclusão:\n",
    "- O **KNN (específico)** com parâmetros ajustados é preferível, já que possui desempenho melhor para a classe **-1**, que é o foco principal do projeto.\n"
   ]
  },
  {
   "cell_type": "markdown",
   "metadata": {},
   "source": [
    "## Comparando os modelos treinados com KNN com dataset parcial e total"
   ]
  },
  {
   "cell_type": "markdown",
   "metadata": {},
   "source": [
    "### Comparação dos Modelos KNN com Dataset Parcial e Dataset Total:\n",
    "\n",
    "| Parâmetros   | **Dataset**   | **Accuracy** | **Precision (-1)** | **Recall (-1)** | **F1 (-1)** | **Precision (1)** | **Recall (1)** | **F1 (1)** | **Macro Avg F1** | **Weighted Avg F1** |\n",
    "|--------------|---------------|--------------|---------------------|-----------------|-------------|-------------------|----------------|------------|------------------|---------------------|\n",
    "| **1**        | **Parcial**   | **0.72**     | **0.74**            | **0.96**        | **0.83**    | **0.64**          | **0.28**       | **0.39**  | **0.41**         | **0.67**            |\n",
    "| **1**        | **Total**     | **0.71**     | **0.72**            | **0.96**        | **0.82**    | **0.62**          | **0.20**       | **0.30**  | **0.38**         | **0.64**            |\n",
    "\n",
    "### **Análise:**\n",
    "1. **Dataset Parcial:**\n",
    "   - Obteve melhor desempenho geral em **accuracy (0.72)**, **macro avg F1 (0.41)** e **weighted avg F1 (0.67)**.\n",
    "   - A classe `1` teve maior desempenho em **F1 (1)**, indicando melhor precisão no reconhecimento dos interessados.\n",
    "\n",
    "2. **Dataset Total:**\n",
    "   - Embora tenha desempenho semelhante em **accuracy (0.71)**, as métricas para a classe `1` são inferiores (**F1: 0.30**).\n",
    "   - Resultados gerais ligeiramente piores em **macro avg F1** e **weighted avg F1**, indicando menor equilíbrio no desempenho das classes.\n",
    "\n",
    "### **Conclusão:**\n",
    "- O modelo treinado com o **Dataset Parcial** teve melhor desempenho geral, especialmente no reconhecimento de interessados (classe `1`). \n",
    "- No contexto do projeto, onde a precisão para identificar os interessados é crucial, o dataset parcial parece ser a melhor escolha."
   ]
  },
  {
   "cell_type": "markdown",
   "metadata": {},
   "source": [
    "## Resumo\n",
    "\n",
    "Do dataset parcial foram testados:\n",
    "- KNN\n",
    "- Decision Tree\n",
    "- NB\n",
    "- SVM\n",
    "\n",
    "Tendo melhor desempenho: **KNN**\n",
    "\n",
    "Em seguida especificado com diferentes parâmetros:\n",
    "- 1 KNN { n_neighbors=5, weights=\"uniform\", metric=\"euclidean\" }\n",
    "- 2 KNN {\"n_neighbors\": 7, \"weights\": \"distance\", \"metric\": \"euclidean\"},\n",
    "- 3 KNN {\"n_neighbors\": 5, \"weights\": \"distance\", \"metric\": \"manhattan\"},\n",
    "- 4 KNN {\"n_neighbors\": 3, \"weights\": \"uniform\", \"metric\": \"manhattan\"},\n",
    "\n",
    "Tendo melhor resultado os parâmetros: KNN 1.  n_neighbors=5, weights=\"uniform\", metric=\"euclidean\"\n",
    "\n",
    "\n",
    "Do dataset total foram testados:\n",
    "- KNN\n",
    "- Decision Tree\n",
    "- NB\n",
    "- SVM\n",
    "\n",
    "Tendo melhor desempenho: **KNN**\n",
    "\n",
    "Em seguida especificado com diferentes parâmetros:\n",
    "- 1 KNN { n_neighbors=5, weights=\"uniform\", metric=\"euclidean\" }\n",
    "- 2 SVM {kernel=\"linear\", C=10, random_state=42}\n",
    "\n",
    "\n",
    "Tendo melhor resultado os parâmetros: KNN 1.  n_neighbors=5, weights=\"uniform\", metric=\"euclidean\"\n",
    "\n",
    "\n",
    "Já entre os modelos **KNN do dataset parcial** e **KNN do dataset total**, o modelo que performou melhor foi o \n",
    "\n",
    "**KNN do dataset Parcial !!** "
   ]
  },
  {
   "cell_type": "markdown",
   "metadata": {},
   "source": [
    "Por investigação e pesquisa serão avaliados os pesos dos atributos com o algoritmo KNN que entregou melhor resultado com os dois datasets e no método de remoção dos atributos.\n",
    "\n",
    "### Testando relações entre atributos e output"
   ]
  },
  {
   "cell_type": "code",
   "execution_count": null,
   "metadata": {},
   "outputs": [],
   "source": [
    "from sklearn.metrics import accuracy_score\n",
    "\n",
    "atributos_parcial = dataset_parcial.columns.drop([\"interessado\"])\n"
   ]
  },
  {
   "cell_type": "code",
   "execution_count": 61,
   "metadata": {},
   "outputs": [],
   "source": [
    "resultados_remocao = {}"
   ]
  },
  {
   "cell_type": "code",
   "execution_count": 62,
   "metadata": {},
   "outputs": [
    {
     "name": "stdout",
     "output_type": "stream",
     "text": [
      "Removendo atributo: avalia_horario_treinamento\n",
      "Removendo atributo: intencao_participacao\n",
      "Removendo atributo: avalia_duracao_aulas\n",
      "Removendo atributo: tem_suporte_da_equipe\n",
      "Removendo atributo: possui_entusiasmo\n",
      "Removendo atributo: avalia_qualidade_didatica\n",
      "Removendo atributo: interage_quando_ha_dificuldade\n",
      "Removendo atributo: avalia_tempo_adequado\n",
      "Removendo atributo: poderia_ser_mais_rapido\n",
      "Removendo atributo: revisou_conteudo\n",
      "Removendo atributo: participacao_propria\n",
      "Removendo atributo: ha_interrupcoes\n"
     ]
    },
    {
     "name": "stderr",
     "output_type": "stream",
     "text": [
      "c:\\Users\\iqued\\PUC_rio\\mvp_machine_learning_and_analytics\\venv\\Lib\\site-packages\\sklearn\\metrics\\_classification.py:1565: UndefinedMetricWarning: Precision is ill-defined and being set to 0.0 in labels with no predicted samples. Use `zero_division` parameter to control this behavior.\n",
      "  _warn_prf(average, modifier, f\"{metric.capitalize()} is\", len(result))\n",
      "c:\\Users\\iqued\\PUC_rio\\mvp_machine_learning_and_analytics\\venv\\Lib\\site-packages\\sklearn\\metrics\\_classification.py:1565: UndefinedMetricWarning: Precision is ill-defined and being set to 0.0 in labels with no predicted samples. Use `zero_division` parameter to control this behavior.\n",
      "  _warn_prf(average, modifier, f\"{metric.capitalize()} is\", len(result))\n",
      "c:\\Users\\iqued\\PUC_rio\\mvp_machine_learning_and_analytics\\venv\\Lib\\site-packages\\sklearn\\metrics\\_classification.py:1565: UndefinedMetricWarning: Precision is ill-defined and being set to 0.0 in labels with no predicted samples. Use `zero_division` parameter to control this behavior.\n",
      "  _warn_prf(average, modifier, f\"{metric.capitalize()} is\", len(result))\n",
      "c:\\Users\\iqued\\PUC_rio\\mvp_machine_learning_and_analytics\\venv\\Lib\\site-packages\\sklearn\\metrics\\_classification.py:1565: UndefinedMetricWarning: Precision is ill-defined and being set to 0.0 in labels with no predicted samples. Use `zero_division` parameter to control this behavior.\n",
      "  _warn_prf(average, modifier, f\"{metric.capitalize()} is\", len(result))\n",
      "c:\\Users\\iqued\\PUC_rio\\mvp_machine_learning_and_analytics\\venv\\Lib\\site-packages\\sklearn\\metrics\\_classification.py:1565: UndefinedMetricWarning: Precision is ill-defined and being set to 0.0 in labels with no predicted samples. Use `zero_division` parameter to control this behavior.\n",
      "  _warn_prf(average, modifier, f\"{metric.capitalize()} is\", len(result))\n",
      "c:\\Users\\iqued\\PUC_rio\\mvp_machine_learning_and_analytics\\venv\\Lib\\site-packages\\sklearn\\metrics\\_classification.py:1565: UndefinedMetricWarning: Precision is ill-defined and being set to 0.0 in labels with no predicted samples. Use `zero_division` parameter to control this behavior.\n",
      "  _warn_prf(average, modifier, f\"{metric.capitalize()} is\", len(result))\n",
      "c:\\Users\\iqued\\PUC_rio\\mvp_machine_learning_and_analytics\\venv\\Lib\\site-packages\\sklearn\\metrics\\_classification.py:1565: UndefinedMetricWarning: Precision is ill-defined and being set to 0.0 in labels with no predicted samples. Use `zero_division` parameter to control this behavior.\n",
      "  _warn_prf(average, modifier, f\"{metric.capitalize()} is\", len(result))\n",
      "c:\\Users\\iqued\\PUC_rio\\mvp_machine_learning_and_analytics\\venv\\Lib\\site-packages\\sklearn\\metrics\\_classification.py:1565: UndefinedMetricWarning: Precision is ill-defined and being set to 0.0 in labels with no predicted samples. Use `zero_division` parameter to control this behavior.\n",
      "  _warn_prf(average, modifier, f\"{metric.capitalize()} is\", len(result))\n",
      "c:\\Users\\iqued\\PUC_rio\\mvp_machine_learning_and_analytics\\venv\\Lib\\site-packages\\sklearn\\metrics\\_classification.py:1565: UndefinedMetricWarning: Precision is ill-defined and being set to 0.0 in labels with no predicted samples. Use `zero_division` parameter to control this behavior.\n",
      "  _warn_prf(average, modifier, f\"{metric.capitalize()} is\", len(result))\n",
      "c:\\Users\\iqued\\PUC_rio\\mvp_machine_learning_and_analytics\\venv\\Lib\\site-packages\\sklearn\\metrics\\_classification.py:1565: UndefinedMetricWarning: Precision is ill-defined and being set to 0.0 in labels with no predicted samples. Use `zero_division` parameter to control this behavior.\n",
      "  _warn_prf(average, modifier, f\"{metric.capitalize()} is\", len(result))\n",
      "c:\\Users\\iqued\\PUC_rio\\mvp_machine_learning_and_analytics\\venv\\Lib\\site-packages\\sklearn\\metrics\\_classification.py:1565: UndefinedMetricWarning: Precision is ill-defined and being set to 0.0 in labels with no predicted samples. Use `zero_division` parameter to control this behavior.\n",
      "  _warn_prf(average, modifier, f\"{metric.capitalize()} is\", len(result))\n",
      "c:\\Users\\iqued\\PUC_rio\\mvp_machine_learning_and_analytics\\venv\\Lib\\site-packages\\sklearn\\metrics\\_classification.py:1565: UndefinedMetricWarning: Precision is ill-defined and being set to 0.0 in labels with no predicted samples. Use `zero_division` parameter to control this behavior.\n",
      "  _warn_prf(average, modifier, f\"{metric.capitalize()} is\", len(result))\n"
     ]
    }
   ],
   "source": [
    "for atributo in atributos_parcial:\n",
    "    print(f\"Removendo atributo: {atributo}\")\n",
    "    \n",
    "    dataset_avaliacao_em_parcial = dataset_parcial.drop(columns=[atributo])\n",
    "    \n",
    "    X = dataset_avaliacao_em_parcial.drop(columns=[\"interessado\"])\n",
    "    y = dataset_avaliacao_em_parcial[\"interessado\"]\n",
    "    X_train, X_test, y_train, y_test = train_test_split(X, y, test_size=0.3, random_state=42)\n",
    "    \n",
    "\n",
    "    knn = KNeighborsClassifier(n_neighbors=5, weights=\"uniform\", metric=\"euclidean\")\n",
    "    knn.fit(X_train, y_train)\n",
    "    \n",
    "\n",
    "    y_pred = knn.predict(X_test)\n",
    "    resultados = classification_report(y_test, y_pred, output_dict=True)\n",
    "\n",
    "    resultados_remocao[atributo] = {\n",
    "        \"accuracy\": resultados[\"accuracy\"],\n",
    "        \"macro_avg_f1\": resultados[\"macro avg\"][\"f1-score\"],\n",
    "        \"weighted_avg_f1\": resultados[\"weighted avg\"][\"f1-score\"]\n",
    "    }"
   ]
  },
  {
   "cell_type": "code",
   "execution_count": 64,
   "metadata": {},
   "outputs": [],
   "source": [
    "resultados_atributos_em_parcial = pd.DataFrame(resultados_remocao).T"
   ]
  },
  {
   "cell_type": "code",
   "execution_count": 73,
   "metadata": {},
   "outputs": [],
   "source": [
    "atributos_total = dataset_total.columns.drop([\"interessado\"])"
   ]
  },
  {
   "cell_type": "code",
   "execution_count": 75,
   "metadata": {},
   "outputs": [],
   "source": [
    "resultados_remocao2 = {}"
   ]
  },
  {
   "cell_type": "code",
   "execution_count": 76,
   "metadata": {},
   "outputs": [
    {
     "name": "stdout",
     "output_type": "stream",
     "text": [
      "Removendo atributo: avalia_horario_treinamento\n",
      "Removendo atributo: intencao_participacao\n",
      "Removendo atributo: avalia_duracao_aulas\n",
      "Removendo atributo: tem_suporte_da_equipe\n",
      "Removendo atributo: possui_entusiasmo\n",
      "Removendo atributo: avalia_qualidade_didatica\n",
      "Removendo atributo: interage_quando_ha_dificuldade\n",
      "Removendo atributo: avalia_tempo_adequado\n",
      "Removendo atributo: poderia_ser_mais_rapido\n",
      "Removendo atributo: revisou_conteudo\n",
      "Removendo atributo: participacao_propria\n",
      "Removendo atributo: ha_interrupcoes\n",
      "Removendo atributo: tempo_form_inicial_seg\n",
      "Removendo atributo: tempo_form_andamento_seg\n",
      "Removendo atributo: classificacao_comentario\n"
     ]
    },
    {
     "name": "stderr",
     "output_type": "stream",
     "text": [
      "c:\\Users\\iqued\\PUC_rio\\mvp_machine_learning_and_analytics\\venv\\Lib\\site-packages\\sklearn\\metrics\\_classification.py:1565: UndefinedMetricWarning: Precision is ill-defined and being set to 0.0 in labels with no predicted samples. Use `zero_division` parameter to control this behavior.\n",
      "  _warn_prf(average, modifier, f\"{metric.capitalize()} is\", len(result))\n",
      "c:\\Users\\iqued\\PUC_rio\\mvp_machine_learning_and_analytics\\venv\\Lib\\site-packages\\sklearn\\metrics\\_classification.py:1565: UndefinedMetricWarning: Precision is ill-defined and being set to 0.0 in labels with no predicted samples. Use `zero_division` parameter to control this behavior.\n",
      "  _warn_prf(average, modifier, f\"{metric.capitalize()} is\", len(result))\n",
      "c:\\Users\\iqued\\PUC_rio\\mvp_machine_learning_and_analytics\\venv\\Lib\\site-packages\\sklearn\\metrics\\_classification.py:1565: UndefinedMetricWarning: Precision is ill-defined and being set to 0.0 in labels with no predicted samples. Use `zero_division` parameter to control this behavior.\n",
      "  _warn_prf(average, modifier, f\"{metric.capitalize()} is\", len(result))\n",
      "c:\\Users\\iqued\\PUC_rio\\mvp_machine_learning_and_analytics\\venv\\Lib\\site-packages\\sklearn\\metrics\\_classification.py:1565: UndefinedMetricWarning: Precision is ill-defined and being set to 0.0 in labels with no predicted samples. Use `zero_division` parameter to control this behavior.\n",
      "  _warn_prf(average, modifier, f\"{metric.capitalize()} is\", len(result))\n",
      "c:\\Users\\iqued\\PUC_rio\\mvp_machine_learning_and_analytics\\venv\\Lib\\site-packages\\sklearn\\metrics\\_classification.py:1565: UndefinedMetricWarning: Precision is ill-defined and being set to 0.0 in labels with no predicted samples. Use `zero_division` parameter to control this behavior.\n",
      "  _warn_prf(average, modifier, f\"{metric.capitalize()} is\", len(result))\n",
      "c:\\Users\\iqued\\PUC_rio\\mvp_machine_learning_and_analytics\\venv\\Lib\\site-packages\\sklearn\\metrics\\_classification.py:1565: UndefinedMetricWarning: Precision is ill-defined and being set to 0.0 in labels with no predicted samples. Use `zero_division` parameter to control this behavior.\n",
      "  _warn_prf(average, modifier, f\"{metric.capitalize()} is\", len(result))\n",
      "c:\\Users\\iqued\\PUC_rio\\mvp_machine_learning_and_analytics\\venv\\Lib\\site-packages\\sklearn\\metrics\\_classification.py:1565: UndefinedMetricWarning: Precision is ill-defined and being set to 0.0 in labels with no predicted samples. Use `zero_division` parameter to control this behavior.\n",
      "  _warn_prf(average, modifier, f\"{metric.capitalize()} is\", len(result))\n",
      "c:\\Users\\iqued\\PUC_rio\\mvp_machine_learning_and_analytics\\venv\\Lib\\site-packages\\sklearn\\metrics\\_classification.py:1565: UndefinedMetricWarning: Precision is ill-defined and being set to 0.0 in labels with no predicted samples. Use `zero_division` parameter to control this behavior.\n",
      "  _warn_prf(average, modifier, f\"{metric.capitalize()} is\", len(result))\n",
      "c:\\Users\\iqued\\PUC_rio\\mvp_machine_learning_and_analytics\\venv\\Lib\\site-packages\\sklearn\\metrics\\_classification.py:1565: UndefinedMetricWarning: Precision is ill-defined and being set to 0.0 in labels with no predicted samples. Use `zero_division` parameter to control this behavior.\n",
      "  _warn_prf(average, modifier, f\"{metric.capitalize()} is\", len(result))\n",
      "c:\\Users\\iqued\\PUC_rio\\mvp_machine_learning_and_analytics\\venv\\Lib\\site-packages\\sklearn\\metrics\\_classification.py:1565: UndefinedMetricWarning: Precision is ill-defined and being set to 0.0 in labels with no predicted samples. Use `zero_division` parameter to control this behavior.\n",
      "  _warn_prf(average, modifier, f\"{metric.capitalize()} is\", len(result))\n",
      "c:\\Users\\iqued\\PUC_rio\\mvp_machine_learning_and_analytics\\venv\\Lib\\site-packages\\sklearn\\metrics\\_classification.py:1565: UndefinedMetricWarning: Precision is ill-defined and being set to 0.0 in labels with no predicted samples. Use `zero_division` parameter to control this behavior.\n",
      "  _warn_prf(average, modifier, f\"{metric.capitalize()} is\", len(result))\n",
      "c:\\Users\\iqued\\PUC_rio\\mvp_machine_learning_and_analytics\\venv\\Lib\\site-packages\\sklearn\\metrics\\_classification.py:1565: UndefinedMetricWarning: Precision is ill-defined and being set to 0.0 in labels with no predicted samples. Use `zero_division` parameter to control this behavior.\n",
      "  _warn_prf(average, modifier, f\"{metric.capitalize()} is\", len(result))\n",
      "c:\\Users\\iqued\\PUC_rio\\mvp_machine_learning_and_analytics\\venv\\Lib\\site-packages\\sklearn\\metrics\\_classification.py:1565: UndefinedMetricWarning: Precision is ill-defined and being set to 0.0 in labels with no predicted samples. Use `zero_division` parameter to control this behavior.\n",
      "  _warn_prf(average, modifier, f\"{metric.capitalize()} is\", len(result))\n",
      "c:\\Users\\iqued\\PUC_rio\\mvp_machine_learning_and_analytics\\venv\\Lib\\site-packages\\sklearn\\metrics\\_classification.py:1565: UndefinedMetricWarning: Precision is ill-defined and being set to 0.0 in labels with no predicted samples. Use `zero_division` parameter to control this behavior.\n",
      "  _warn_prf(average, modifier, f\"{metric.capitalize()} is\", len(result))\n",
      "c:\\Users\\iqued\\PUC_rio\\mvp_machine_learning_and_analytics\\venv\\Lib\\site-packages\\sklearn\\metrics\\_classification.py:1565: UndefinedMetricWarning: Precision is ill-defined and being set to 0.0 in labels with no predicted samples. Use `zero_division` parameter to control this behavior.\n",
      "  _warn_prf(average, modifier, f\"{metric.capitalize()} is\", len(result))\n",
      "c:\\Users\\iqued\\PUC_rio\\mvp_machine_learning_and_analytics\\venv\\Lib\\site-packages\\sklearn\\metrics\\_classification.py:1565: UndefinedMetricWarning: Precision is ill-defined and being set to 0.0 in labels with no predicted samples. Use `zero_division` parameter to control this behavior.\n",
      "  _warn_prf(average, modifier, f\"{metric.capitalize()} is\", len(result))\n",
      "c:\\Users\\iqued\\PUC_rio\\mvp_machine_learning_and_analytics\\venv\\Lib\\site-packages\\sklearn\\metrics\\_classification.py:1565: UndefinedMetricWarning: Precision is ill-defined and being set to 0.0 in labels with no predicted samples. Use `zero_division` parameter to control this behavior.\n",
      "  _warn_prf(average, modifier, f\"{metric.capitalize()} is\", len(result))\n",
      "c:\\Users\\iqued\\PUC_rio\\mvp_machine_learning_and_analytics\\venv\\Lib\\site-packages\\sklearn\\metrics\\_classification.py:1565: UndefinedMetricWarning: Precision is ill-defined and being set to 0.0 in labels with no predicted samples. Use `zero_division` parameter to control this behavior.\n",
      "  _warn_prf(average, modifier, f\"{metric.capitalize()} is\", len(result))\n",
      "c:\\Users\\iqued\\PUC_rio\\mvp_machine_learning_and_analytics\\venv\\Lib\\site-packages\\sklearn\\metrics\\_classification.py:1565: UndefinedMetricWarning: Precision is ill-defined and being set to 0.0 in labels with no predicted samples. Use `zero_division` parameter to control this behavior.\n",
      "  _warn_prf(average, modifier, f\"{metric.capitalize()} is\", len(result))\n",
      "c:\\Users\\iqued\\PUC_rio\\mvp_machine_learning_and_analytics\\venv\\Lib\\site-packages\\sklearn\\metrics\\_classification.py:1565: UndefinedMetricWarning: Precision is ill-defined and being set to 0.0 in labels with no predicted samples. Use `zero_division` parameter to control this behavior.\n",
      "  _warn_prf(average, modifier, f\"{metric.capitalize()} is\", len(result))\n",
      "c:\\Users\\iqued\\PUC_rio\\mvp_machine_learning_and_analytics\\venv\\Lib\\site-packages\\sklearn\\metrics\\_classification.py:1565: UndefinedMetricWarning: Precision is ill-defined and being set to 0.0 in labels with no predicted samples. Use `zero_division` parameter to control this behavior.\n",
      "  _warn_prf(average, modifier, f\"{metric.capitalize()} is\", len(result))\n",
      "c:\\Users\\iqued\\PUC_rio\\mvp_machine_learning_and_analytics\\venv\\Lib\\site-packages\\sklearn\\metrics\\_classification.py:1565: UndefinedMetricWarning: Precision is ill-defined and being set to 0.0 in labels with no predicted samples. Use `zero_division` parameter to control this behavior.\n",
      "  _warn_prf(average, modifier, f\"{metric.capitalize()} is\", len(result))\n",
      "c:\\Users\\iqued\\PUC_rio\\mvp_machine_learning_and_analytics\\venv\\Lib\\site-packages\\sklearn\\metrics\\_classification.py:1565: UndefinedMetricWarning: Precision is ill-defined and being set to 0.0 in labels with no predicted samples. Use `zero_division` parameter to control this behavior.\n",
      "  _warn_prf(average, modifier, f\"{metric.capitalize()} is\", len(result))\n",
      "c:\\Users\\iqued\\PUC_rio\\mvp_machine_learning_and_analytics\\venv\\Lib\\site-packages\\sklearn\\metrics\\_classification.py:1565: UndefinedMetricWarning: Precision is ill-defined and being set to 0.0 in labels with no predicted samples. Use `zero_division` parameter to control this behavior.\n",
      "  _warn_prf(average, modifier, f\"{metric.capitalize()} is\", len(result))\n",
      "c:\\Users\\iqued\\PUC_rio\\mvp_machine_learning_and_analytics\\venv\\Lib\\site-packages\\sklearn\\metrics\\_classification.py:1565: UndefinedMetricWarning: Precision is ill-defined and being set to 0.0 in labels with no predicted samples. Use `zero_division` parameter to control this behavior.\n",
      "  _warn_prf(average, modifier, f\"{metric.capitalize()} is\", len(result))\n",
      "c:\\Users\\iqued\\PUC_rio\\mvp_machine_learning_and_analytics\\venv\\Lib\\site-packages\\sklearn\\metrics\\_classification.py:1565: UndefinedMetricWarning: Precision is ill-defined and being set to 0.0 in labels with no predicted samples. Use `zero_division` parameter to control this behavior.\n",
      "  _warn_prf(average, modifier, f\"{metric.capitalize()} is\", len(result))\n",
      "c:\\Users\\iqued\\PUC_rio\\mvp_machine_learning_and_analytics\\venv\\Lib\\site-packages\\sklearn\\metrics\\_classification.py:1565: UndefinedMetricWarning: Precision is ill-defined and being set to 0.0 in labels with no predicted samples. Use `zero_division` parameter to control this behavior.\n",
      "  _warn_prf(average, modifier, f\"{metric.capitalize()} is\", len(result))\n",
      "c:\\Users\\iqued\\PUC_rio\\mvp_machine_learning_and_analytics\\venv\\Lib\\site-packages\\sklearn\\metrics\\_classification.py:1565: UndefinedMetricWarning: Precision is ill-defined and being set to 0.0 in labels with no predicted samples. Use `zero_division` parameter to control this behavior.\n",
      "  _warn_prf(average, modifier, f\"{metric.capitalize()} is\", len(result))\n",
      "c:\\Users\\iqued\\PUC_rio\\mvp_machine_learning_and_analytics\\venv\\Lib\\site-packages\\sklearn\\metrics\\_classification.py:1565: UndefinedMetricWarning: Precision is ill-defined and being set to 0.0 in labels with no predicted samples. Use `zero_division` parameter to control this behavior.\n",
      "  _warn_prf(average, modifier, f\"{metric.capitalize()} is\", len(result))\n",
      "c:\\Users\\iqued\\PUC_rio\\mvp_machine_learning_and_analytics\\venv\\Lib\\site-packages\\sklearn\\metrics\\_classification.py:1565: UndefinedMetricWarning: Precision is ill-defined and being set to 0.0 in labels with no predicted samples. Use `zero_division` parameter to control this behavior.\n",
      "  _warn_prf(average, modifier, f\"{metric.capitalize()} is\", len(result))\n",
      "c:\\Users\\iqued\\PUC_rio\\mvp_machine_learning_and_analytics\\venv\\Lib\\site-packages\\sklearn\\metrics\\_classification.py:1565: UndefinedMetricWarning: Precision is ill-defined and being set to 0.0 in labels with no predicted samples. Use `zero_division` parameter to control this behavior.\n",
      "  _warn_prf(average, modifier, f\"{metric.capitalize()} is\", len(result))\n",
      "c:\\Users\\iqued\\PUC_rio\\mvp_machine_learning_and_analytics\\venv\\Lib\\site-packages\\sklearn\\metrics\\_classification.py:1565: UndefinedMetricWarning: Precision is ill-defined and being set to 0.0 in labels with no predicted samples. Use `zero_division` parameter to control this behavior.\n",
      "  _warn_prf(average, modifier, f\"{metric.capitalize()} is\", len(result))\n",
      "c:\\Users\\iqued\\PUC_rio\\mvp_machine_learning_and_analytics\\venv\\Lib\\site-packages\\sklearn\\metrics\\_classification.py:1565: UndefinedMetricWarning: Precision is ill-defined and being set to 0.0 in labels with no predicted samples. Use `zero_division` parameter to control this behavior.\n",
      "  _warn_prf(average, modifier, f\"{metric.capitalize()} is\", len(result))\n",
      "c:\\Users\\iqued\\PUC_rio\\mvp_machine_learning_and_analytics\\venv\\Lib\\site-packages\\sklearn\\metrics\\_classification.py:1565: UndefinedMetricWarning: Precision is ill-defined and being set to 0.0 in labels with no predicted samples. Use `zero_division` parameter to control this behavior.\n",
      "  _warn_prf(average, modifier, f\"{metric.capitalize()} is\", len(result))\n",
      "c:\\Users\\iqued\\PUC_rio\\mvp_machine_learning_and_analytics\\venv\\Lib\\site-packages\\sklearn\\metrics\\_classification.py:1565: UndefinedMetricWarning: Precision is ill-defined and being set to 0.0 in labels with no predicted samples. Use `zero_division` parameter to control this behavior.\n",
      "  _warn_prf(average, modifier, f\"{metric.capitalize()} is\", len(result))\n",
      "c:\\Users\\iqued\\PUC_rio\\mvp_machine_learning_and_analytics\\venv\\Lib\\site-packages\\sklearn\\metrics\\_classification.py:1565: UndefinedMetricWarning: Precision is ill-defined and being set to 0.0 in labels with no predicted samples. Use `zero_division` parameter to control this behavior.\n",
      "  _warn_prf(average, modifier, f\"{metric.capitalize()} is\", len(result))\n",
      "c:\\Users\\iqued\\PUC_rio\\mvp_machine_learning_and_analytics\\venv\\Lib\\site-packages\\sklearn\\metrics\\_classification.py:1565: UndefinedMetricWarning: Precision is ill-defined and being set to 0.0 in labels with no predicted samples. Use `zero_division` parameter to control this behavior.\n",
      "  _warn_prf(average, modifier, f\"{metric.capitalize()} is\", len(result))\n",
      "c:\\Users\\iqued\\PUC_rio\\mvp_machine_learning_and_analytics\\venv\\Lib\\site-packages\\sklearn\\metrics\\_classification.py:1565: UndefinedMetricWarning: Precision is ill-defined and being set to 0.0 in labels with no predicted samples. Use `zero_division` parameter to control this behavior.\n",
      "  _warn_prf(average, modifier, f\"{metric.capitalize()} is\", len(result))\n",
      "c:\\Users\\iqued\\PUC_rio\\mvp_machine_learning_and_analytics\\venv\\Lib\\site-packages\\sklearn\\metrics\\_classification.py:1565: UndefinedMetricWarning: Precision is ill-defined and being set to 0.0 in labels with no predicted samples. Use `zero_division` parameter to control this behavior.\n",
      "  _warn_prf(average, modifier, f\"{metric.capitalize()} is\", len(result))\n",
      "c:\\Users\\iqued\\PUC_rio\\mvp_machine_learning_and_analytics\\venv\\Lib\\site-packages\\sklearn\\metrics\\_classification.py:1565: UndefinedMetricWarning: Precision is ill-defined and being set to 0.0 in labels with no predicted samples. Use `zero_division` parameter to control this behavior.\n",
      "  _warn_prf(average, modifier, f\"{metric.capitalize()} is\", len(result))\n",
      "c:\\Users\\iqued\\PUC_rio\\mvp_machine_learning_and_analytics\\venv\\Lib\\site-packages\\sklearn\\metrics\\_classification.py:1565: UndefinedMetricWarning: Precision is ill-defined and being set to 0.0 in labels with no predicted samples. Use `zero_division` parameter to control this behavior.\n",
      "  _warn_prf(average, modifier, f\"{metric.capitalize()} is\", len(result))\n",
      "c:\\Users\\iqued\\PUC_rio\\mvp_machine_learning_and_analytics\\venv\\Lib\\site-packages\\sklearn\\metrics\\_classification.py:1565: UndefinedMetricWarning: Precision is ill-defined and being set to 0.0 in labels with no predicted samples. Use `zero_division` parameter to control this behavior.\n",
      "  _warn_prf(average, modifier, f\"{metric.capitalize()} is\", len(result))\n"
     ]
    }
   ],
   "source": [
    "for atributo in atributos_total:\n",
    "    print(f\"Removendo atributo: {atributo}\")\n",
    "    \n",
    "    dataset_avaliacao_em_total = dataset_total.drop(columns=[atributo])\n",
    "    \n",
    "    X = dataset_avaliacao_em_total.drop(columns=[\"interessado\"])\n",
    "    y = dataset_avaliacao_em_total[\"interessado\"]\n",
    "    X_train, X_test, y_train, y_test = train_test_split(X, y, test_size=0.3, random_state=42)\n",
    "    \n",
    "\n",
    "    knn = KNeighborsClassifier(n_neighbors=5, weights=\"uniform\", metric=\"euclidean\")\n",
    "    knn.fit(X_train, y_train)\n",
    "    \n",
    "\n",
    "    y_pred = knn.predict(X_test)\n",
    "    resultados = classification_report(y_test, y_pred, output_dict=True)\n",
    "\n",
    "    resultados_remocao[atributo] = {\n",
    "        \"accuracy\": resultados[\"accuracy\"],\n",
    "        \"macro_avg_f1\": resultados[\"macro avg\"][\"f1-score\"],\n",
    "        \"weighted_avg_f1\": resultados[\"weighted avg\"][\"f1-score\"]\n",
    "    }"
   ]
  },
  {
   "cell_type": "code",
   "execution_count": 77,
   "metadata": {},
   "outputs": [],
   "source": [
    "resultados_atributos_em_total = pd.DataFrame(resultados_remocao).T"
   ]
  },
  {
   "cell_type": "code",
   "execution_count": 78,
   "metadata": {},
   "outputs": [
    {
     "name": "stdout",
     "output_type": "stream",
     "text": [
      "Resultados das remocoes dos atributos em parcial\n",
      "                                accuracy  macro_avg_f1  weighted_avg_f1\n",
      "avalia_horario_treinamento         0.720      0.451160         0.675633\n",
      "intencao_participacao              0.690      0.420136         0.661906\n",
      "avalia_duracao_aulas               0.680      0.371072         0.625185\n",
      "tem_suporte_da_equipe              0.725      0.403206         0.664676\n",
      "possui_entusiasmo                  0.680      0.352692         0.617522\n",
      "avalia_qualidade_didatica          0.730      0.464464         0.685124\n",
      "interage_quando_ha_dificuldade     0.720      0.403016         0.663604\n",
      "avalia_tempo_adequado              0.690      0.393852         0.646242\n",
      "poderia_ser_mais_rapido            0.715      0.407717         0.663859\n",
      "revisou_conteudo                   0.715      0.401739         0.658725\n",
      "participacao_propria               0.750      0.432649         0.695761\n",
      "ha_interrupcoes                    0.720      0.398437         0.659492\n",
      "\n",
      "\n",
      "Resultados das remocoes dos atributos em total\n",
      "                                accuracy  macro_avg_f1  weighted_avg_f1\n",
      "avalia_horario_treinamento         0.710      0.375153         0.639122\n",
      "intencao_participacao              0.710      0.375153         0.639122\n",
      "avalia_duracao_aulas               0.710      0.375153         0.639122\n",
      "tem_suporte_da_equipe              0.710      0.375153         0.639122\n",
      "possui_entusiasmo                  0.710      0.375153         0.639122\n",
      "avalia_qualidade_didatica          0.710      0.375153         0.639122\n",
      "interage_quando_ha_dificuldade     0.710      0.375153         0.639122\n",
      "avalia_tempo_adequado              0.710      0.375153         0.639122\n",
      "poderia_ser_mais_rapido            0.710      0.375153         0.639122\n",
      "revisou_conteudo                   0.710      0.375153         0.639122\n",
      "participacao_propria               0.710      0.375153         0.639122\n",
      "ha_interrupcoes                    0.710      0.375153         0.639122\n",
      "tempo_form_inicial_seg             0.620      0.307002         0.560348\n",
      "tempo_form_andamento_seg           0.645      0.291639         0.559164\n",
      "classificacao_comentario           0.710      0.375153         0.639122\n"
     ]
    }
   ],
   "source": [
    "print(\"Resultados das remocoes dos atributos em parcial\")\n",
    "print(resultados_atributos_em_parcial)\n",
    "print(\"\\n\\nResultados das remocoes dos atributos em total\")\n",
    "print(resultados_atributos_em_total)"
   ]
  },
  {
   "cell_type": "markdown",
   "metadata": {},
   "source": [
    "### Análise Resumida dos Resultados de Remoção dos atributos\n",
    "\n",
    "#### **Dataset Parcial**\n",
    "- **Atributo mais relevante:** `participacao_propria`:\n",
    "  - Melhor **accuracy** (75%) e **weighted avg F1** (69.5%).\n",
    "  - Sua remoção causa queda notável no desempenho.\n",
    "- **Outros destaques:** `avalia_qualidade_didatica` e `avalia_horario_treinamento` também têm impacto positivo, mantendo boa performance após remoção.\n",
    "\n",
    "#### **Dataset Total**\n",
    "- A maioria dos atributos tem impacto diluído, exceto:\n",
    "  - **`tempo_form_inicial_seg`** e **`tempo_form_andamento_seg`**:\n",
    "    - Sua remoção reduz **accuracy** para 62% e 64.5%, respectivamente, indicando relevância para o modelo.\n",
    "\n",
    "---\n",
    "\n",
    "### Conclusão\n",
    "- **Dataset Parcial:** Foco em `participacao_propria`, `avalia_qualidade_didatica` e `avalia_horario_treinamento`.\n",
    "- **Dataset Total:** `tempo_form_inicial_seg` e `tempo_form_andamento_seg` são mais críticos.\n",
    "\n"
   ]
  },
 
 ],
 "metadata": {
  "kernelspec": {
   "display_name": "venv",
   "language": "python",
   "name": "python3"
  },
  "language_info": {
   "codemirror_mode": {
    "name": "ipython",
    "version": 3
   },
   "file_extension": ".py",
   "mimetype": "text/x-python",
   "name": "python",
   "nbconvert_exporter": "python",
   "pygments_lexer": "ipython3",
   "version": "3.12.8"
  }
 },
 "nbformat": 4,
 "nbformat_minor": 2
}
