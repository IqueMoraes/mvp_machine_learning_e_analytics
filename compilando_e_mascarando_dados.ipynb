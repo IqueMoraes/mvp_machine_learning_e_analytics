{
 "cells": [
  {
   "cell_type": "markdown",
   "metadata": {},
   "source": [
    "# Unindo os dados das avaliações"
   ]
  },
  {
   "cell_type": "markdown",
   "metadata": {},
   "source": [
    "*todos os prints do dataframe que continham valores expostos foram deletados para preservar os dados."
   ]
  },
  {
   "cell_type": "code",
   "execution_count": 366,
   "metadata": {},
   "outputs": [],
   "source": [
    "import pandas as pd"
   ]
  },
  {
   "cell_type": "code",
   "execution_count": 367,
   "metadata": {},
   "outputs": [],
   "source": [
    "file_paths = {\n",
    "    \"sentimento_inicial\": \"../original_datas/Pesquisa de Sentimento_inicial de Curso 1.xlsx\",\n",
    "    \"feedback_andamento\": \"../original_datas/Pesquisa de Feedback_Andamento do Curso 1.xlsx\",\n",
    "    \"feedback_final\": \"../original_datas/Pesquisa de Feedback_Avaliação Geral do Curso 1.xlsx\",\n",
    "}"
   ]
  },
  {
   "cell_type": "code",
   "execution_count": 368,
   "metadata": {},
   "outputs": [],
   "source": [
    "sentimento_inicial = pd.read_excel(file_paths[\"sentimento_inicial\"], sheet_name=0)\n",
    "feedback_andamento = pd.read_excel(file_paths[\"feedback_andamento\"], sheet_name=0)\n",
    "feedback_final = pd.read_excel(file_paths[\"feedback_final\"], sheet_name=0)\n",
    "lista_emails = pd.read_excel(file_paths[\"feedback_final\"], sheet_name=1)"
   ]
  },
  {
   "cell_type": "code",
   "execution_count": 369,
   "metadata": {},
   "outputs": [],
   "source": [
    "def padronizar_colunas(df):\n",
    "    df.columns = df.columns.str.strip().str.lower().str.replace(\" \", \"_\")\n",
    "    return df"
   ]
  },
  {
   "cell_type": "code",
   "execution_count": 370,
   "metadata": {},
   "outputs": [],
   "source": [
    "sentimento_inicial = padronizar_colunas(sentimento_inicial)\n",
    "feedback_andamento = padronizar_colunas(feedback_andamento)\n",
    "feedback_final = padronizar_colunas(feedback_final)\n",
    "lista_emails = padronizar_colunas(lista_emails)"
   ]
  },
  {
   "cell_type": "code",
   "execution_count": 371,
   "metadata": {},
   "outputs": [
    {
     "name": "stdout",
     "output_type": "stream",
     "text": [
      "\n",
      "Sentimento Inicial - Hora de Início e Hora de Conclusão:\n",
      "<class 'pandas.core.frame.DataFrame'>\n",
      "RangeIndex: 609 entries, 0 to 608\n",
      "Data columns (total 2 columns):\n",
      " #   Column             Non-Null Count  Dtype         \n",
      "---  ------             --------------  -----         \n",
      " 0   hora_de_início     609 non-null    datetime64[ns]\n",
      " 1   hora_de_conclusão  609 non-null    datetime64[ns]\n",
      "dtypes: datetime64[ns](2)\n",
      "memory usage: 9.6 KB\n",
      "None\n",
      "\n",
      "Feedback Andamento - Hora de Início e Hora de Conclusão:\n",
      "<class 'pandas.core.frame.DataFrame'>\n",
      "RangeIndex: 354 entries, 0 to 353\n",
      "Data columns (total 2 columns):\n",
      " #   Column             Non-Null Count  Dtype         \n",
      "---  ------             --------------  -----         \n",
      " 0   hora_de_início     354 non-null    datetime64[ns]\n",
      " 1   hora_de_conclusão  354 non-null    datetime64[ns]\n",
      "dtypes: datetime64[ns](2)\n",
      "memory usage: 5.7 KB\n",
      "None\n",
      "\n",
      "Feedback Final - Hora de Início e Hora de Conclusão:\n",
      "<class 'pandas.core.frame.DataFrame'>\n",
      "RangeIndex: 347 entries, 0 to 346\n",
      "Data columns (total 2 columns):\n",
      " #   Column             Non-Null Count  Dtype         \n",
      "---  ------             --------------  -----         \n",
      " 0   hora_de_início     347 non-null    datetime64[ns]\n",
      " 1   hora_de_conclusão  347 non-null    datetime64[ns]\n",
      "dtypes: datetime64[ns](2)\n",
      "memory usage: 5.6 KB\n",
      "None\n"
     ]
    }
   ],
   "source": [
    "for name, df in [(\"Sentimento Inicial\", sentimento_inicial), \n",
    "                 (\"Feedback Andamento\", feedback_andamento), \n",
    "                 (\"Feedback Final\", feedback_final)]:\n",
    "    print(f\"\\n{name} - Hora de Início e Hora de Conclusão:\")\n",
    "    print(df[[\"hora_de_início\", \"hora_de_conclusão\"]].info())"
   ]
  },
  {
   "cell_type": "code",
   "execution_count": 372,
   "metadata": {},
   "outputs": [],
   "source": [
    "sentimento_inicial.drop_duplicates(inplace=True)\n",
    "feedback_andamento.drop_duplicates(inplace=True)\n",
    "feedback_final.drop_duplicates(inplace=True)\n",
    "lista_emails.drop_duplicates(inplace=True)"
   ]
  },
  {
   "cell_type": "markdown",
   "metadata": {},
   "source": [
    "A planilha de menor entrada é a feedback_final. Logo serão utilizados apenas os 347 e-mails que constarem nas 3 planilhas."
   ]
  },
  {
   "cell_type": "code",
   "execution_count": 373,
   "metadata": {},
   "outputs": [],
   "source": [
    "lista_emails['início_da_turma'] = pd.to_datetime(lista_emails['início_da_turma'], format='%d/%m/%Y', errors='coerce')\n",
    "lista_emails['final_da_turma'] = pd.to_datetime(lista_emails['final_da_turma'], format='%d/%m/%Y', errors='coerce')\n"
   ]
  },
  {
   "cell_type": "code",
   "execution_count": 374,
   "metadata": {},
   "outputs": [],
   "source": [
    "sentimento_inicial['hora_de_início'] = pd.to_datetime(sentimento_inicial['hora_de_início'], format='%m/%d/%y %H:%M:%S', errors='coerce')\n",
    "sentimento_inicial['hora_de_conclusão'] = pd.to_datetime(sentimento_inicial['hora_de_conclusão'], format='%m/%d/%y %H:%M:%S', errors='coerce')\n",
    "\n",
    "feedback_andamento['hora_de_início'] = pd.to_datetime(feedback_andamento['hora_de_início'], format='%m/%d/%y %H:%M:%S', errors='coerce')\n",
    "feedback_andamento['hora_de_conclusão'] = pd.to_datetime(feedback_andamento['hora_de_conclusão'], format='%m/%d/%y %H:%M:%S', errors='coerce')\n",
    "\n",
    "feedback_final['hora_de_início'] = pd.to_datetime(feedback_final['hora_de_início'], format='%m/%d/%y %H:%M:%S', errors='coerce')\n",
    "feedback_final['hora_de_conclusão'] = pd.to_datetime(feedback_final['hora_de_conclusão'], format='%m/%d/%y %H:%M:%S', errors='coerce')"
   ]
  },
  {
   "cell_type": "code",
   "execution_count": 375,
   "metadata": {},
   "outputs": [
    {
     "name": "stdout",
     "output_type": "stream",
     "text": [
      "Exemplo de início_da_turma: 0   2024-06-02\n",
      "1   2024-06-02\n",
      "2   2024-06-02\n",
      "Name: início_da_turma, dtype: datetime64[ns]\n",
      "Exemplo de início_da_turma: 988   2024-10-14\n",
      "989   2024-10-14\n",
      "990   2024-10-14\n",
      "Name: início_da_turma, dtype: datetime64[ns] \n",
      "\n",
      "Exemplo de hora_de_início: 0   2024-02-27 17:02:23\n",
      "1   2024-02-27 17:04:30\n",
      "2   2024-03-01 12:47:10\n",
      "Name: hora_de_início, dtype: datetime64[ns]\n",
      "Exemplo de hora_de_início: 344   2024-09-30 15:37:51\n",
      "345   2024-09-30 17:17:11\n",
      "346   2024-09-30 18:22:18\n",
      "Name: hora_de_início, dtype: datetime64[ns]\n"
     ]
    }
   ],
   "source": [
    "print(\"Exemplo de início_da_turma:\", lista_emails['início_da_turma'].head(3))\n",
    "print(\"Exemplo de início_da_turma:\", lista_emails['início_da_turma'].tail(3),  \"\\n\")\n",
    "print(\"Exemplo de hora_de_início:\", feedback_final['hora_de_início'].head(3))\n",
    "print(\"Exemplo de hora_de_início:\", feedback_final['hora_de_início'].tail(3))\n",
    "\n"
   ]
  },
  {
   "cell_type": "code",
   "execution_count": 376,
   "metadata": {},
   "outputs": [],
   "source": [
    "def verificar_compatibilidade(row, lista_emails):\n",
    "    # Filtrar e-mails compatíveis\n",
    "    email_compat = (\n",
    "        (lista_emails['e-mail_aluno'] == row['antes_de_tudo,_por_favor,_insira_seu_endereço_de_e-mail_abaixo:']) |\n",
    "        (lista_emails['e-mail_\"resultados\"'] == row['antes_de_tudo,_por_favor,_insira_seu_endereço_de_e-mail_abaixo:'])\n",
    "    )\n",
    "    # Verificar se a hora de início está no período do curso\n",
    "    periodo_compat = (\n",
    "        (row['hora_de_início'] >= lista_emails['início_da_turma']) &\n",
    "        (row['hora_de_início'] <= lista_emails['final_da_turma'])\n",
    "    )\n",
    "    # Retornar linhas compatíveis\n",
    "    return lista_emails[email_compat & periodo_compat]"
   ]
  },
  {
   "cell_type": "code",
   "execution_count": 377,
   "metadata": {},
   "outputs": [],
   "source": [
    "resultados_compatibilidade = []"
   ]
  },
  {
   "cell_type": "code",
   "execution_count": 378,
   "metadata": {},
   "outputs": [],
   "source": [
    "for _, row in feedback_final.iterrows():\n",
    "    compativeis = verificar_compatibilidade(row, lista_emails)\n",
    "    if not compativeis.empty:\n",
    "        for _, compat_row in compativeis.iterrows():\n",
    "            merged_data = row.to_dict() | compat_row.to_dict()\n",
    "            resultados_compatibilidade.append(merged_data)\n"
   ]
  },
  {
   "cell_type": "code",
   "execution_count": 379,
   "metadata": {},
   "outputs": [],
   "source": [
    "df_mesclado = pd.DataFrame(resultados_compatibilidade)"
   ]
  },
  {
   "cell_type": "code",
   "execution_count": 380,
   "metadata": {},
   "outputs": [
    {
     "name": "stdout",
     "output_type": "stream",
     "text": [
      "Linhas compatíveis mescladas: 48\n"
     ]
    }
   ],
   "source": [
    "print(f\"Linhas compatíveis mescladas: {len(df_mesclado)}\")"
   ]
  },
  {
   "cell_type": "markdown",
   "metadata": {},
   "source": [
    "Ficou claro que os e-mails, que seriam os valores únicos entre os formulários, estão incompatíveis com a lista de e-mail. Foram identificadas apenas 48 linhas do feedback final na lista de e-mails. Reconhecendo compatibilidade e-mail e período de preenchimento do formulário dentro do período de determinado curso.\n",
    "\n",
    "Sendo assim, serão buscadas compatibilidades de e-mails entre as avaliações descartando os cursos que fizeram.\n",
    "Caso um e-mail apareça mais de uma vez em uma lista de feedback, será considerado o último registro desse aluno."
   ]
  },
  {
   "cell_type": "code",
   "execution_count": 381,
   "metadata": {},
   "outputs": [
    {
     "name": "stdout",
     "output_type": "stream",
     "text": [
      "E-mails com mais de 1 ocorrência:\n",
      "28\n",
      "E-mails com mais de 1 ocorrência:\n",
      "9\n",
      "E-mails com mais de 1 ocorrência:\n",
      "16\n"
     ]
    }
   ],
   "source": [
    "email_counts_inicial = sentimento_inicial['antes_de_tudo,_por_favor,_insira_seu_endereço_de_e-mail_abaixo:'].value_counts()\n",
    "email_counts_andamento = feedback_andamento['antes_de_tudo,_por_favor,_insira_seu_endereço_de_e-mail_abaixo:'].value_counts()\n",
    "email_counts_final = feedback_final['antes_de_tudo,_por_favor,_insira_seu_endereço_de_e-mail_abaixo:'].value_counts()\n",
    "\n",
    "\n",
    "\n",
    "emails_repetidos_inicial = email_counts_inicial[email_counts_inicial > 1]\n",
    "print(f\"E-mails com mais de 1 ocorrência:\\n{emails_repetidos_inicial.count()}\")\n",
    "emails_repetidos_andamento = email_counts_andamento[email_counts_andamento > 1]\n",
    "print(f\"E-mails com mais de 1 ocorrência:\\n{emails_repetidos_andamento.count()}\")\n",
    "emails_repetidos_final = email_counts_final[email_counts_final > 1]\n",
    "print(f\"E-mails com mais de 1 ocorrência:\\n{emails_repetidos_final.count()}\")"
   ]
  },
  {
   "cell_type": "code",
   "execution_count": 382,
   "metadata": {},
   "outputs": [],
   "source": [
    "def manter_avaliacao_mais_recentes_de_um_mesmo_usuario(df, email_col, date_col):\n",
    "    df = df.sort_values(by=[email_col, date_col], ascending=[True, False])\n",
    "\n",
    "    df_unico = df.drop_duplicates(subset=email_col, keep='first')\n",
    "\n",
    "    return df_unico.reset_index(drop=True)"
   ]
  },
  {
   "cell_type": "code",
   "execution_count": 383,
   "metadata": {},
   "outputs": [],
   "source": [
    "sentimento_inicial = manter_avaliacao_mais_recentes_de_um_mesmo_usuario(sentimento_inicial, 'antes_de_tudo,_por_favor,_insira_seu_endereço_de_e-mail_abaixo:', 'hora_de_conclusão')\n",
    "feedback_andamento = manter_avaliacao_mais_recentes_de_um_mesmo_usuario(feedback_andamento, 'antes_de_tudo,_por_favor,_insira_seu_endereço_de_e-mail_abaixo:', 'hora_de_conclusão')\n",
    "feedback_final = manter_avaliacao_mais_recentes_de_um_mesmo_usuario(feedback_final, 'antes_de_tudo,_por_favor,_insira_seu_endereço_de_e-mail_abaixo:', 'hora_de_conclusão')"
   ]
  },
  {
   "cell_type": "code",
   "execution_count": 384,
   "metadata": {},
   "outputs": [
    {
     "name": "stdout",
     "output_type": "stream",
     "text": [
      "Linhas no Sentimento Inicial: 581\n",
      "Linhas no Feedback Andamento: 345\n",
      "Linhas no Feedback Final: 330\n"
     ]
    }
   ],
   "source": [
    "print(f\"Linhas no Sentimento Inicial: {len(sentimento_inicial)}\")\n",
    "print(f\"Linhas no Feedback Andamento: {len(feedback_andamento)}\")\n",
    "print(f\"Linhas no Feedback Final: {len(feedback_final)}\")"
   ]
  },
  {
   "cell_type": "markdown",
   "metadata": {},
   "source": [
    "Por incompatibilidades dos arquivos, optei por seguir com as avaliações mais recentes para que eu possa ter um único e-mail que irá ligar as 3 avaliações.\n",
    "O número caiu de 347 para 330."
   ]
  },
  {
   "cell_type": "code",
   "execution_count": 385,
   "metadata": {},
   "outputs": [],
   "source": [
    "coluna_email = 'antes_de_tudo,_por_favor,_insira_seu_endereço_de_e-mail_abaixo:'"
   ]
  },
  {
   "cell_type": "code",
   "execution_count": 386,
   "metadata": {},
   "outputs": [],
   "source": [
    "emails_final = set(feedback_final[coluna_email])\n",
    "emails_andamento = set(feedback_andamento[coluna_email])\n",
    "emails_inicial = set(sentimento_inicial[coluna_email])"
   ]
  },
  {
   "cell_type": "code",
   "execution_count": 387,
   "metadata": {},
   "outputs": [],
   "source": [
    "emails_das_tres_avaliacoes = emails_final & emails_andamento & emails_inicial"
   ]
  },
  {
   "cell_type": "code",
   "execution_count": 388,
   "metadata": {},
   "outputs": [],
   "source": [
    "sentimento_inicial_filtrado = sentimento_inicial[sentimento_inicial[coluna_email].isin(emails_das_tres_avaliacoes)]\n",
    "feedback_andamento_filtrado = feedback_andamento[feedback_andamento[coluna_email].isin(emails_das_tres_avaliacoes)]\n",
    "feedback_final_filtrado = feedback_final[feedback_final[coluna_email].isin(emails_das_tres_avaliacoes)]"
   ]
  },
  {
   "cell_type": "code",
   "execution_count": 389,
   "metadata": {},
   "outputs": [],
   "source": [
    "emails_apenas_inicial_andamento = (emails_andamento & emails_inicial) - emails_final"
   ]
  },
  {
   "cell_type": "code",
   "execution_count": 390,
   "metadata": {},
   "outputs": [],
   "source": [
    "sentimento_inicial_sem_final = sentimento_inicial[sentimento_inicial[coluna_email].isin(emails_apenas_inicial_andamento)]\n",
    "feedback_andamento_sem_final = feedback_andamento[feedback_andamento[coluna_email].isin(emails_apenas_inicial_andamento)]"
   ]
  },
  {
   "cell_type": "code",
   "execution_count": 391,
   "metadata": {},
   "outputs": [
    {
     "name": "stdout",
     "output_type": "stream",
     "text": [
      "E-mails presentes em todas as 3 planilhas: 114\n",
      "E-mails presentes em Inicial e Andamento, mas não no Final: 91\n"
     ]
    }
   ],
   "source": [
    "print(f\"E-mails presentes em todas as 3 planilhas: {len(emails_das_tres_avaliacoes)}\")\n",
    "print(f\"E-mails presentes em Inicial e Andamento, mas não no Final: {len(emails_apenas_inicial_andamento)}\")"
   ]
  },
  {
   "cell_type": "markdown",
   "metadata": {},
   "source": [
    "Portanto, serão mesclados os dados de 114 alunos para compor o dataset inicial que irá treinar o modelo de machine learning."
   ]
  },
  {
   "cell_type": "code",
   "execution_count": 392,
   "metadata": {},
   "outputs": [],
   "source": [
    "sentimento_inicial_filtrado.to_csv('../original_datas/sentimento_inicial_filtrado.csv', encoding=\"utf-8\", index=False)\n",
    "feedback_andamento_filtrado.to_csv('../original_datas/feedback_andamento_filtrado.csv', encoding=\"utf-8\", index=False)\n",
    "feedback_final_filtrado.to_csv('../original_datas/feedback_final_filtrado.csv', encoding=\"utf-8\", index=False)\n",
    "sentimento_inicial_sem_final.to_csv('../original_datas/sentimento_inicial_sem_final.csv', encoding=\"utf-8\", index=False)\n",
    "feedback_andamento_sem_final.to_csv('../original_datas/feedback_andamento_sem_final.csv', encoding=\"utf-8\", index=False)"
   ]
  },
  {
   "cell_type": "code",
   "execution_count": 393,
   "metadata": {},
   "outputs": [],
   "source": [
    "dataset_inicial_andamento = pd.merge(\n",
    "    sentimento_inicial_filtrado,\n",
    "    feedback_andamento_filtrado,\n",
    "    on=coluna_email,\n",
    "    suffixes=(\"_sentimento_inicial\", \"_feedback_andamento\")\n",
    ")"
   ]
  },
  {
   "cell_type": "code",
   "execution_count": 394,
   "metadata": {},
   "outputs": [],
   "source": [
    "dataset_completo_avaliacoes = pd.merge(\n",
    "    dataset_inicial_andamento,\n",
    "    feedback_final_filtrado,\n",
    "    left_on=coluna_email,\n",
    "    right_on=coluna_email,\n",
    "    suffixes=(\"\", \"_feedback_final\")\n",
    ")"
   ]
  },
  {
   "cell_type": "code",
   "execution_count": 395,
   "metadata": {},
   "outputs": [
    {
     "name": "stdout",
     "output_type": "stream",
     "text": [
      "Linhas no dataset unificado: 114\n",
      "Colunas no dataset unificado: 43\n"
     ]
    }
   ],
   "source": [
    "print(f\"Linhas no dataset unificado: {len(dataset_completo_avaliacoes)}\")\n",
    "print(f\"Colunas no dataset unificado: {len(dataset_completo_avaliacoes.columns)}\")"
   ]
  },
  {
   "cell_type": "code",
   "execution_count": 396,
   "metadata": {},
   "outputs": [],
   "source": [
    "dataset_completo_avaliacoes.to_csv(\"../original_datas/dataset_completo_avaliacoes.csv\", encoding=\"utf-8\", index=False)"
   ]
  },
  {
   "cell_type": "code",
   "execution_count": 397,
   "metadata": {},
   "outputs": [
    {
     "data": {
      "text/plain": [
       "Index(['id_sentimento_inicial', 'hora_de_início_sentimento_inicial',\n",
       "       'hora_de_conclusão_sentimento_inicial', 'e-mail_sentimento_inicial',\n",
       "       'nome_sentimento_inicial',\n",
       "       'antes_de_tudo,_por_favor,_insira_seu_endereço_de_e-mail_abaixo:',\n",
       "       'você_acha_que_o_momento_escolhido_para_o_treinamento_é_adequado_para_você?',\n",
       "       'você_pretende_participar_de_todas_as_aulas?',\n",
       "       'considerando_sua_carga_de_trabalho_atual,_você_acredita_que_a_duração_das_aulas_é_apropriada?',\n",
       "       'considerando_o_início_do_treinamento,_você_sente_que_tem_o_apoio_necessário_de_seus_gestores_e_colegas_para_se_concentrar_no_treinamento_durante_o_horário_das_aulas?',\n",
       "       'qual_é_o_seu_nível_de_entusiasmo_em_relação_ao_conteúdo_e_objetivos_deste_treinamento?',\n",
       "       'nome_da_empresa_sentimento_inicial', 'id_feedback_andamento',\n",
       "       'hora_de_início_feedback_andamento',\n",
       "       'hora_de_conclusão_feedback_andamento', 'e-mail_feedback_andamento',\n",
       "       'nome_feedback_andamento', 'idioma',\n",
       "       'como_você_avalia_a_qualidade_da_didática_e_apresentação_do_conteúdo_até_o_momento?',\n",
       "       'em_relação_ao_tópicos_que_você_acredita_que_podem_ser_melhor_explicados_ou_que_você_sente_dificuldade:',\n",
       "       'você_sente_que_o_tempo_dedicado_a_cada_tópico_é_adequado_para_o_seu_aprendizado?',\n",
       "       'qual_é_a_sua_percepção?', 'qual_é_a_sua_percepção?1',\n",
       "       'você_teve_a_oportunidade_de_revisar_os_conteúdos_conforme_necessário?',\n",
       "       'liste_abaixo_o(s)_motivo(s):',\n",
       "       'como_você_avalia_sua_própria_participação_e_dedicação_durante_o_treinamento_até_agora?',\n",
       "       'você_está_sendo_solicitado/a_em_outras_tarefas_durante_o_treinamento?_se_sim,_como_isso_está_impactando_sua_experiência_de_aprendizado?',\n",
       "       'existe_algum_aspecto_do_treinamento_que_você_gostaria_de_elogiar,_destacar_ou_sugerir_melhorias?',\n",
       "       'nome_da_empresa_feedback_andamento', 'id', 'hora_de_início',\n",
       "       'hora_de_conclusão', 'cargo:',\n",
       "       'como_você_avalia_a_qualidade_geral_do_curso,_incluindo_a_didática,_apresentação_do_conteúdo_e_material_fornecido?',\n",
       "       'você_acha_que_a_duração_total_do_curso_foi_adequada_para_cobrir_os_tópicos_propostos?',\n",
       "       'você_conseguiu_aplicar_ou_ver_aplicação_dos_conhecimentos_adquiridos_durante_o_curso_em_seu_trabalho_ou_vida_profissional?',\n",
       "       'como_você_avalia_seu_próprio_aprendizado_e_desenvolvimento_ao_longo_do_curso?',\n",
       "       'se_você_tivesse_a_oportunidade_de_continuar_seu_desenvolvimento_na_ferramenta_abordada_no_curso,_quão_engajado/animado(a)_você_ficaria?',\n",
       "       'qual_é_a_probabilidade_de_nos_recomendar_a_um_amigo_ou_colega?',\n",
       "       'deixe_aqui_seu_elogio_ou_crítica_sobre_o_curso:',\n",
       "       'caso_tenha_deixado_um_depoimento_positivo,_você_nos_autoriza_a_compartilhar_em_nossas_redes_sociais?',\n",
       "       'se_você_tivesse_a_oportunidade_de_estudar_outro_curso_da_escola,_qual_seria?',\n",
       "       'nome_da_empresa'],\n",
       "      dtype='object')"
      ]
     },
     "execution_count": 397,
     "metadata": {},
     "output_type": "execute_result"
    }
   ],
   "source": [
    "dataset_completo_avaliacoes.columns"
   ]
  },
  {
   "cell_type": "markdown",
   "metadata": {},
   "source": [
    "# Mascarando os dados"
   ]
  },
  {
   "cell_type": "code",
   "execution_count": 398,
   "metadata": {},
   "outputs": [],
   "source": [
    "email_mapping = {email: f\"meuemail{i+1}@mail.com\" for i, email in enumerate(emails_das_tres_avaliacoes)}"
   ]
  },
  {
   "cell_type": "code",
   "execution_count": 399,
   "metadata": {},
   "outputs": [],
   "source": [
    "dataset_completo_avaliacoes[coluna_email] = dataset_completo_avaliacoes[coluna_email].map(email_mapping)"
   ]
  },
  {
   "cell_type": "code",
   "execution_count": 400,
   "metadata": {},
   "outputs": [],
   "source": [
    "coluna_cursos_de_interesse = \"se_você_tivesse_a_oportunidade_de_estudar_outro_curso_da_escola,_qual_seria?\""
   ]
  },
  {
   "cell_type": "code",
   "execution_count": 401,
   "metadata": {},
   "outputs": [],
   "source": [
    "def contagem_cursos_interesse(cursos):\n",
    "    if pd.isna(cursos):\n",
    "        return 0\n",
    "    return len(cursos.split(\";\"))"
   ]
  },
  {
   "cell_type": "code",
   "execution_count": 402,
   "metadata": {},
   "outputs": [],
   "source": [
    "dataset_completo_avaliacoes[coluna_cursos_de_interesse] = dataset_completo_avaliacoes[coluna_cursos_de_interesse].apply(contagem_cursos_interesse)"
   ]
  },
  {
   "cell_type": "code",
   "execution_count": 403,
   "metadata": {},
   "outputs": [],
   "source": [
    "colunas_excluidas = [\n",
    "    'id_sentimento_inicial',\n",
    "    \"e-mail_sentimento_inicial\",\n",
    "    \"nome_sentimento_inicial\",\n",
    "    'nome_da_empresa_sentimento_inicial',\n",
    "    'id_feedback_andamento',\n",
    "    'e-mail_feedback_andamento',\n",
    "    'nome_feedback_andamento','idioma',\n",
    "    'qual_é_a_sua_percepção?1',\n",
    "    'liste_abaixo_o(s)_motivo(s):',\n",
    "    'nome_da_empresa_feedback_andamento',\n",
    "    'id',\n",
    "    'hora_de_início',\n",
    "    'hora_de_conclusão',\n",
    "    'cargo:',\n",
    "    'como_você_avalia_a_qualidade_geral_do_curso,_incluindo_a_didática,_apresentação_do_conteúdo_e_material_fornecido?',\n",
    "    'você_acha_que_a_duração_total_do_curso_foi_adequada_para_cobrir_os_tópicos_propostos?',\n",
    "    'você_conseguiu_aplicar_ou_ver_aplicação_dos_conhecimentos_adquiridos_durante_o_curso_em_seu_trabalho_ou_vida_profissional?',\n",
    "    'como_você_avalia_seu_próprio_aprendizado_e_desenvolvimento_ao_longo_do_curso?',\n",
    "    'se_você_tivesse_a_oportunidade_de_continuar_seu_desenvolvimento_na_ferramenta_abordada_no_curso,_quão_engajado/animado(a)_você_ficaria?',\n",
    "    'qual_é_a_probabilidade_de_nos_recomendar_a_um_amigo_ou_colega?',\n",
    "    'deixe_aqui_seu_elogio_ou_crítica_sobre_o_curso:',\n",
    "    'caso_tenha_deixado_um_depoimento_positivo,_você_nos_autoriza_a_compartilhar_em_nossas_redes_sociais?',\n",
    "    'nome_da_empresa',\n",
    "]"
   ]
  },
  {
   "cell_type": "code",
   "execution_count": 404,
   "metadata": {},
   "outputs": [],
   "source": [
    "dataset_completo_avaliacoes.drop(colunas_excluidas, axis=1, inplace=True)"
   ]
  },
  {
   "cell_type": "code",
   "execution_count": 405,
   "metadata": {},
   "outputs": [
    {
     "data": {
      "text/plain": [
       "Index(['hora_de_início_sentimento_inicial',\n",
       "       'hora_de_conclusão_sentimento_inicial',\n",
       "       'antes_de_tudo,_por_favor,_insira_seu_endereço_de_e-mail_abaixo:',\n",
       "       'você_acha_que_o_momento_escolhido_para_o_treinamento_é_adequado_para_você?',\n",
       "       'você_pretende_participar_de_todas_as_aulas?',\n",
       "       'considerando_sua_carga_de_trabalho_atual,_você_acredita_que_a_duração_das_aulas_é_apropriada?',\n",
       "       'considerando_o_início_do_treinamento,_você_sente_que_tem_o_apoio_necessário_de_seus_gestores_e_colegas_para_se_concentrar_no_treinamento_durante_o_horário_das_aulas?',\n",
       "       'qual_é_o_seu_nível_de_entusiasmo_em_relação_ao_conteúdo_e_objetivos_deste_treinamento?',\n",
       "       'hora_de_início_feedback_andamento',\n",
       "       'hora_de_conclusão_feedback_andamento',\n",
       "       'como_você_avalia_a_qualidade_da_didática_e_apresentação_do_conteúdo_até_o_momento?',\n",
       "       'em_relação_ao_tópicos_que_você_acredita_que_podem_ser_melhor_explicados_ou_que_você_sente_dificuldade:',\n",
       "       'você_sente_que_o_tempo_dedicado_a_cada_tópico_é_adequado_para_o_seu_aprendizado?',\n",
       "       'qual_é_a_sua_percepção?',\n",
       "       'você_teve_a_oportunidade_de_revisar_os_conteúdos_conforme_necessário?',\n",
       "       'como_você_avalia_sua_própria_participação_e_dedicação_durante_o_treinamento_até_agora?',\n",
       "       'você_está_sendo_solicitado/a_em_outras_tarefas_durante_o_treinamento?_se_sim,_como_isso_está_impactando_sua_experiência_de_aprendizado?',\n",
       "       'existe_algum_aspecto_do_treinamento_que_você_gostaria_de_elogiar,_destacar_ou_sugerir_melhorias?',\n",
       "       'se_você_tivesse_a_oportunidade_de_estudar_outro_curso_da_escola,_qual_seria?'],\n",
       "      dtype='object')"
      ]
     },
     "execution_count": 405,
     "metadata": {},
     "output_type": "execute_result"
    }
   ],
   "source": [
    "dataset_completo_avaliacoes.columns"
   ]
  },
  {
   "cell_type": "markdown",
   "metadata": {},
   "source": [
    "# Criando colunas"
   ]
  },
  {
   "cell_type": "code",
   "execution_count": 406,
   "metadata": {},
   "outputs": [],
   "source": [
    "dataset_completo_avaliacoes[\"tempo_form_inicial_seg\"] = (dataset_completo_avaliacoes[\"hora_de_conclusão_sentimento_inicial\"] - dataset_completo_avaliacoes[\"hora_de_início_sentimento_inicial\"]).dt.total_seconds()\n",
    "dataset_completo_avaliacoes[\"tempo_form_andamento_seg\"] = (dataset_completo_avaliacoes[\"hora_de_conclusão_feedback_andamento\"] - dataset_completo_avaliacoes[\"hora_de_início_feedback_andamento\"]).dt.total_seconds()"
   ]
  },
  {
   "cell_type": "code",
   "execution_count": 407,
   "metadata": {},
   "outputs": [],
   "source": [
    "coluna_comentario = 'existe_algum_aspecto_do_treinamento_que_você_gostaria_de_elogiar,_destacar_ou_sugerir_melhorias?'"
   ]
  },
  {
   "cell_type": "code",
   "execution_count": 408,
   "metadata": {},
   "outputs": [],
   "source": [
    "from transformers import pipeline"
   ]
  },
  {
   "cell_type": "code",
   "execution_count": 409,
   "metadata": {},
   "outputs": [
    {
     "name": "stderr",
     "output_type": "stream",
     "text": [
      "Device set to use cpu\n"
     ]
    }
   ],
   "source": [
    "classificador = pipeline(\"text-classification\", model=\"./final_model\", tokenizer=\"./final_model\")"
   ]
  },
  {
   "cell_type": "code",
   "execution_count": 410,
   "metadata": {},
   "outputs": [],
   "source": [
    "def classificador_texto(text):\n",
    "    if pd.isna(text):\n",
    "        return None\n",
    "    result = classificador(text)[0]\n",
    "    return result['label']"
   ]
  },
  {
   "cell_type": "code",
   "execution_count": 411,
   "metadata": {},
   "outputs": [],
   "source": [
    "dataset_completo_avaliacoes[\"classificacao_comentario\"] = dataset_completo_avaliacoes[coluna_comentario].apply(classificador_texto)"
   ]
  },
  {
   "cell_type": "code",
   "execution_count": 412,
   "metadata": {},
   "outputs": [
    {
     "data": {
      "text/plain": [
       "0      LABEL_2\n",
       "1      LABEL_2\n",
       "2         None\n",
       "3         None\n",
       "4         None\n",
       "        ...   \n",
       "109       None\n",
       "110    LABEL_0\n",
       "111    LABEL_2\n",
       "112    LABEL_2\n",
       "113    LABEL_0\n",
       "Name: classificacao_comentario, Length: 114, dtype: object"
      ]
     },
     "execution_count": 412,
     "metadata": {},
     "output_type": "execute_result"
    }
   ],
   "source": [
    "dataset_completo_avaliacoes[\"classificacao_comentario\"]"
   ]
  },
  {
   "cell_type": "code",
   "execution_count": 413,
   "metadata": {},
   "outputs": [],
   "source": [
    "classificador_mapping = {\n",
    "    \"LABEL_0\": \"negativo\",\n",
    "    \"LABEL_1\": \"neutro\",\n",
    "    \"LABEL_2\": \"positivo\"\n",
    "}"
   ]
  },
  {
   "cell_type": "code",
   "execution_count": 414,
   "metadata": {},
   "outputs": [],
   "source": [
    "dataset_completo_avaliacoes[\"classificacao_comentario\"] = dataset_completo_avaliacoes[\"classificacao_comentario\"].map(classificador_mapping)"
   ]
  },
  {
   "cell_type": "code",
   "execution_count": 415,
   "metadata": {},
   "outputs": [],
   "source": [
    "dataset_completo_avaliacoes.drop([\n",
    "    \"hora_de_início_sentimento_inicial\",\n",
    "    \"hora_de_conclusão_sentimento_inicial\",\n",
    "    \"hora_de_início_feedback_andamento\",\n",
    "    \"hora_de_conclusão_feedback_andamento\",\n",
    "    \"existe_algum_aspecto_do_treinamento_que_você_gostaria_de_elogiar,_destacar_ou_sugerir_melhorias?\"\n",
    "], axis=1, inplace=True)"
   ]
  },
  {
   "cell_type": "code",
   "execution_count": 417,
   "metadata": {},
   "outputs": [],
   "source": [
    "dataset_completo_avaliacoes.to_csv(\"./datas/dataset_completo.csv\", encoding=\"utf-8\", index=False)"
   ]
  }
 ],
 "metadata": {
  "kernelspec": {
   "display_name": "venv",
   "language": "python",
   "name": "python3"
  },
  "language_info": {
   "codemirror_mode": {
    "name": "ipython",
    "version": 3
   },
   "file_extension": ".py",
   "mimetype": "text/x-python",
   "name": "python",
   "nbconvert_exporter": "python",
   "pygments_lexer": "ipython3",
   "version": "3.12.8"
  }
 },
 "nbformat": 4,
 "nbformat_minor": 2
}
